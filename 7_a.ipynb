{
 "cells": [
  {
   "cell_type": "markdown",
   "metadata": {},
   "source": [
    "# 2 Boyutlu Sonlu Eleman Metodu\n",
    "Bu bölümde 2 boyutlu elemanlar (üçgen, kare gibi) kullanarak 2 boyutlu kısmi diferansiyel denklemlerin nasıl çözümlendiğini ele alacağız. 1 boyutlu elemanlardan farklı olarak, 2 boyutlu elemanların şekil fonksiyonlarının nasıl elde edildiğini adım adım anlatacağız."
   ]
  }
 ],
 "metadata": {
  "kernelspec": {
   "display_name": "Python 3",
   "language": "python",
   "name": "python3"
  },
  "language_info": {
   "codemirror_mode": {
    "name": "ipython",
    "version": 3
   },
   "file_extension": ".py",
   "mimetype": "text/x-python",
   "name": "python",
   "nbconvert_exporter": "python",
   "pygments_lexer": "ipython3",
   "version": "3.8.10"
  }
 },
 "nbformat": 4,
 "nbformat_minor": 4
}
