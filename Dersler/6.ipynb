{
 "cells": [
  {
   "cell_type": "markdown",
   "metadata": {},
   "source": [
    "# Eksenel Titreşen  Elastik Çubuk - Mod Şekli ve Modal Titreşim Frekansları\n",
    "\n",
    "Bu bölümde, ders 4'te eksenel yük altında şekil değiştirmesini hesapladığımız elastik çubuğun zamana bağlı olarak nasıl davrandığını (dinamik davranışını) irdeleyeceğiz. \n",
    "\n",
    "Hatırlayacak olursak 4. bölümdeki problem statik idi, yani cisim üzerine etki eden tüm kuvvetlerin toplamı sıfıra eşitti. \n",
    "\n",
    "Dinamik problemlerde ise sisteme etki eden tüm kuvvetlerin toplamı sıfır olmaz. Yani 4. bölümde denklem (1)'in sağ tarafı 0'a eşit olmayacaktır. Bu durumda denklemin sağ tarafını lineer momentumun değişimine eşitleyeceğiz. Kısaca statik durum, dinamik durumun özel bir hali olarak düşünebilir. Newton'un 2. yasasını yazarsak:\n",
    "\n",
    "$$ \\sum F=\\frac{d(mV)}{dt} \\tag{1} $$\n",
    "\n",
    "denklemin sağ tarafının sıfır olduğu durumun statik durum, sıfırdan farklı olduğu durumun dinamik durum olduğunu kolayca anlayabiliriz. Ayrıca kütlenin sabit olduğu problemlerde denklem (1) daha bilindik hali olan aşağıdaki formunda yazılabilir:\n",
    "\n",
    "$$ \\sum F=ma. \\tag{2} $$\n",
    "\n",
    "Dinamik durumu ifade eden denklemi 4. bölümdeki denklem (9)'u manipüle ederek kolayca elde edebiliriz. Öncelikle 4. bölümdeki denklemimizi tekrar yazalım:\n",
    "\n",
    "$$ \\begin{equation} \\frac{d}{dx}\\left(AE\\frac{du}{dx}\\right)+b=0, \\quad \\quad \\quad 0 < x < l, \\quad \\sigma(0)=0,\\quad  u(l)=0. \\tag{3} \\end{equation} $$\n",
    "\n",
    "Şimdi denklemin sağ tarafını sıfır yerine lineer momentum değişimine eşitleyelim. İvmenin yer değiştirmenin zamana göre 2. türevi olduğunu biliyoruz o yüzden a yerine $ \\frac{d^2u2}{dt^2}$ yazalım. Son olarak denklemimiz hem konuma hem zamana göre türev içereceği için türev yerine kısmi türev kullanalım ve denklemimizin aşağıdaki son halini elde edelim:\n",
    "\n",
    "$$ \\begin{equation} \\frac{\\partial}{\\partial x}\\left(AE\\frac{\\partial u}{\\partial x}\\right)+b=m\\frac{\\partial ^2 u}{\\partial t^2}, \\quad \\quad on \\quad 0 < x < l, \\quad \\sigma(0)=0,\\quad  u(l)=0. \\tag{4} \\end{equation} $$\n",
    "\n",
    "Denklem (4)'te sınır koşulları verilmiştir, fakat problemimiz zamana da bağlı olduğu için başlangıç koşullarının da (initial conditions) verilmesi gerekmektedir. \n",
    "\n",
    "Biz bu bölümde dinamik yükleme altında zamana bağlı bir problem çözmeyip sadece mod şekillerini ve modal titreşim frekanslarını bulacağımız için bu aşamada başlangıç koşullarının verilmesine gerek yoktur. "
   ]
  },
  {
   "cell_type": "markdown",
   "metadata": {},
   "source": [
    "## Mod Şekli ve Modal Titreşim Frekansları\n",
    "\n",
    "Problemin sonlu elemanlar yöntemi ile çözümüne başlamadan önce mod şekli ve modal titreşim frekansları hakkında kısaca bahsetmek faydalı olacaktır. Yapı dinamiği ve titreşim ders kitaplarında konu anlatımları genellikle tek serbestlik dereceli basit yay-kütle sistemlerinden başlayıp, çok serbestlik dereceli yay-kütle sistemleri ve kiriş yada plaka gibi sürekli sistemlerin incelenmesi ile devam eder. En basit durum olan tek serbestlik dereceli sistemi incelemeye de serbest titreşim durumu ile başlarız. \n",
    "\n",
    "Serbest titreşim durumu, sisteme etki eden herhangi bir dış kuvvetin olmadığı, sadece bir başlangıç hızı ve/veya yer değiştirmesi verilen durumdur. Bu durumda sistemin hareketi biçiminin [harmonik](https://tr.wikipedia.org/wiki/Basit_harmonik_hareket), yani belirli bir frekansı olan tekrarlı bir hareket olduğunu görürüz. Bu basit sistemi serbest titreşim durumundaki frekansı ile yüklediğimizde sistemin rezönansa girdiğini yani yer değişmelerin sürekli artarak büyüdüğünü gözlemleriz. \n",
    "\n",
    "Çok serbestlik dereceli sistemleri yada sürekli sistemleri incelediğimizde ise bu sistemlerin de harmonik hareket yapabildiğini keşfederiz. Bu sistemlerin tek serbestlik dereceli sistemin aksine birden fazla harmonik hareket biçimi olduğunu, bu hareketlerin şeklinin ve frekansının farklı olduğu görürüz. Bu harmonik hareketlerin şekline mod şekli, frekanslarına ise modal titreşim frekansı ismini veririz. \n",
    "\n",
    "Peki mod şekilleri ve modal titreşim frekansları neden önemlidir? Hatırlanacağı üzere herhangi bir fonksiyonu Fourier dönüşümü ile sinüs ve kosinüs toplamı cinsinden yazabiliyorduk. Bu da demek oluyor ki bir yapı üzerine etki edebilecek herhangi bir yüklemeyi harmonik yüklemelerin toplamı cinsinden yazabiliriz. Bu da bize yapımızın üzerine etki edecek yüklerin frekansına göre yapı tasarımı yapıp rezönanstan kaçınmamıza olanak sağlar. \n",
    "\n",
    "Yapı dinamiği teorisinde lineer sistemlerin herhangi bir yükleme altındaki hareket biçiminin mod şekillerinin toplamı cinsinden yazılabileceği, her mod şeklinin belirli bir katkı oranı olduğu bilinmektedir. Bunun sağladığı avantaj ise yapımızın maruz kalmasını istemediğimiz bir şekil değiştirme şekli varsa, yapıyı bu davranıştan kaçınacak şekilde tasarlayabilmemizdir. Örneğin inşaat mühendisliğinde yapıların burulma etkisine maruz kalması çok istenmez. O yüzden yapı tasarlanırken en büyük katkı yapan mod şeklinin burulma mod şekli olmasından kaçınılır."
   ]
  },
  {
   "cell_type": "markdown",
   "metadata": {},
   "source": [
    "## Zayıf formun türetilmesi\n",
    "\n",
    "\n",
    "Şimdi denklemimizin zayıf formunu elde ederek devam edebiliriz. Geçtiğimiz bölümlerde de olduğu gibi ağırlık kalıntı yöntemini kullanalım ve denklemimizi integral formunda aşağıdaki gibi yazalım:\n",
    "\n",
    "$$ \\begin{equation} \\int_{0}^{l} v\\left(\\frac{\\partial}{\\partial x}\\left(AE\\frac{\\partial u}{\\partial x}\\right)+b-m\\frac{\\partial ^2 u}{\\partial t^2}\\right) \\,dx\\ =0. \\tag{5} \\end{equation} $$\n",
    "\n",
    "Kısmi integrasyon yöntemi ile denklem (5)'i manipüle edelim ve türev derecesini düşürelim:\n",
    "\n",
    "$$ \\left(vAE\\frac{\\partial u}{\\partial x}\\right) \\Big|_0^l +\\int_{0}^{l}vb\\,dx\\ - \\int_{0}^{l} \\frac{\\partial v}{\\partial x}AE\\frac{du}{dx} \\,dx\\ = \\int_{0}^{l} v\\left(m\\frac{\\partial ^2 u}{\\partial t^2}\\right). \\tag{6} $$\n",
    "\n",
    "Sol taraftaki ilk ifade 4. bölümlerden hatırlanabileceği gibi sınır koşullarının uygulanması sırasında kaybolur. Son olarak sol taraftaki ikinci terim de yükü ifade ettiği için serbest titreşim durumunda $b=0$ olması gerekir ve denklemimiz aşağıdaki hali alır:\n",
    "\n",
    "$$  \\int_{0}^{l} \\frac{\\partial v}{\\partial x}AE\\frac{du}{dx} \\,dx\\ + \\int_{0}^{l} v\\left(m\\frac{\\partial ^2 u}{\\partial t^2}\\right) = 0. \\tag{7} $$"
   ]
  },
  {
   "attachments": {},
   "cell_type": "markdown",
   "metadata": {},
   "source": [
    "## Sonlu Elemanlar Modeli\n",
    "\n",
    "\n",
    "Şimdi Galerkin yöntemini kullanalım ve test ve deneme fonksiyonlarını ve türevlerini baz fonksiyonları cinsinden aşağıdaki gibi yazalım:\n",
    "\n",
    "$$ u_{n}(x)=\\sum_{i=1}^n u_{i}N_{i}(x) \\quad \\quad v_{n}(x)=\\sum_{j=1}^n c_{j}N_{j}(x) \\quad \\quad \\frac{\\partial u_{n}}{\\partial x}=\\sum_{i=1}^n u_{i}\\frac{\\partial N_{i}}{\\partial x} \\quad \\quad \\frac{\\partial v_{n}}{\\partial x}=\\sum_{j=1}^n c_{j}\\frac{\\partial N_{j}}{\\partial x}. \\tag{8} $$\n",
    "\n",
    "Denklem (8)'deki terimleri denklem (7)'de yerine koyup denklemi yeniden düzenleyelim:\n",
    "\n",
    "$$  \\sum_{j=1}^n c_{j}\\sum_{i=1}^n u_{i}\\int_{0}^{l}\\frac{\\partial N_{j}}{\\partial x}AE\\frac{\\partial N_{i}}{\\partial x} \\,dx\\ + \\sum_{j=1}^n c_{j}\\int_{0}^{l} N_{j}(x)\\left(m\\frac{\\partial ^2 u}{\\partial t^2}\\right)\\,dx\\ = 0. \\tag{10} $$\n",
    "\n",
    "Bu noktada şu soru sorulabilir: Yer değiştirme fonksiyonu olan $u$ neden hem $x$'in hem de $t$'nin (zamanın) fonksiyonu olarak yazılmadı? Buradaki yaklaşım kısmı diferansiyel denklemlerin çözümünde kullanılan değişkenlerin ayrımı (separation of variables) yöntemi ile aynıdır. Yani $u(x,t)=X(x)Y(t)$ şeklinde yazılabileceği varsayımıdır. Denklem (10)'daki zamana göre türev içeren ifadeyi de o yüzden aşağıdaki yazabiliriz:\n",
    "\n",
    "$$ \\frac{\\partial ^2 u}{\\partial t^2}= \\sum_{i=1}^n N_{i}(x) \\ddot u \\tag{11}$$\n",
    "\n",
    "Burada $\\ddot u$ ifadesi, $u(x,t)=X(x)Y(t)$ denklemindeki $Y(t)$ karşılık gelir. Denklem (11)'i denklem (10)'da yerine koyar ve yeniden düzenlersek:\n",
    "\n",
    "$$  \\sum_{j=1}^n c_{j}\\sum_{i=1}^n u_{i}\\int_{0}^{l}\\frac{\\partial N_{j}}{\\partial x}AE\\frac{\\partial N_{i}}{\\partial x} \\,dx\\ + \\sum_{j=1}^n c_{j} \\sum_{i=1}^n \\int_{0}^{l} m N_{j}(x) N_{i}(x) \\ddot u\\,dx\\ = 0. \\tag{12} $$\n",
    "\n",
    "Denklem (12)'yi daha kısa yazabilmek için aşağıdaki ifadeleri tanımlayalım: \n",
    "\n",
    "$$  \\mathbf{K_{ji}}=\\int_{0}^{l} \\frac{\\partial N_{j}}{\\partial x}AE\\frac{\\partial N_{i}}{\\partial x} \\,dx\\ \\quad \\quad  \\mathbf{M_{ji}}=\\int_{0}^{l} N_{j}mN_{i} \\,dx\\ \\tag{13}$$\n",
    "\n",
    "Denklem (13)'teki ifadeleri denklem (12)'de yerine koyarsak:\n",
    "\n",
    "$$\\sum_{j=1}^n c_{j}\\sum_{i=1}^nK_{ji}u_{i} + \\sum_{j=1}^n c_{j}\\sum_{i=1}^nM_{ji}\\ddot u=0 \\tag{14}$$\n",
    "\n",
    "Burada $c_{j}$ gelişigüzel bir katsayı olduğu için ve her c değeri için denklemi sağladığı için denklem (14) aşağıdaki halini alır:\n",
    "\n",
    "$$\\sum_{j=1}^n \\sum_{i=1}^nK_{ji}u_{i} + \\sum_{j=1}^n \\sum_{i=1}^nM_{ji}\\ddot u=0 \\tag{15}$$\n",
    "\n",
    "Yukarıda mod şekli ve modal titreşim frekanslarını anlatırken belirttiğimiz gibi buradaki amacımız harmonik bir hareket biçimi bulmaktır. Harmonik hareket davranışında yer değiştirme ile ivme arasındaki ilişki aşağıdaki gibidir:\n",
    "\n",
    "$$\\ddot u= -\\lambda^2 u. \\tag{16}u$$\n",
    "\n",
    "Bunu basitçe sinüs ve kosinüs fonksiyonlarını inceleyerek anlayabiliriz:\n",
    "\n",
    "$$ \\frac{d\\left(cos^2(\\lambda t)\\right)}{dt^2}=-\\lambda^2cos(\\lambda t) \\quad ve \\quad \\frac{d\\left(sin^2(\\lambda t)\\right)}{dt^2}=-\\lambda^2sin(\\lambda t).$$\n",
    "\n",
    "Denklem (16)'yı denklem (15)'te yerine koyarsak:\n",
    "\n",
    "$$\\sum_{j=1}^n \\sum_{i=1}^nK_{ji}u_{i} - \\lambda^2 \\sum_{j=1}^n \\sum_{i=1}^nM_{ji}u_{i}=0 \\tag{17}$$\n",
    "\n",
    "elde ederiz. Denklem (17)'yi yeniden düzenleyip matris formunda yazarsak:\n",
    "\n",
    "$$\\left(\\mathbf{K}-\\lambda^2\\mathbf{M}\\right)\\mathbf{u}=0 \\tag{18}$$\n",
    "\n",
    "Burada $\\mathbf{K}$ sertlik matrisi $\\mathbf{M}$ ise kütle matrisidir. Elde ettiğimiz denklem lineer cebirde özdeğer problemi olarak sınıflandırılan bir problemdir. Bu problemleri Python'daki scipy kütüphanesindeki eig fonksiyonu ile kolaylıkla çözebiliriz. Ders 4'te gördüğümüz üzere lineer şekil fonksiyonlarının kullanıldığı, uzunluğu h olan bir eleman için yerel sertlik matrisini\n",
    "\n",
    "\n",
    "$$\\mathbf{k}_e = \\frac{AE}{h}\\begin{bmatrix}\n",
    "1 & -1\\\\\n",
    "-1 & 1\n",
    "\\end{bmatrix} $$\n",
    "\n",
    "şeklinde tanımlayabiliriz. Yerel kütle matrisini ise \n",
    "\n",
    "$$\\mathbf{m}_e = \\frac{\\rho A h}{6}\\begin{bmatrix}\n",
    "2 & 1\\\\\n",
    "1 & 2\n",
    "\\end{bmatrix} $$\n",
    "\n",
    "tanımlayabiliriz. Burada $\\rho$ yoğunluk $A$ ise kesit alanıdır. Yerel kütle matrisinin detaylı türetimi için [Logan](https://kntu.ac.ir/DorsaPax/userfiles/file/Mechanical/OstadFile/dr_nakhodchi/DarylL.LoganAFirstCourse.pdf)'ın kitabının 16.2.'nci bölümüne bakılabilir [1].\n",
    "\n",
    "## Elastik Çubuk Geometrisi ve Fiziksel Parametrelerin Tanımlanması\n",
    "\n",
    "Denklemdeki parametreler için yine işleri kolaylaştırması açısından çubuğun tüm fiziksel özelliklerini içeren bir mesh(ağ) sınıfı oluşturalım:"
   ]
  },
  {
   "cell_type": "code",
   "execution_count": 145,
   "metadata": {},
   "outputs": [],
   "source": [
    "import numpy as np\n",
    "\n",
    "class BirBoyutluTitresenCubuk:\n",
    "    def __init__(self, uzunluk, eleman_sayısı, E, A, rho):\n",
    "        self.L = uzunluk\n",
    "        self.ES = eleman_sayısı\n",
    "        self.E = E\n",
    "        self.A = A\n",
    "        self.rho = rho\n",
    "        \n",
    "        self.NS = eleman_sayısı+1 # nokta sayısı\n",
    "        self.h = uzunluk/eleman_sayısı # eleman uzunluğu\n",
    "        self.koordinatlar = np.linspace(0,uzunluk,self.NS) # ağdaki noktaların koordinatları\n",
    "        self.k_e = (self.A*self.E/self.h)*np.array([[1, -1], [-1, 1]]) # yerel sertlik matrisi \n",
    "        self.m_e = (self.rho*self.A*self.h/6)*np.array([[2, 1], [1, 2]]) # yerel kütle matrisi"
   ]
  },
  {
   "cell_type": "markdown",
   "metadata": {},
   "source": [
    "## K ve M matrislerinin oluşturulması\n",
    "\n",
    "Şimdi çubuğumuzun geometrik ve malzeme özelliklerini belirletelim ve yerel matrislerimizi elde edelim:"
   ]
  },
  {
   "cell_type": "code",
   "execution_count": 146,
   "metadata": {},
   "outputs": [],
   "source": [
    "uzunluk = 10 # çubuk uzunluğu m\n",
    "eleman_sayısı = 50\n",
    "E = 30e9 # elastisite modülü Pa\n",
    "A = 0.5 # kesit alanı m^2\n",
    "rho = 7750 # yoğunluk\n",
    "cubuk = BirBoyutluTitresenCubuk(uzunluk,eleman_sayısı,E,A,rho)"
   ]
  },
  {
   "cell_type": "markdown",
   "metadata": {},
   "source": [
    "Yerel sertlik ve yerel kütle matrislerinden global sertlik ve kütle matrislerini elde edelim. Yine 4. ve 5. bölümde yaptığımız gibi yerel matrisleri birleştirerek global matrisleri kolayca elde edeceğiz. Aşağıda yerel sertlik ve yerel kütle matrislerini kullanarak global matrisleri oluşturan fonksiyonu tanımlayalım ve problemimizin global matrislerini elde edelim:"
   ]
  },
  {
   "cell_type": "code",
   "execution_count": 147,
   "metadata": {},
   "outputs": [],
   "source": [
    "def KM_oluştur(cubuk):\n",
    "    \n",
    "    K = np.zeros((cubuk.NS, cubuk.NS))\n",
    "    M = np.zeros((cubuk.NS, cubuk.NS))\n",
    "    for element in range(cubuk.ES):\n",
    "        K[element:element + 2, element:element + 2] += cubuk.k_e\n",
    "        M[element:element + 2, element:element + 2] += cubuk.m_e\n",
    "\n",
    "    return K, M\n",
    "Ke, Me = KM_oluştur(cubuk)"
   ]
  },
  {
   "attachments": {},
   "cell_type": "markdown",
   "metadata": {},
   "source": [
    "## Sınır Koşullarının Uygulanması\n",
    "\n",
    "Hesaplama adımına geçmeden sınır koşullarını uygulamamız gerekiyor. 4. bölümde de kullandığımız elastik çubuğun sağ ucu yani $x=L$ olduğu nokta duvara sabitlenmiş durumdadır. Bu sınır koşulu, matematiksel olarak $u(l)=0$ olarak ifade edilir. 4. bölümde tanıttığımız penaltı yöntemini burada tekrar kullanabiliriz. \n"
   ]
  },
  {
   "cell_type": "code",
   "execution_count": 148,
   "metadata": {},
   "outputs": [],
   "source": [
    "alpha = 10e-12 # numerik olarak problem yaşamamak için \n",
    "beta=1\n",
    "Ke[-1][-1] += (1)*beta*cubuk.A*cubuk.E/alpha  "
   ]
  },
  {
   "attachments": {},
   "cell_type": "markdown",
   "metadata": {},
   "source": [
    "## Denklem Sisteminin Çözülmesi \n",
    "\n",
    "Mod şekillerini ve modal titreşim frekanslarını elde etmek için türettiğimiz özdeğer problemini çözmemiz gerekiyor. Bunun için scipy kütüphanesindeki eig fonksiyonunu kullanacağız. Bu fonksiyon K ve M matrislerini verdiğimizde bize bu denklem sistemine ait özdeğer ve özvektörleri verir. Burada özdeğerler modal titreşim frekanslarının karesine karşılık gelirken özvektörler mod şekillerini verecektir. Şimdi fonksiyonu çağıralım ve çubuğumuzun mod şekillerini ve modal titreşim frekanslarını elde edelim:"
   ]
  },
  {
   "cell_type": "code",
   "execution_count": 149,
   "metadata": {},
   "outputs": [
    {
     "name": "stdout",
     "output_type": "stream",
     "text": [
      "[ 309.06311126+0.j  927.49738969+0.j 1546.84290436+0.j]\n"
     ]
    }
   ],
   "source": [
    "from scipy.linalg import eig\n",
    "özdeğerler,özvektörler =eig(Ke,Me)\n",
    "idx = özdeğerler.argsort()   \n",
    "özdeğerler = özdeğerler[idx]\n",
    "özvektörler = özvektörler[:,idx]\n",
    "\n",
    "frekanslar=np.sqrt(özdeğerler)\n",
    "print(frekanslar[0:3])"
   ]
  },
  {
   "attachments": {},
   "cell_type": "markdown",
   "metadata": {},
   "source": [
    "Bulunan özdeğerleri küçükten büyüğe sıralayıp kare kökünü alınca modal titreşim frekanslarını numerik olarak elde ettik. Şimdi elde ettiğimiz nümerik sonuçların doğruluğunu kontrol etmek için problemimizin analitik çözümüne bakalım. Sağ uçu sabitlenmiş elastik çubuğun eksenel titreşimde mod şekilleri ve modal titreşim frekansları aşağıdaki gibi tanımlanır:\n",
    "\n",
    "$$ \\lambda_e=\\frac{(2n-1)\\pi\\sqrt{\\frac{E}{\\rho}}}{2L} \\quad \\quad v(x)=cos\\left(\\frac{(2n-1)\\pi}{2L}x\\right). \\tag{18} $$\n",
    "\n",
    "Burada $\\lambda_e$ modal titreşim frekanslarını, $v(x)$ ise bu frekanslara karşılık gelen mod şekillerini ifade eder. Öncelikle analitik modal titreşim frekanslarını veren fonksiyonlarını verelim ve problemde incelediğimiz çubuğun ilk 3 modal titreşim frekansını bulalım:"
   ]
  },
  {
   "cell_type": "code",
   "execution_count": 150,
   "metadata": {},
   "outputs": [
    {
     "name": "stdout",
     "output_type": "stream",
     "text": [
      "[ 309.05064416  927.15193248 1545.2532208 ]\n"
     ]
    }
   ],
   "source": [
    "def lambda_analitik(n,E,rho,L):\n",
    "    return (2*n-1)*np.pi*np.sqrt(E/rho)/(2*L)\n",
    "n=np.array([1, 2, 3])\n",
    "özdeğer_analitik=lambda_analitik(n,cubuk.E,cubuk.rho,cubuk.L)\n",
    "print(özdeğer_analitik)"
   ]
  },
  {
   "attachments": {},
   "cell_type": "markdown",
   "metadata": {},
   "source": [
    "Görüldüğü üzere anatilik çözümlerle sonlu elemanlar yöntemi ile elde ettiğimiz değerler birbirine oldukça yakındır. Şimdi mod şekillerini görsel olarak karşılaştırabilmek için analitik olarak elde ettiğimiz mod şekillerini veren bir fonksiyon tanımlayalım ve ilk 3 mod şeklini elde edelim:"
   ]
  },
  {
   "cell_type": "code",
   "execution_count": 151,
   "metadata": {},
   "outputs": [],
   "source": [
    "def v_analitik(n,x,L):\n",
    "    return np.cos((2*n-1)*np.pi/(2*L)*x)\n",
    "n2=np.array([[1],[2],[3]])\n",
    "x_analitik=np.linspace(0,cubuk.L,1000)\n",
    "özvektör_analitik=v_analitik(n2,x_analitik,cubuk.L)\n"
   ]
  },
  {
   "attachments": {},
   "cell_type": "markdown",
   "metadata": {},
   "source": [
    " Scipy kütüphanesindeki eig fonksiyonu normalleştirilmemiş özvektörleri verir. Bu yüzden sonlu elemanlar yöntemi ile elde ettiğimiz mod şekilleri ile anatilik çözümleri karşılaştırmadan önce sonlu elemanlar çözümlerini normalleştirmemiz gerekir. Yapmamız gereken numerik vektörleri vektörün mutlak değer olarak en büyük elemanına bölmektir. Görselleştirmek istediğimiz mod şeklini seçelim ve normalize edelim. Burada dikkat edilmesi gereken nokta yukarıda denklemler tanımlanırken n indisi 1'den başladığı halde python dilinde indis 0'dan başlar. O yüzden *mod_numarası* isimli bir değişken tanıyalım ve bu indis başlangıç numarası problemini de çözmüş olalım:"
   ]
  },
  {
   "cell_type": "code",
   "execution_count": 152,
   "metadata": {},
   "outputs": [],
   "source": [
    "mod_numarası=1\n",
    "özvektör_numerik=özvektörler[:,mod_numarası-1]\n",
    "özvektör_numerik/=max(özvektör_numerik,key=abs)"
   ]
  },
  {
   "attachments": {},
   "cell_type": "markdown",
   "metadata": {},
   "source": [
    "Şimdi son olarak numerik ve analitik sonuçları görsel olarak karşılaştırabiliriz. "
   ]
  },
  {
   "cell_type": "code",
   "execution_count": 153,
   "metadata": {},
   "outputs": [
    {
     "data": {
      "text/plain": [
       "<matplotlib.legend.Legend at 0x20dc42be3d0>"
      ]
     },
     "execution_count": 153,
     "metadata": {},
     "output_type": "execute_result"
    },
    {
     "data": {
      "image/png": "[encoded data removed]",
      "text/plain": [
       "<Figure size 640x480 with 1 Axes>"
      ]
     },
     "metadata": {},
     "output_type": "display_data"
    }
   ],
   "source": [
    "import matplotlib.pyplot as plt\n",
    "plt.plot(x_analitik,özvektör_analitik[mod_numarası-1],label=\"analitik\")\n",
    "plt.plot(cubuk.koordinatlar,özvektör_numerik,label=\"SEA\")\n",
    "plt.legend()"
   ]
  },
  {
   "cell_type": "markdown",
   "metadata": {},
   "source": [
    "Mod şekillerinden eksenel titreşimi zihinde canlandırmak zor olabilir. O yüzden görsel olarak görmekte faydalı olacaktır. [Bu videoda](https://www.youtube.com/watch?v=wFRRWxrn54U) bir ucu sabitlenmiş elastik bir çubuğun ilk 3 modu gösterilmektedir."
   ]
  },
  {
   "attachments": {},
   "cell_type": "markdown",
   "metadata": {},
   "source": [
    "## Referanslar\n",
    "[1] Logan, D. L. (2022). First Course in the Finite Element Method, Enhanced Edition, SI Version. Cengage Learning."
   ]
  }
 ],
 "metadata": {
  "kernelspec": {
   "display_name": "Python 3",
   "language": "python",
   "name": "python3"
  },
  "language_info": {
   "codemirror_mode": {
    "name": "ipython",
    "version": 3
   },
   "file_extension": ".py",
   "mimetype": "text/x-python",
   "name": "python",
   "nbconvert_exporter": "python",
   "pygments_lexer": "ipython3",
   "version": "3.11.0"
  }
 },
 "nbformat": 4,
 "nbformat_minor": 2
}
