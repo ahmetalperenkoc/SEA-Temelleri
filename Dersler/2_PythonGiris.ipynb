{
 "cells": [
  {
   "cell_type": "markdown",
   "id": "1061d655",
   "metadata": {},
   "source": [
    "# Python Programlama Diline Giriş\n",
    "\n",
    "Python programlama dili, bilgisayardaki herhangi bir işlemi gerçekleştirebileceğiniz bir yüksek seviye (high-level) programlama dilidir. İlk sürümü 1991 yılında ortaya çıkarılmıştır. Bugün, diğer programlama dillerine kıyasla görece yeni bir programlama dili olmasına rağmen C++ ve Java gibi dilleri sollayarak <a href=\"https://bootcamp.berkeley.edu/blog/most-in-demand-programming-languages/\" target=\"_blank\">en çok kullanılan 2. programlama dili olmuştur.</a> Ek olarak, herhangi bir kullanım ücreti yoktur.\n",
    "\n",
    "Mühendislik dünyasında sıkça kullanılan MATLAB, kullanıcı dostu olmasının yanında ücretsiz bir yazılım değildir ( eğer bir öğrenci veya akademi hesabınız yoksa). Bu durumda Python dili, güçlü kütüphaneleriyle ve kullanıcı dostu bir programlama dili olmasıyla bugün yürütülen birçok mühendislik probleminde yoğun bir şekilde kullanılmaktadır.\n",
    "\n",
    "Aynı şekilde sonlu elemanlar alanında da Python programlama diliyle geliştirilen çok güçlü çözücüler vardır ve geliştirmeleri sürekli devam etmektedir (Örnek: <a href=\"https://fenicsproject.org/FEniCSX\" target=\"_blank\">FEniCSx</a>). Bu derste Python programlama dilinin özelliklerine ve bazı örneklere değinmek derslerin anlaşılması açısından faydalı olacaktır."
   ]
  },
  {
   "cell_type": "markdown",
   "id": "4297e385",
   "metadata": {},
   "source": [
    "## Eğitimde Kullanılabilecek Kütüphaneler\n",
    "\n",
    "Sonlu elemanlar analizlerinde sıklıkla kullanılabilecek kütüphaneler **numpy**(matris, vektör oluşturma), **scipy**(sistem çözümleme) ve **matplotlib**(çözümü görselleştirme)** olarak sıralanabilir. "
   ]
  },
  {
   "cell_type": "markdown",
   "id": "ced59a0f",
   "metadata": {},
   "source": [
    "### Numpy Kütüphanesi\n",
    "\n",
    "Numpy ile denklem modellemelerinde kullanmak üzere hem vektör hem matrisler oluşturabiliriz. Öncelikle numpy kütüphanesini çağıralım;"
   ]
  },
  {
   "cell_type": "code",
   "execution_count": 32,
   "id": "d86ff5a4",
   "metadata": {},
   "outputs": [],
   "source": [
    "import numpy as np"
   ]
  },
  {
   "cell_type": "markdown",
   "id": "ab1f9757",
   "metadata": {},
   "source": [
    "Şimdi 4 Elemandan oluşan bir vektör oluşturalım;"
   ]
  },
  {
   "cell_type": "code",
   "execution_count": 33,
   "id": "5291f260",
   "metadata": {},
   "outputs": [],
   "source": [
    "F = np.zeros(4)"
   ]
  },
  {
   "cell_type": "markdown",
   "id": "eca92b1e",
   "metadata": {},
   "source": [
    "`F` vektörünün İçindeki elemanlara bakmak için print fonksiyonunu kullanabiliriz;"
   ]
  },
  {
   "cell_type": "code",
   "execution_count": 34,
   "id": "66bf6f17",
   "metadata": {},
   "outputs": [
    {
     "name": "stdout",
     "output_type": "stream",
     "text": [
      "[0. 0. 0. 0.]\n"
     ]
    }
   ],
   "source": [
    "print(F)"
   ]
  },
  {
   "cell_type": "markdown",
   "id": "f326253d",
   "metadata": {},
   "source": [
    "İstersek herhangi 2 sayı arasında eşit şekilde bölünmüş aralıklardan oluşan bir vektör de tanımlayabiliriz;"
   ]
  },
  {
   "cell_type": "code",
   "execution_count": 35,
   "id": "c5132722",
   "metadata": {},
   "outputs": [
    {
     "name": "stdout",
     "output_type": "stream",
     "text": [
      "[0.         0.11111111 0.22222222 0.33333333 0.44444444 0.55555556\n",
      " 0.66666667 0.77777778 0.88888889 1.        ]\n"
     ]
    }
   ],
   "source": [
    "L = np.linspace(0,1,10)\n",
    "print(L)"
   ]
  },
  {
   "cell_type": "markdown",
   "id": "8fef5296",
   "metadata": {},
   "source": [
    "Şimdi de 2 boyutlu yapilara giriş olarak 4x4lük sıfırlardan oluşan bir F matrisi oluşturalım; "
   ]
  },
  {
   "cell_type": "code",
   "execution_count": 36,
   "id": "a3be6ead",
   "metadata": {},
   "outputs": [
    {
     "name": "stdout",
     "output_type": "stream",
     "text": [
      "[[0. 0. 0. 0.]\n",
      " [0. 0. 0. 0.]\n",
      " [0. 0. 0. 0.]\n",
      " [0. 0. 0. 0.]]\n"
     ]
    }
   ],
   "source": [
    "K = np.zeros((4,4))\n",
    "print(K)"
   ]
  },
  {
   "cell_type": "markdown",
   "id": "3ced4ffe",
   "metadata": {},
   "source": [
    "Oluşturduğumuz matrisin diyagonal kısmını 1 rakamı ile dolduralım. Bunun için `for` döngüsü kullanabiliriz;"
   ]
  },
  {
   "cell_type": "code",
   "execution_count": 37,
   "id": "19464fcb",
   "metadata": {},
   "outputs": [
    {
     "name": "stdout",
     "output_type": "stream",
     "text": [
      "[[1. 0. 0. 0.]\n",
      " [0. 1. 0. 0.]\n",
      " [0. 0. 1. 0.]\n",
      " [0. 0. 0. 1.]]\n"
     ]
    }
   ],
   "source": [
    "for indis in range(4):\n",
    "    K[indis][indis] = 1\n",
    "print(K)"
   ]
  },
  {
   "cell_type": "markdown",
   "id": "981d5da7",
   "metadata": {},
   "source": [
    "## Scipy Kütüphanesi\n",
    "Scipy kütüphanesi bilimsel araştırmalarda sıklıkla kullanılan fonksiyonları içermektedir. Biz Scipy kütüphanesini oluşturacağımız lineer denklem sistemlerinin çözümü için kullanabiliriz. \n",
    "\n",
    "Aşağıdaki 4 bilinmeyenli 4 lineer denklem sistemini düşünelim;\n",
    "\n",
    "$$a+b+c=70$$ \n",
    "$$a+b+d=80$$\n",
    "$$a+b+d=75$$\n",
    "$$b+c+d=70$$\n",
    "\n",
    "Bu sistemi modellemek için yukarıda oluşturduğumuz `F` vektörü ve `K` matrisi kullanabiliriz. Bunun için öncelikle F vektörünü düzenleyelim;"
   ]
  },
  {
   "cell_type": "code",
   "execution_count": 38,
   "id": "3065d15a",
   "metadata": {},
   "outputs": [
    {
     "name": "stdout",
     "output_type": "stream",
     "text": [
      "[75. 80. 75. 70.]\n"
     ]
    }
   ],
   "source": [
    "F[0] = 75\n",
    "F[1] = 80\n",
    "F[2] = 75\n",
    "F[3] = 70\n",
    "print(F)"
   ]
  },
  {
   "cell_type": "markdown",
   "id": "0e4ee7e3",
   "metadata": {},
   "source": [
    "Burada dikkat etmemiz gereken bir husus olarak, Python'da indisler MATLAB'in aksine 1'den değil 0 rakamından başlar. Bu yüzden ilk elemana erişmek için her zaman 0 indisini kullanacağız. \n",
    "\n",
    "Şimdi `K` matrisini düzenleyelim. Öncelikle daha önce kısmen 1'lerle doldurduğumuz matrisi tekrar sıfırlayalım; "
   ]
  },
  {
   "cell_type": "code",
   "execution_count": 39,
   "id": "d950a67b",
   "metadata": {},
   "outputs": [],
   "source": [
    "K.fill(0)"
   ]
  },
  {
   "cell_type": "markdown",
   "id": "7ae0723d",
   "metadata": {},
   "source": [
    "Birinci denklem olan $$a+b+c=70$$\n",
    "denkleminin sol tarafını modelleyecek şekilde `K` matrisinin ilk satırını değiştirelim;"
   ]
  },
  {
   "cell_type": "code",
   "execution_count": 40,
   "id": "932c3f73",
   "metadata": {},
   "outputs": [],
   "source": [
    "K[0][0] = 1\n",
    "K[0][1] = 1\n",
    "K[0][2] = 1\n",
    "K[0][3] = 0"
   ]
  },
  {
   "cell_type": "markdown",
   "id": "5c35233b",
   "metadata": {},
   "source": [
    "Aynı işlemi diğer denklemler için de yapalım;"
   ]
  },
  {
   "cell_type": "code",
   "execution_count": 41,
   "id": "f5152d1e",
   "metadata": {},
   "outputs": [
    {
     "name": "stdout",
     "output_type": "stream",
     "text": [
      "[[1. 1. 1. 0.]\n",
      " [1. 1. 0. 1.]\n",
      " [1. 0. 1. 1.]\n",
      " [0. 1. 1. 1.]]\n"
     ]
    }
   ],
   "source": [
    "# İkinci denklem\n",
    "K[1][0] = 1\n",
    "K[1][1] = 1\n",
    "K[1][2] = 0\n",
    "K[1][3] = 1\n",
    "# Üçüncü denklem\n",
    "K[2][0] = 1\n",
    "K[2][1] = 0\n",
    "K[2][2] = 1\n",
    "K[2][3] = 1\n",
    "# Dördüncü denklem\n",
    "K[3][0] = 0\n",
    "K[3][1] = 1\n",
    "K[3][2] = 1\n",
    "K[3][3] = 1\n",
    "print(K)"
   ]
  },
  {
   "cell_type": "markdown",
   "id": "8a73d3d8",
   "metadata": {},
   "source": [
    "Artık denklem sistemini çözebiliriz. Bunun için scipy kütüphanesindeki <a href=\"https://docs.scipy.org/doc/scipy/reference/generated/scipy.linalg.solve.html\" target=\"_blank\"> scipy.linalg.solve() </a> fonksiyonunu kullanabiliriz. Bunun için ilk önce fonksiyonu çağıralım; "
   ]
  },
  {
   "cell_type": "code",
   "execution_count": 42,
   "id": "e5ae6615",
   "metadata": {},
   "outputs": [],
   "source": [
    "from scipy.linalg import solve"
   ]
  },
  {
   "cell_type": "markdown",
   "id": "61f12a75",
   "metadata": {},
   "source": [
    "Çözüm vektörümüz `u` olsun. Şimdi matrisleri fonksiyonun içine yerleştirebiliriz;"
   ]
  },
  {
   "cell_type": "code",
   "execution_count": 43,
   "id": "bd3e4263",
   "metadata": {},
   "outputs": [
    {
     "name": "stdout",
     "output_type": "stream",
     "text": [
      "[30. 25. 20. 25.]\n"
     ]
    }
   ],
   "source": [
    "u = solve(K,F)\n",
    "print(u)"
   ]
  },
  {
   "cell_type": "markdown",
   "id": "18b79696",
   "metadata": {},
   "source": [
    "`u` vektörünün elemanları sırasıyla `a,b,c ve d` bilinmeyenlerini göstermektedir. Bulunan değerleri yerine koyarak çözümü kontrol edebilirsiniz."
   ]
  },
  {
   "cell_type": "markdown",
   "id": "3390ab30",
   "metadata": {},
   "source": [
    "### Matplotlib Kütüphanesi"
   ]
  }
 ],
 "metadata": {
  "kernelspec": {
   "display_name": "Python 3 (ipykernel)",
   "language": "python",
   "name": "python3"
  },
  "language_info": {
   "codemirror_mode": {
    "name": "ipython",
    "version": 3
   },
   "file_extension": ".py",
   "mimetype": "text/x-python",
   "name": "python",
   "nbconvert_exporter": "python",
   "pygments_lexer": "ipython3",
   "version": "3.10.6"
  }
 },
 "nbformat": 4,
 "nbformat_minor": 5
}
