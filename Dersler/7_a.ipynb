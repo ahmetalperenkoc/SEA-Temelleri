{
 "cells": [
  {
   "cell_type": "markdown",
   "metadata": {},
   "source": [
    "# 2 Boyutlu Sonlu Eleman Metodu\n",
    "\n",
    "Bu bölümde 2 boyutlu elemanlar (üçgen, kare gibi) kullanarak 2 boyutlu kısmi diferansiyel denklemlerin nasıl çözümlendiğini ele alacağız. 1 boyutlu elemanlardan farklı olarak, 2 boyutlu elemanların şekil fonksiyonlarının nasıl elde edildiğini adım adım anlatacağız.\n",
    "\n",
    "2 boyutlu sonlu elemanlar yönteminde çözümlenen ağ yapısı, 1 boyutlu problemlerin ağ yapılarından daha karmaşıktır. Fakat 2 boyutta değişkenlerin davranışlarının daha detaylı modellenebilmesi ve gözlemlenebilmesi mümkün hale gelmektedir. Biz yine bu bölümde ısı transfer problemini ele alacağız. Ders 5'tekine benzer şekilde denklem türetme ile başlayıp adım adım problemi çözümleyeceğiz."
   ]
  },
  {
   "cell_type": "markdown",
   "metadata": {},
   "source": [
    "## 2 Boyutlu Isı Transferi\n",
    "\n",
    "Aşağıdaki şekilde 2 boyutlu ısı transferinin şematize edilmiş şekli verilmiştir.\n",
    "\n",
    "<img src=\"Resimler/Ders7/2BoyutluProblem.png\" align=\"center\" width= \"600\"/>"
   ]
  },
  {
   "cell_type": "markdown",
   "metadata": {},
   "source": [
    "Yukarıdaki şekilden hareketle ısı transferini modelleyen denklemi enerjinin korunumu yasasına göre türetelim. Yukarıdaki geometrinin en küçük birimini düşünelim:"
   ]
  },
  {
   "cell_type": "markdown",
   "metadata": {},
   "source": [
    "<img src=\"Resimler/Ders7/BirimEleman.png\" align=\"center\" width= \"600\"/>"
   ]
  },
  {
   "cell_type": "markdown",
   "metadata": {},
   "source": [
    "### Güçlü Formun Türetilmesi\n",
    "\n",
    "Bu geometriden hareketle belirtilen sistemi ısı üretimsiz ve zamandan bağımsız olarak ele alıp giren ısı-çıkan ısı dengesini yazalım:\n",
    "\n",
    "$$\\text{giren ısı = çıkan ısı}$$\n",
    "\n",
    "$$q_x(dydz)+q_y(dxdz)=(q_x+dq_x)dydz+(q_y+dq_y)dxdz+2h(T-T_{\\infty})dxdy$$\n",
    "\n",
    "$$0 = dq_xdydz+dq_ydxdz+2h(T-T_{\\infty})dxdy$$\n",
    "\n",
    "Taşınım terimdeki $2$ katsayısı hem ön yüzden hem de görünmeyen arka yüzden gerçekleşen taşınımla ısı transferini modellemek içindir. Tüm denklemi birim hacim olan $dxdydz$ ile bölersek:\n",
    "\n",
    "$$\\frac{dq_x}{dx}+\\frac{dq_y}{dy}+\\frac{2h}{dz}(T-T_{\\infty})=0 \\tag{1}$$ \n",
    "\n",
    "elde ederiz. Diferansiyel eleman içinde:\n",
    "\n",
    "$$dq_x= \\frac{\\partial q_x}{\\partial x}dx, \\qquad dq_y= \\frac{\\partial q_y}{\\partial y}dy$$\n",
    "\n",
    "olur. Bu özdeşlikleri denklem (1)'de yerine yerleştirirsek:\n",
    "\n",
    "$$\\frac{\\partial q_x}{\\partial x}+\\frac{\\partial q_y}{\\partial y}+\\frac{2h}{dz}(T-T_{\\infty})=0 \\tag{2}$$ \n",
    "\n",
    "sonucuna ulaşırız. Ders 4'ten hatırlanacağı üzere Fourier yasasını kullanarak ısı transfer türevleri yerine $-k\\frac{\\partial T}{\\partial x}$ ve $-k\\frac{\\partial T}{\\partial y}$ değerlerini yazarsak: \n",
    "\n",
    "$$-\\frac{\\partial}{\\partial x}\\left( k \\frac{\\partial T}{\\partial x}\\right)-\\frac{\\partial }{\\partial y}\\left(k \\frac{\\partial T}{\\partial y}\\right)+\\frac{2h}{dz}(T-T_{\\infty})=0 \\tag{3}$$ \n",
    "\n",
    "$h_z = \\frac{2h}{dz} = \\frac{2h}{D}$ tanımını denklem 3'te yerine koyarsak:\n",
    "\n",
    "$$-\\frac{\\partial}{\\partial x}\\left(k \\frac{\\partial T}{\\partial x}\\right)-\\frac{\\partial }{\\partial y}\\left(k \\frac{\\partial T}{\\partial y}\\right)+h_z(T-T_{\\infty})=0 \\tag{4}$$ \n",
    "\n",
    "Son olarak denklemin sınır koşullarını da yazalım:\n",
    "\n",
    " $$ -k \\frac{\\partial T}{\\partial \\mathbf{n}} = \\begin{cases} \\bar{q_1}, & y=H \\\\ \\bar{q_2}, & x=L \\\\\n",
    " \\bar{q_3}, & y=0 \\end{cases} $$\n",
    " \n",
    " ve\n",
    " \n",
    " $$T = \\bar{T}, x=0$$\n",
    " \n",
    " sınır koşulları, şematize eden şekli denklem 4 ile birlikte tamamen modellemektedir."
   ]
  },
  {
   "cell_type": "markdown",
   "metadata": {},
   "source": [
    "### Zayıf Formun Türetilmesi\n"
   ]
  },
  {
   "cell_type": "markdown",
   "metadata": {},
   "source": [
    "### Diverjans Teoremi"
   ]
  }
 ],
 "metadata": {
  "kernelspec": {
   "display_name": "Python 3 (ipykernel)",
   "language": "python",
   "name": "python3"
  },
  "language_info": {
   "codemirror_mode": {
    "name": "ipython",
    "version": 3
   },
   "file_extension": ".py",
   "mimetype": "text/x-python",
   "name": "python",
   "nbconvert_exporter": "python",
   "pygments_lexer": "ipython3",
   "version": "3.10.6"
  }
 },
 "nbformat": 4,
 "nbformat_minor": 4
}
