{
 "cells": [
  {
   "cell_type": "markdown",
   "metadata": {},
   "source": [
    "# 2 Boyutlu Problemlerin Sonlu Elemanlar Yöntemi İle Çözümü \n",
    "\n",
    "Problemlerin 2 boyutta ele alınması, problemdeki değişkenlerin davranışlarının daha detaylı modellenebilmesini ve gözlemlenebilmesini mümkün hale getirmektedir. Tıpkı 1 boyutlu problemleri ele aldığımız gibi 2 boyutlu problemleri ele alırken de o problemi modelleyen kısmi diferansiyel denklemleri türetmek gerekir. 1 boyutlu sonlu elemanlar yöntemi ile kıyaslandığında, 2 boyutlu sonlu elemanlar yönteminin farklılıkları:\n",
    "- Türetilen diferansiyel denklemin 2 boyutlu uzayda fiziksel problemi modelleyebilmesi\n",
    "- Problemin geometrisini modellemek için kullanılan ağ yapısının daha detaylı olabilmesi\n",
    "- Daha fazla sınıra sahip geometrik ağa sahip olunduğu için daha fazla sınır koşulunun uygulanabilmesi\n",
    "- Eleman sayısına bağlı olarak problemi numerik olarak çözümleme süresinin artabilmesi \n",
    "- Probleme bağlı olarak problemde farklı tip (üçgen, kare gibi) elemanların türetilip kullanılabilmesi\n",
    "- Hız veya ivme gibi vektörel bilinmeyenlere sahip problemlerin modellenebilmesi \n",
    "\n",
    "şeklinde maddelendirilebilir.\n",
    "\n",
    "2 boyutlu olarak ele alınabilecek birçok mühendislik problemi vardır. Örnek olarak: \n",
    "- Uçak kanadı etrafında sıkıştırılabilir/sıkıştırılamaz akışın incelenmesi \n",
    "- Yatay ve dikey yönlerde yüke maruz kalan plaka \n",
    "- Farklı kenarlarından ısı transferi gerçekleşen bir geometri\n",
    "- Burkulmaya maruz kalan bir çubuk\n",
    "- Rüzgar ve yapı etkileşimi\n",
    "\n",
    "gibi problemler verilebilir.\n",
    "\n",
    "Bu bölümde 2 boyutlu lineer elemanlar kullanarak 2 boyutlu kısmi diferansiyel denklemlerin nasıl çözümlendiğini ele alacağız. 1 boyutlu elemanlardan farklı olarak, 2 boyutlu lineer elemanların şekil fonksiyonlarının nasıl elde edildiğini adım adım anlatacağız. Başlangıç problemi olarak 5. derste yaptığımız gibi skaler bilinmeyen (sıcaklık) içeren ısı transfer problemini ele alacağız. Ders 5'tekine benzer şekilde problemin denklemini türeterek başlayıp adım adım problemi çözümleyeceğiz."
   ]
  },
  {
   "cell_type": "markdown",
   "metadata": {},
   "source": [
    "## 2 Boyutlu Isı Transferi\n",
    "\n",
    "Aşağıdaki şekilde 2 boyutlu ısı transferinin şematize edilmiş şekli verilmiştir.\n",
    "\n",
    "<img src=\"Resimler/Ders7/2BoyutluProblem.png\" align=\"center\" width= \"600\"/>"
   ]
  },
  {
   "cell_type": "markdown",
   "metadata": {},
   "source": [
    "Burada bir kanadın sol yanı sabit sıcaklık değerine sahiptir. Üst, yan ve alt kısımlarından ise iletimle ısı transferi gerçekleşmektedir. Ek olarak ön ve arka yüzlerinden de taşınımla ısı transferine maruz kalmaktadır. Yukarıdaki şekilden hareketle ısı transferini modelleyen denklemi enerjinin korunumu yasasına göre türetebiliriz. \n",
    "\n",
    "### Güçlü Formun Türetilmesi\n",
    "\n",
    "İlk olarak yukarıdaki geometrinin en küçük birimini düşünelim:"
   ]
  },
  {
   "cell_type": "markdown",
   "metadata": {},
   "source": [
    "<img src=\"Resimler/Ders7/BirimEleman.png\" align=\"center\" width= \"600\"/>"
   ]
  },
  {
   "cell_type": "markdown",
   "metadata": {},
   "source": [
    "Bu geometriden hareketle belirtilen sistemi ısı üretimsiz ve zamandan bağımsız olarak ele alıp giren ısı-çıkan ısı dengesini yazalım:\n",
    "\n",
    "$$\\text{giren ısı = çıkan ısı}$$\n",
    "\n",
    "$$q_x(dydz)+q_y(dxdz)=(q_x+dq_x)dydz+(q_y+dq_y)dxdz+2h(T-T_{\\infty})dxdy$$\n",
    "\n",
    "$$0 = dq_xdydz+dq_ydxdz+2h(T-T_{\\infty})dxdy$$\n",
    "\n",
    "Taşınım terimdeki $2$ katsayısı hem ön yüzden hem de görünmeyen arka yüzden gerçekleşen taşınımla ısı transferini modellemek içindir. Tüm denklemi birim hacim olan $dxdydz$ ile bölersek:\n",
    "\n",
    "$$\\frac{dq_x}{dx}+\\frac{dq_y}{dy}+\\frac{2h}{dz}(T-T_{\\infty})=0 \\tag{1}$$ \n",
    "\n",
    "elde ederiz. Diferansiyel eleman içinde:\n",
    "\n",
    "$$dq_x= \\frac{\\partial q_x}{\\partial x}dx, \\qquad dq_y= \\frac{\\partial q_y}{\\partial y}dy$$\n",
    "\n",
    "olur. Bu özdeşlikleri denklem (1)'de yerine yerleştirirsek:\n",
    "\n",
    "$$\\frac{\\partial q_x}{\\partial x}+\\frac{\\partial q_y}{\\partial y}+\\frac{2h}{dz}(T-T_{\\infty})=0 \\tag{2}$$ \n",
    "\n",
    "sonucuna ulaşırız. Ders 4'ten hatırlanacağı üzere Fourier yasasını kullanarak ısı transfer türevleri yerine $-k\\frac{\\partial T}{\\partial x}$ ve $-k\\frac{\\partial T}{\\partial y}$ değerlerini yazarsak: \n",
    "\n",
    "$$-\\frac{\\partial}{\\partial x}\\left( k \\frac{\\partial T}{\\partial x}\\right)-\\frac{\\partial }{\\partial y}\\left(k \\frac{\\partial T}{\\partial y}\\right)+\\frac{2h}{dz}(T-T_{\\infty})=0 \\tag{3}$$ \n",
    "\n",
    "ve $h_z = \\frac{2h}{dz} = \\frac{2h}{D}$ tanımını denklem 3'te yerine koyarsak:\n",
    "\n",
    "$$-\\frac{\\partial}{\\partial x}\\left(k \\frac{\\partial T}{\\partial x}\\right)-\\frac{\\partial }{\\partial y}\\left(k \\frac{\\partial T}{\\partial y}\\right)+h_z(T-T_{\\infty})=0 \\tag{4}$$ \n",
    "\n",
    "olarak yazabiliriz. Bu denklemi türev operatörü ($\\nabla$) kullanarak yazacak olursak:\n",
    "\n",
    "$$-\\nabla \\cdot (k \\nabla T)+h_z(T-T_{\\infty})=0 \\tag{5}$$ \n",
    "\n",
    "ifadesini buluruz. Son olarak denklemin sınır koşullarını da yazalım:\n",
    "\n",
    " $$ -k \\frac{\\partial T}{\\partial \\mathbf{n}} = \\begin{cases} \\bar{q_1}, & y=H \\\\ \\bar{q_2}, & x=L \\\\\n",
    " \\bar{q_3}, & y=0 \\end{cases} $$\n",
    " \n",
    " ve\n",
    " \n",
    " $$T = \\bar{T}, x=0$$\n",
    " \n",
    " sınır koşulları, şematize eden şekli denklem (5) ile birlikte tamamen modellemektedir."
   ]
  },
  {
   "cell_type": "markdown",
   "metadata": {},
   "source": [
    "### Zayıf Formun Türetilmesi\n",
    "\n",
    "Denklem (5)'in zayıf formunu türetirken yine Galerkin yöntemini kullanacağız. İlk olarak denklemi test fonksiyonu $v$ ile çarpıp 2 boyutlu ağ boyunca integralini alalım:\n",
    "\n",
    "$$\\int_{\\Omega} v \\big(-\\nabla \\cdot (k \\nabla T)+h_z(T-T_{\\infty}) \\big) d\\Omega = 0 \\tag{6}$$ \n",
    "\n",
    "veya \n",
    "\n",
    "$$\\int_{\\Omega} v \\big(\\nabla \\cdot (k \\nabla T) \\big) d\\Omega - \\int_{\\Omega} v \\big(h_z(T-T_{\\infty}) \\big) d\\Omega = 0 \\tag{6}$$ \n",
    "\n",
    "elde edilir. İlk integral olan:\n",
    "\n",
    "$$\\int_{\\Omega}v\\big(\\nabla \\cdot (k \\nabla T)\\big)d\\Omega$$\n",
    "\n",
    "ifadesinde görülen 2 adet türev operatöründen dolayı 2. dereceden türev vardır. Bu türevin derecesini türevlerin çarpımı kuralı olan:\n",
    "\n",
    "$$\\nabla \\cdot (ab) = a \\nabla \\cdot b + \\nabla a \\cdot b$$\n",
    "\n",
    "kullanarak $a$ yerine $v$, $b$ yerine $k\\nabla T$ yazarak düzenlediğimizde:\n",
    "\n",
    "$$\\nabla \\cdot (vk\\nabla T) = v \\nabla \\cdot k\\nabla T + \\nabla v \\cdot k\\nabla T$$\n",
    "\n",
    "ifadesini, yani\n",
    "\n",
    "$$v \\nabla \\cdot k\\nabla T = \\nabla \\cdot (vk\\nabla T) - \\nabla v \\cdot k\\nabla T$$\n",
    "\n",
    "özdeşliğini elde ederiz. Bu özdeşliği ilk integralde yerine yerleştirirsek:\n",
    "\n",
    "$$\\int_{\\Omega}\\nabla \\cdot (vk\\nabla T)d\\Omega - \\int_{\\Omega} \\nabla v \\cdot k\\nabla Td\\Omega \\tag{7} $$\n",
    "\n",
    "ifadesine ulaşırız. Dikkat edileceği üzere elde edilen ifadenin 1. teriminde halen 2. dereceden türev operatörü vardır. Bu terimi diverjans teoremini kullanarak yüzey integraline çevirip türevin derecesini düşürebiliriz. "
   ]
  },
  {
   "cell_type": "markdown",
   "metadata": {},
   "source": [
    "### Diverjans Teoremi\n",
    "\n",
    "Diverjans teoremi genel olarak diverjans ($\\nabla \\cdot$) içeren integralleri yüzey integrallerine dönüştürmekte sıklıkla kullanılır. Teorem en genel haliyle matematiksel olarak:\n",
    "\n",
    "$$\\int_{\\Omega} \\nabla \\cdot \\mathbf{a} d\\Omega = \\int_{\\partial \\Omega} \\mathbf{a} \\cdot \\mathbf{n} dS $$\n",
    "\n",
    "şeklinde ifade edilir. Diverjans fiziksel olarak vektörel büyüklük olan $\\mathbf{a}$'nın $\\Omega$ üzerinde ne kadar dağıldığını nicelik olarak ifade eder. Örnek olarak bir fıskiyenin etrafına ne kadar su saçtığı suya ait hız vektör alanının diverjansını hesaplayarak bulunabilir. Bu fıskiyenin taradığı alan boyunca ne kadar su saçtığı, taradığı alanın sınırlarından dışarıya akan su miktarına eşit olmalıdır. Diverjans teoremi de tam olarak bu fiziksel durumu matematiksel olarak ifade eder, dolayısıyla ağ integrallerinden sınır integrallerine geçiş yapabilmeyi sağlar. Buradan hareketle denklem (7)'nin ilk terimine diverjans teoremini uygularsak:\n",
    "\n",
    "$$\\int_{\\partial \\Omega}(vk\\nabla T) \\cdot \\mathbf{n} dS - \\int_{\\Omega} \\nabla v \\cdot k\\nabla Td\\Omega $$ \n",
    "\n",
    "ifadesini elde ederiz. Bu düzenlemelerden sonra denklem 6'yı tekrar yazacak olursak:\n",
    "\n",
    "$$\\int_{\\partial \\Omega}(vk\\nabla T) \\cdot \\mathbf{n} dS - \\int_{\\Omega} \\nabla v \\cdot k\\nabla Td\\Omega - \\int_{\\Omega} v \\big(h_z(T-T_{\\infty}) \\big) d\\Omega = 0  \\tag{8}$$ \n",
    "\n",
    "ifadesine ulaşırız. Son olarak türetilen denklem (8), denklem (5)'in zayıf formudur. Görüleceği üzere denklemdeki en yüksek türev derecesi artık 1'dir. Denklem (8)'deki ilk terim, problemin sınır koşullarını uygulamak için kullanılacaktır. \n",
    "\n",
    "Bir sonraki derste bu problemde kullanacağımız elemanların şekil fonksiyonlarını inceleyeceğiz."
   ]
  }
 ],
 "metadata": {
  "kernelspec": {
   "display_name": "Python 3",
   "language": "python",
   "name": "python3"
  },
  "language_info": {
   "codemirror_mode": {
    "name": "ipython",
    "version": 3
   },
   "file_extension": ".py",
   "mimetype": "text/x-python",
   "name": "python",
   "nbconvert_exporter": "python",
   "pygments_lexer": "ipython3",
   "version": "3.8.10"
  }
 },
 "nbformat": 4,
 "nbformat_minor": 4
}
