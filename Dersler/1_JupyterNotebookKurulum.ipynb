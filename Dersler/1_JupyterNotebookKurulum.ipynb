{
 "cells": [
  {
   "cell_type": "markdown",
   "id": "1061d655",
   "metadata": {},
   "source": [
    "# Windows İşletim Sisteminde Kurulum\n",
    "\n",
    "Eğer Windows işletim sistemi kullanıyorsanız öncelikle bilgisayarınıza Python'ı kurmanız gereklidir. \n",
    "\n",
    "Bunun için <a href=\"https://www.python.org/downloads/windows/\" target=\"_blank\">Python indirme sekmesinden</a> en güncel Python sürümünü indirebilirsiniz. Kurulum yaparken dikkat edilmesi gereken tek nokta kurulum dosyasını çalıştırdığınızda ilk ekranda \"Add Python 3.x to PATH\" seçeneğinin seçilmesidir. Kurulum başarılı bir biçimde tamamlandıktan sonra Windows komut panelini Win+R tuşlarına basıp cmd yazacak yada arama kısmına \"kontrol paneli\" yazacak açalım. Ardından açılan terminal penceresinde;\n",
    "\n",
    "`pip install notebook` veya `pip install jupyter`\n",
    "\n",
    "yazarak yükleme işlemini başlatın. Çok kısa süre içerisinde (yaklaşık 15-20 saniye) Jupyter Notebook işletim sisteminize kurulmuş olacaktır.\n",
    "\n",
    "Artık Jupyter Notebook'u işletim sisteminizde başlatabilirsiniz. Terminale direkt olarak;\n",
    "\n",
    "`jupyter notebook`\n",
    "\n",
    "yazmanız durumunda bir tarayıcı penceresi açılacaktır. Buradan istediğiniz klasöre giderek sağ üstte yer alan 'new' butonuna basarak yeni bir Jupyter Notebook açabilirsiniz.\n",
    "\n",
    "Hazırlanan dersleri açıp interaktif olarak kodları çalıştırmak için direkt olarak notebook'ları indirdiğiniz klasöre gidip ilgili dersin üzerine tıklayabilirsiniz. Her bir ders ayrı pencerede açılacaktır. Pencere açıldıktan sonra kodları interaktif bir şekilde çalıştırıp değiştirebilirsiniz.\n",
    "\n",
    "Alternatif olarak yukarıdaki işlemleri aşağıdaki YouTube videosunu takip ederek de yapabilirsiniz;\n",
    "\n",
    "<a href=\"https://www.youtube.com/watch?v=ClTWPoDHY_s\" target=\"_blank\">Windows'ta Jupyter Notebook kurulumu</a>"
   ]
  },
  {
   "cell_type": "markdown",
   "id": "799844b1",
   "metadata": {},
   "source": [
    "Bir alternatif olarak ücretsiz olan \"Visual Studio Code\" editörü kullanılabilir. [Linkten](https://code.visualstudio.com/download) program indirildikten sonra eğer bilgisayarınızda Python kurulu ise Jupyter Notebook'u direkt kullanmaya başlayabilirsiniz. Bir Jupyter Notebook oluşturmak için `Ctrl+Shift+P` tuşlanarak yada View sekmesi altından `Command Palette` komut penceresi açılır. Sonrasında `Jupyter: Create New Jupyter Notebook` komutu girilir. Alternatif olarak sol taraftaki `Explorer` penceresinde `.ipynb` uzantılı bir dosya oluşturulur. Dosya oluşturulduktan sonra notebook kullanılmaya başlanılır.\n",
    "### Gerekli kütüphanelerin kurulumu\n",
    "\n",
    "Bu eğitimde sıklıkla kullanacağımız 3 kütüphaneyi kurmak için aşağıdaki komutu yine aynı şekilde terminalde yazalım;\n",
    "\n",
    "`pip install numpy scipy matplotlib`\n",
    "\n",
    "Bu adımlardan sonra eğitim için gerekli tüm araçlar bilgisayarınıza yüklenmiş olacaktır."
   ]
  },
  {
   "cell_type": "markdown",
   "id": "16c63f21",
   "metadata": {},
   "source": [
    "<hr style=\\\"border:2px solid black\\\">"
   ]
  },
  {
   "cell_type": "markdown",
   "id": "4297e385",
   "metadata": {},
   "source": [
    "# Ubuntu İşletim Sisteminde Kurulum\n",
    "\n",
    "Eğer Ubuntu işletim sistemi kullanıyorsanız Jupyter Notebook'u kurmak oldukça kolay. \n",
    "\n",
    "Herhangi bir Ubuntu işletim sistemini kullanmanız halinde halihazırda bilgisayarınızda Python programlama dili kurulu olmuş olacaktır.\n",
    "\n",
    "Ubuntu terminalini `Ctrl+Alt+T` kullanarak başlatın. Ardından açılan terminal penceresinde;\n",
    "\n",
    "`pip3 install notebook` veya `pip install notebook`\n",
    "\n",
    "yazarak yükleme işlemini başlatın. Çok kısa süre içerisinde (yaklaşık 10 saniye) Jupyter Notebook işletim sisteminize kurulmuş olacaktır.\n",
    "\n",
    "Artık Jupyter Notebook'u işletim sisteminizde başlatabilirsiniz. Terminale direkt olarak;\n",
    "\n",
    "`jupyter-notebook`\n",
    "\n",
    "yazmanız durumunda bir tarayıcı penceresi açılacaktır. Buradan istediğiniz klasöre giderek sağ üstte yer alan 'new' butonuna basarak yeni bir Jupyter Notebook açabilirsiniz.\n",
    "\n",
    "Tıpkı Windows işletim sisteminde olduğu gibi, hazırlanan dersleri açıp interaktif olarak kodları çalıştırmak için direkt olarak notebook'ları indirdiğiniz klasöre gidip ilgili dersin üzerine tıklayabilirsiniz. Her bir ders ayrı pencerede açılacaktır. Pencere açıldıktan sonra kodları interaktif bir şekilde çalıştırıp değiştirebilirsiniz.\n",
    "\n",
    "Alternatif olarak yukarıdaki işlemleri aşağıdaki YouTube videosunu takip ederek de yapabilirsiniz;\n",
    "\n",
    "<a href=\"https://www.youtube.com/watch?v=Zua1g79e5yY\" target=\"_blank\">Ubuntu'da Jupyter Notebook kurulumu</a>\n",
    "\n",
    "### Gerekli kütüphanelerin kurulumu\n",
    "\n",
    "Bu eğitimde sıklıkla kullanacağımız 3 kütüphaneyi kurmak için aşağıdaki komutu yine aynı şekilde terminalde yazalım;\n",
    "\n",
    "`pip3 install numpy scipy matplotlib`\n",
    "\n",
    "Bu adımlardan sonra eğitim için gerekli tüm araçlar bilgisayarınıza yüklenmiş olacaktır."
   ]
  }
 ],
 "metadata": {
  "kernelspec": {
   "display_name": "Python 3 (ipykernel)",
   "language": "python",
   "name": "python3"
  },
  "language_info": {
   "codemirror_mode": {
    "name": "ipython",
    "version": 3
   },
   "file_extension": ".py",
   "mimetype": "text/x-python",
   "name": "python",
   "nbconvert_exporter": "python",
   "pygments_lexer": "ipython3",
   "version": "3.10.6"
  },
  "vscode": {
   "interpreter": {
    "hash": "5b9dd1641165dad3aebc6fcc79c5e5f3f08642d2989eb99ac1ae5db30424317b"
   }
  }
 },
 "nbformat": 4,
 "nbformat_minor": 5
}
