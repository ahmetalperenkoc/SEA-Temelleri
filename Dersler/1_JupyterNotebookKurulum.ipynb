{
 "cells": [
  {
   "cell_type": "markdown",
   "id": "1061d655",
   "metadata": {},
   "source": [
    "# Windows İşletim Sisteminde Kurulum\n",
    "\n",
    "Eğer Ubuntu işletim sistemi kullanıyorsanız Jupyter Notebook'u kurmak oldukça kolay. \n",
    "\n",
    "Herhangi bir Ubuntu işletim sistemini kullanmanız halinde halihazırda bilgisayarınızda Python programlama dili kurulu olmuş olacaktır.\n",
    "\n",
    "Ubuntu terminalini `Ctrl+Alt+T` kullanarak başlatın. Ardından açılan terminal penceresinde;\n",
    "\n",
    "`pip3 install notebook` veya `pip install notebook`\n",
    "\n",
    "yazarak yükleme işlemini başlatın. Çok kısa süre içerisinde (yaklaşık 10 saniye) Jupyter Notebook işletim sisteminize kurulmuş olacaktır.\n",
    "\n",
    "Artık Jupyter Notebook'u işletim sisteminizde başlatabilirsiniz. Terminale direkt olarak;\n",
    "\n",
    "`jupyter-notebook`\n",
    "\n",
    "yazmanız durumunda bir tarayıcı penceresi açılacaktır. Buradan istediğiniz klasöre giderek sağ üstte yer alan 'new' butonuna basarak yeni bir Jupyter Notebook açabilirsiniz.\n",
    "\n",
    "Tıpkı Windows işletim sisteminde olduğu gibi, hazırlanan dersleri açıp interaktif olarak kodları çalıştırmak için direkt olarak notebook'ları indirdiğiniz klasöre gidip ilgili dersin üzerine tıklayabilirsiniz. Her bir ders ayrı pencerede açılacaktır. Pencere açıldıktan sonra kodları interaktif bir şekilde çalıştırıp değiştirebilirsiniz.\n",
    "\n",
    "Alternatif olarak yukarıdaki işlemleri aşağıdaki YouTube videosunu takip ederek de yapabilirsiniz;\n",
    "\n",
    "<a href=\"https://www.youtube.com/watch?v=Zua1g79e5yY\" target=\"_blank\">Ubuntu'da Jupyter Notebook kurulumu</a>\n"
   ]
  },
  {
   "cell_type": "markdown",
   "id": "4297e385",
   "metadata": {},
   "source": [
    "# Ubuntu İşletim Sisteminde Kurulum\n",
    "\n",
    "Eğer Ubuntu işletim sistemi kullanıyorsanız Jupyter Notebook'u kurmak oldukça kolay. \n",
    "\n",
    "Herhangi bir Ubuntu işletim sistemini kullanmanız halinde halihazırda bilgisayarınızda Python programlama dili kurulu olmuş olacaktır.\n",
    "\n",
    "Ubuntu terminalini `Ctrl+Alt+T` kullanarak başlatın. Ardından açılan terminal penceresinde;\n",
    "\n",
    "`pip3 install notebook` veya `pip install notebook`\n",
    "\n",
    "yazarak yükleme işlemini başlatın. Çok kısa süre içerisinde (yaklaşık 10 saniye) Jupyter Notebook işletim sisteminize kurulmuş olacaktır.\n",
    "\n",
    "Artık Jupyter Notebook'u işletim sisteminizde başlatabilirsiniz. Terminale direkt olarak;\n",
    "\n",
    "`jupyter-notebook`\n",
    "\n",
    "yazmanız durumunda bir tarayıcı penceresi açılacaktır. Buradan istediğiniz klasöre giderek sağ üstte yer alan 'new' butonuna basarak yeni bir Jupyter Notebook açabilirsiniz.\n",
    "\n",
    "Tıpkı Windows işletim sisteminde olduğu gibi, hazırlanan dersleri açıp interaktif olarak kodları çalıştırmak için direkt olarak notebook'ları indirdiğiniz klasöre gidip ilgili dersin üzerine tıklayabilirsiniz. Her bir ders ayrı pencerede açılacaktır. Pencere açıldıktan sonra kodları interaktif bir şekilde çalıştırıp değiştirebilirsiniz.\n",
    "\n",
    "Alternatif olarak yukarıdaki işlemleri aşağıdaki YouTube videosunu takip ederek de yapabilirsiniz;\n",
    "\n",
    "<a href=\"https://www.youtube.com/watch?v=Zua1g79e5yY\" target=\"_blank\">Ubuntu'da Jupyter Notebook kurulumu</a>\n"
   ]
  }
 ],
 "metadata": {
  "kernelspec": {
   "display_name": "Python 3 (ipykernel)",
   "language": "python",
   "name": "python3"
  },
  "language_info": {
   "codemirror_mode": {
    "name": "ipython",
    "version": 3
   },
   "file_extension": ".py",
   "mimetype": "text/x-python",
   "name": "python",
   "nbconvert_exporter": "python",
   "pygments_lexer": "ipython3",
   "version": "3.10.6"
  }
 },
 "nbformat": 4,
 "nbformat_minor": 5
}
