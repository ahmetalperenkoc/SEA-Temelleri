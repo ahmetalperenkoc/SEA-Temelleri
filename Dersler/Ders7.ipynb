{
 "cells": [
  {
   "cell_type": "markdown",
   "id": "ebd79229",
   "metadata": {},
   "source": [
    "# 2 Boyutlu Sonlu Eleman Metodu"
   ]
  },
  {
   "cell_type": "markdown",
   "id": "4ebfa070",
   "metadata": {},
   "source": [
    "Bu bölümde 2 boyutlu elemanlar (üçgen, kare gibi) kullanarak 2 boyutlu kısmi diferansiyel denklemlerin nasıl çözümlendiğini ele alacağız. 1 boyutlu elemanlardan farklı olarak, 2 boyutlu elemanların şekil fonksiyonlarının nasıl elde edildiğini adım adım anlatacağız. "
   ]
  },
  {
   "cell_type": "markdown",
   "id": "ae034d09",
   "metadata": {},
   "source": [
    "# 2 Boyutlu Şekil Fonksiyonları"
   ]
  },
  {
   "cell_type": "markdown",
   "id": "8392e338",
   "metadata": {},
   "source": [
    "Adım 4'te 1 boyutlu elemanların şekil fonksiyonları ele alınmıştı. Bu bölümde 2 boyutlu problemlere giriş yaparken 2 boyutlu elemanlara ait şekil fonksiyonlarını tanıtacağız.\n",
    "\n",
    "2 boyutlu elemanlar, 1 boyutlu şekil fonksiyonlarının aksine birden çok fazla şekil çeşidini kullanarak bir geometriyi oluşturabilir. Bu duruma örnek olarak farklı üçgenlerden oluşmuş bir kareyi verebiliriz. Anlaşılacağı üzere oryantasyonları farklı olan her bir üçgen elemanın şekil fonksiyonu birbirinden farklı olacaktır. Fakat her bir üçgen için ayrı ayrı şekil fonksiyonları tanımlamak işi oldukça zorlaştıracaktır. Bu sebeple tüm elemanların şekil fonksiyonlarını, daha basit şekilli, şekil fonksiyonlarını ve bunların türevlerini kolayca elde edebileceğimiz bir eleman üzerinden elde etmemiz mümkündür. Bunun için bu elemanların koordinatlarını şekli düzgün olan elementin koordinat sistemi ile eşlememiz gerekmektedir. İlk önce 4 köşeli elemandan başlayabiliriz."
   ]
  },
  {
   "cell_type": "markdown",
   "id": "7a24ee3f",
   "metadata": {},
   "source": [
    "## 2.1 Lineer Dikdörtgen Elemanın Şekil Fonksiyonları "
   ]
  },
  {
   "cell_type": "markdown",
   "id": "aa1d4524",
   "metadata": {},
   "source": [
    "Adım 4'ten hatırlanacağı üzere şekil fonksiyonları, elemanın bir ucunda 1'den başlayıp diğer ucunda azalarak 0'a ulaşan fonksiyonlardı. Bu gösterimi yine dörtgen bir eleman için düşünecek olursak dikdörtgenin bir köşesinin 1 den başlayıp diğer köşelerinde azalarak 0 değerini alan şekil fonksiyonları için yapabiliriz. Bu fonksiyonları görsel olarak göstermek konunun anlaşılmasını kolaylaştıracaktır. En genel haliyle bir dikdörtgen elemanını ve onun şekil fonksiyonlarını oluşturan 2 adet 1 boyutlu şekil fonksiyonunu aşağıdaki şekilde görebiliriz."
   ]
  },
  {
   "cell_type": "markdown",
   "id": "c939486b",
   "metadata": {},
   "source": [
    "<img src=\"Resimler/Ders7/isoparametrik.png\" align=\"center\" width= \"600\"/>"
   ]
  },
  {
   "cell_type": "markdown",
   "id": "010269f2",
   "metadata": {},
   "source": [
    "Yukarıdaki dikdörtgen eleman için 2 noktasına ait şekil fonksiyonunu elde etmek için şeklin üstündeki ve solundaki 1 boyutlu şekil fonksiyonlarını çarpabiliriz. Bu durumda 2 noktasının şekil fonksiyonu:\n",
    "\n",
    "$$N_2(x,y) = \\frac{(a-x)(b+y)}{4ab}$$\n",
    "\n",
    "olarak elde edilebilir.\n"
   ]
  },
  {
   "cell_type": "code",
   "execution_count": null,
   "id": "a476d786",
   "metadata": {},
   "outputs": [],
   "source": []
  }
 ],
 "metadata": {
  "kernelspec": {
   "display_name": "Python 3 (ipykernel)",
   "language": "python",
   "name": "python3"
  },
  "language_info": {
   "codemirror_mode": {
    "name": "ipython",
    "version": 3
   },
   "file_extension": ".py",
   "mimetype": "text/x-python",
   "name": "python",
   "nbconvert_exporter": "python",
   "pygments_lexer": "ipython3",
   "version": "3.10.6"
  }
 },
 "nbformat": 4,
 "nbformat_minor": 5
}
