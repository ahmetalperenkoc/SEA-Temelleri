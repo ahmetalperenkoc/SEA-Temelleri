{
 "cells": [
  {
   "attachments": {},
   "cell_type": "markdown",
   "metadata": {},
   "source": [
    "# Güçlü Formdan Zayıf Formun Elde Edilmesi\n",
    "\n",
    "Bir önceki kısımda 1 boyutlu elastik bir çubuğun eksenel yük altında nasıl şekil değiştirdiğini ifade eden diferansiyel denklemi türetmiştik. Ek olarak bu elde ettiğimiz denklemin güçlü form olarak (strong form) ifade edildiğini belirtmiştik. Bu bölümde matematiksel olarak güçlü forma eş değer olan zayıf formu (weak form) türeteceğiz. \n",
    "\n",
    "## Tanımlar\n",
    "\n",
    "Güçlü ve zayıf ifadeleri denklemlerin yapısı ile alakalıdır. Güçlü form klasik diferansiyel denklem ve sınır koşullarından oluşur ve elde edilen çözümün denklem sınırları içerisinde her noktada doğru olması gerekir. Zayıf formda ise diferansiyel denklem integral içerisindedir ve elde edilen çözüm bu integrali sağlamalıdır. Güçlü formdaki daha yüksek olan türev derecesi, denklemin çözümü olabilecek fonksiyonları daha da sınırlandırır. Zayıf formda ise türev derecesi düşürüldüğü için çözüm olabilecek ya da yaklaşık çözümde kullanılabilecek fonksiyonların sayısı artar. Güçlü ve zayıf form matematiksel olarak eşittir ancak bunun ispatına burada değinilmeyecektir. İlgililer Fish ve Belytschko'nun kitabındaki 3.4. kısmına bakabilir [1].\n",
    "\n",
    "Denklemin zayıf formunu elde ederken varyasyonel yöntemler (variational methods) ya da ağırlıklı kalıntılar yöntemi (weighted residual method) kullanılabilir. Biz bu eğitimde ağırlıklı kalıntılar yöntemini kullanacağız. İki yöntemde de elde edilecek zayıf form aynı olacaktır.\n",
    "\n",
    "Öncelikle bir önceki bölümde elde ettiğimiz güçlü formu hatırlayalım:"
   ]
  },
  {
   "attachments": {},
   "cell_type": "markdown",
   "metadata": {},
   "source": [
    "$$  \\frac{d}{dx}\\left(AE\\frac{du}{dx}\\right)+b=0, \\quad \\quad 0 < x < l, \\quad \\sigma(0)=0,\\quad  u(l)=0. \\tag{1} $$"
   ]
  },
  {
   "attachments": {},
   "cell_type": "markdown",
   "metadata": {},
   "source": [
    "Ağırlıklı kalıntı yönteminin yaklaşımı şu şekilde açıklanabilir: Eğer diferansiyel denklemin kesin çözümünü biliyorsak, bu çözümü denklemde yerine yazdığımızda denklemin sağ tarafı sol tarafına eşit olur. Bizim denklemimizde sağ taraf sıfırdır, dolayısıyla kesin çözüm sol tarafa koyulduğunda denklemin sol tarafı sıfır olmalıdır. Kesin çözüm yerine yaklaşık bir çözümü denkleme yerleştirirsek, denklemin sağ tarafı ile sol tarafı eşit olmaz. Bu ikisi arasındaki farka kalıntı (residual) diyelim. Kalıntı miktarını denklemin sağ tarafını sol tarafa atarak bulabiliriz. Kalıntı miktarını bir test fonksiyonu ($v$) ile çarpalım ve denklemin sınırları boyunca integralini alalım. Bir boyutlu çubuk probleminde bu işlemi yaparsak aşağıdaki denklemi elde ederiz:\n"
   ]
  },
  {
   "attachments": {},
   "cell_type": "markdown",
   "metadata": {},
   "source": [
    "$$\\int_{0}^{l} v\\left(\\frac{d}{dx}\\left(AE\\frac{du}{dx}\\right)+b\\right) \\,dx\\ =0.  \\tag{2} $$"
   ]
  },
  {
   "attachments": {},
   "cell_type": "markdown",
   "metadata": {},
   "source": [
    "Bu integral \"kalıntının denklem sınırları içerisindeki her bir noktadaki değerinin bir katsayı ile çarpılıp bunlarının toplamının sıfıra eşitlenmeye çalışılması\" şeklinde yorumlanabilir. Bir başka deyişle kalıntı fonksiyonun ağırlıklı ortalamasının sıfıra eşitlenmesi olarak da anlaşılabilir. Bu sebeple yönteme ağırlıklı kalıntılar yöntemi denir. Burada test fonksiyonu $v$ ağırlık dağılımını belirler. Bu test fonksiyonu keyfi (arbitrary) olmalıdır. Yani bütün test fonksiyonlar için bu integral sağlanmalıdır. \n",
    "\n",
    "Şimdi 2. denklemi matematiksel olarak manipüle etmeden önce kısmi integrasyon yöntemini (integration by parts) hatırlatmak faydalı olacaktır. Kısmi integrasyon yöntemi çarpımın türevi özdeşliğinden kolaylıkla türetilebilir. Kalkülüs derslerinden hatırlanabileceği üzere çarpım türevi:\n",
    "\n",
    "$$ \\frac{d}{dx}(uv)=u\\frac{dv}{dx}+\\frac{du}{dx}v. $$\n",
    "\n",
    "Burada eşitliğin sağ tarafındaki 2. terim sola atılır ve iki tarafın da integrali alınırsa:\n",
    "\n",
    "$$ u\\frac{dv}{dx}= \\frac{d}{dx}(uv) - \\frac{du}{dx}v \\Rightarrow \\int_{a}^{b} u\\frac{dv}{dx}\\,dx\\ = (uv)\\Big|_a^b -\\int_{a}^{b} \\frac{du}{dx}v\\,dx\\ \\tag{3} $$"
   ]
  },
  {
   "attachments": {},
   "cell_type": "markdown",
   "metadata": {},
   "source": [
    "Biz de 2. denklemdeki $v$'yi 3. denklemdeki $u$ ve 2. denklemdeki $ \\frac{d}{dx}(AE\\frac{du}{dx}) $ ifadesini 3. denklemdeki $\\frac{dv}{dx} $ yerine koyarsak, 2. denklemi şu şekilde yazabiliriz:\n",
    "\n",
    "$$ \\int_{0}^{l} v\\left(\\frac{d}{dx}\\left(AE\\frac{du}{dx}\\right)+b\\right) \\,dx\\ = \\left(vAE\\frac{du}{dx}\\right) \\Big|_0^l - \\int_{0}^{l} \\frac{dv}{dx}AE\\frac{du}{dx} \\,dx\\ + \\int_{0}^{l}vb\\,dx\\ =0\\tag{4}$$"
   ]
  },
  {
   "attachments": {},
   "cell_type": "markdown",
   "metadata": {},
   "source": [
    "Eksili ifadeyi denklemin sağ tarafına atarsak:\n",
    "\n",
    "$$ \\left(vAE\\frac{du}{dx}\\right) \\Big|_0^l +\\int_{0}^{l}vb\\,dx\\ = \\int_{0}^{l} \\frac{dv}{dx}AE\\frac{du}{dx} \\,dx\\ \\tag{5} $$"
   ]
  },
  {
   "attachments": {},
   "cell_type": "markdown",
   "metadata": {},
   "source": [
    "Denklemin sol tarafındaki ilk ifadeye göz atalım. Önceki kısımda gerilme ile yer değiştirme arasındaki ilişkiyi: $$ \\sigma = E\\frac{du}{dx} $$ şeklinde tanımlamıştık. O yüzden denklem (5)'te bu ifadeyi yerine koyarsak:\n",
    "\n",
    "$$ (vA\\sigma(x))_{x=l}-(vA\\sigma(x))_{x=0} +\\int_{0}^{l}vb\\,dx\\ = \\int_{0}^{l} \\frac{dv}{dx}AE\\frac{du}{dx} \\,dx\\ . \\tag{6} $$"
   ]
  },
  {
   "attachments": {},
   "cell_type": "markdown",
   "metadata": {},
   "source": [
    "Denklem (1)'de iki sınır koşulu tanımlanmıştı. Bunlardan ilki $x=0$ noktasında gerilmenin sıfır olduğu, ikincisi de $x=l$ noktasında yer değiştirmenin sıfır olduğuydu. Burada 6. denklemin ikinci terimi, ilk sınır koşulumuzun cinsinden ifade edilebilir. Bu tip sınır koşuluna Neumann sınır koşulu ya da sonlu elemanlar yöntemindeki adı ile doğal (natural) sınır koşulu denir. Bu koşul, çözümün türevinin ($\\frac{du}{dx}$) sınır koşulu olarak ifade edildiği durumdur ve zayıf form içerisinde kolayca uygulanabilir. Tek yapılması gereken sınır koşulu değerini yerine yazmaktır. Örneğin incelediğimiz problemde 6. denklemin ikinci terimindeki $\\sigma(x)$ yerine 0 yazarak sınır koşulunu kolayca uygulayabiliriz.  \n",
    "\n",
    "Diğer tarafta çözümün kendisinin $u(x)$ sınır koşulu olarak ifade edilmesine Dirichlet ya da sonlu elemanlar yöntemindeki adı ile esas(essential) sınır koşulu denir. Denklemin zayıf formunda bu terimlerden kurtulmak için deneme (test) fonksiyonlarını esas sınır koşullarının belirtildiği noktalarda sıfıra eşitleriz. İncelemiş olduğumuz problemde 6. denklemdeki ilk terimin sıfıra eşitlenmesi ile bu sağlanmış ve denklemimiz aşağıdaki son halini almış olur:\n",
    "\n",
    "$$\\int_{0}^{l}vb\\,dx\\ = \\int_{0}^{l} \\frac{dv}{dx}AE\\frac{du}{dx} \\,dx\\ . \\tag{7} $$\n",
    "\n",
    "Böylelikle zayıf formun türetilmesini tamamlamış olduk. Bir sonraki derste Galerkin yöntemi ile çözümün yakınsanmasını ele alacağız. "
   ]
  },
  {
   "attachments": {},
   "cell_type": "markdown",
   "metadata": {},
   "source": [
    "### Referanslar\n",
    "[1] Fish, J., & Belytschko, T. (2007). A first course in finite elements (Vol. 1). New York: John Wiley & Sons."
   ]
  }
 ],
 "metadata": {
  "kernelspec": {
   "display_name": "Python 3 (ipykernel)",
   "language": "python",
   "name": "python3"
  },
  "language_info": {
   "codemirror_mode": {
    "name": "ipython",
    "version": 3
   },
   "file_extension": ".py",
   "mimetype": "text/x-python",
   "name": "python",
   "nbconvert_exporter": "python",
   "pygments_lexer": "ipython3",
   "version": "3.10.6"
  },
  "vscode": {
   "interpreter": {
    "hash": "a19667b0e222744940110a19ba49966806adbd960294bbbfbb65d00f24fc19e3"
   }
  }
 },
 "nbformat": 4,
 "nbformat_minor": 2
}
