{
 "cells": [
  {
   "attachments": {},
   "cell_type": "markdown",
   "id": "f9339a65",
   "metadata": {},
   "source": [
    "# Sonlu Elemanlar Yöntemi - Genel Bakış"
   ]
  },
  {
   "attachments": {},
   "cell_type": "markdown",
   "id": "a722060c",
   "metadata": {},
   "source": [
    "## Motivasyon\n",
    "Üzerine çalışılan konu farketmeksizin, sürdürülebilir bir öğrenme için içsel güdüleyicilere ihtiyaç duyarız. Bu yüzden sonlu elemanlar eğitiminin teorik ve programlama kısmına başlamadan önce çalışmanın motivasyonundan bahsetmenin faydalı olacağını düşünüyoruz.\n",
    "\n",
    "Fiziksel olayları tahmin edebilmek, bu tahminlerle insan hayatını kolaylaştırmak ve teknoloji geliştirmek temel ve mühendislik bilimlerinin temel amaçlarındandır. Isı iletimi, titreşim ya da bir kirişin farklı yükler altında şekil değiştirmesi gibi fiziksel olayların doğasını anlamaya çalıştığımızda, bunların matematiksel olarak diferansiyel denklemler ile ifade edilebildiğini görürüz. O yüzden bu problemlerin çözümünü bulmak, fiziksel olayın hangi şartlar altında nasıl davranağını tahmin edebilmemiz açısından önem arz eder. Burada deneysel, analitik ve numerik olmak üzere üç ana modelleme yöntemi vardır. \n",
    "\n",
    "Genellikle maliyeti yüksek olan deneysel çalışmalara geçmeden önce bu problemlerden bazıları analitik olarak çözülebilirken, bazı durumlarda fiziksel olayın geometrisinin karmaşıklığı ya da başka sebeplerden dolayı analitik çözüm bulunamaz. Analitik çözüm bulunamayan durumlarda numerik çözümlere başvurulur.\n",
    "\n",
    "Sonlu elemanlar yöntemi de diferansiyel denklemlerin numerik olarak çözülebilmesi için geliştirilmiş bir yöntemdir. Diferansiyel denklemlerin sınır noktalarda değerlerinin belirtilmesi ile (mesela kararlı haldeki bir ısı probleminde sıcaklığını bildiğimiz bir nokta) sınır değer problemlerini elde ederiz. Eğer problem zamana bağlı bir değişken içeriyorsa sınır değerlerle birlikte başlangıç anındaki değerler de belirtilir. Fiziksel olayları modelleyen bu diferansiyel denklemlerin numerik biçimde çözülebilmesi bize meşakkatli ve pahalı deneysel çalışmaları yapmadan ya da daha az sayıda yaparak işin doğasını kavrama olanağı sağlar. Örneğin bir otomobil için onlarca çarpışma testi yapmak yerine,  sonlu elemanlar yöntemi ile çarpışma testini modelleyebilir, onlarca analiz yapabilir ve az sayıda çarpışma testi ile aynı çıkarımları elde edebiliriz."
   ]
  },
  {
   "attachments": {},
   "cell_type": "markdown",
   "id": "63c11c23",
   "metadata": {},
   "source": [
    "## Uygulama Alanları\n",
    "\n",
    "Başta belirtildiği gibi doğadaki birçok fiziksel olayın diferansiyel denklem olarak ifade edilebilmesi sonlu elemanlar yönteminin çok fazla alanda kullanılabilmesine olanak sağlar. Bu yöntem, katı cisimler mekaniği problemlerinden, akışkan mekaniği problemlerine, ısı iletiminden titreşim analizlerine birçok alanda kullanışlı bir çözüm aracı haline gelmektedir. \n",
    "\n",
    "Bu yöntemin, endüstriyel uygulamalarda ve akademik çalışmalarda  kullanıldığı yerlere dair bazı örnekler aşağıda verilmiştir;\n",
    "\n",
    "### Akademik Çalışmalar\n",
    "\n",
    "- Katı-sıvı yüzeyler arasındaki etkişemlerin keşfedilmesi (rüzgar-kanat etkileşimi)\n",
    "- Batarya ömürlerinin tahmin edilmesine yönelik modeller geliştirilmesi\n",
    "- Biyomekanik alanındaki araştırmalarda modeller geliştirilmesi (insan omurgasından kafatasına ve deri gibi yumuşak dokulara kadar birçok biyojik yapının davranışının anlaşılması)\n",
    "- Gözenekli yapılarda akışın modellenmesi\n",
    "\n",
    "### Endüstriyel Uygulamalar\n",
    "\n",
    "- Uçak ve uzay araçlarının aerodinamik performansının modellenmesi\n",
    "- Gaz türbinlerindeki kompresör, yanma odası ve türbin parçalarının performansının modellenmesi\n",
    "- Otomobil parçalarının gerilme ve ısıl analizleri\n",
    "- Titreşim uygulamalarında sistemin doğal frekansının tespit edilmesi\n",
    "- Antenlerin elektromanyetik analizleri\n",
    "- Araçların çarpışma analizleri\n",
    "- Baraj, gökdelen ve endüstriyel karmaşık yapıların deprem etkisi altında gerilme analizleri\n",
    "- Gürültü sönümleme gerektiren problemlerin (ses kayıt odaları, konser ve sinema salonları, gaz türbinlerindeki yanma odaları) akustik özelliklerinin iyileştirilmesi \n",
    "- Topoloji optimizasyonu"
   ]
  },
  {
   "attachments": {},
   "cell_type": "markdown",
   "id": "75a2c1e2",
   "metadata": {},
   "source": [
    "Her yöntemde olduğu gibi sonlu elemanlar yönteminin de avantajları ve dezavantajları mevcuttur. Bunlardan bazıları aşağıda sıralanmıştır:\n",
    "\n",
    "### Avantajları\n",
    "- Analitik çözümlerin aksine karmaşık ve düzensiz geometrili problemlerin çözümü mümkündür. \n",
    "- Farklı sınır koşulları kolaylıkla tanımlanır.\n",
    "- Farklı yükleme koşulları kolaylıkla analiz edilebilir.\n",
    "- Problem geometrisinin farklı yerlerinde farklı malzeme özellikleri kolaylıkla kullanılabilir. (ör. ısıl geçirgenliği enkesit boyunca değişen bir duvar yada elastisite modulü değişken olan bir kiriş)\n",
    "- Çok yaygın bir şekilde ve uzun süredir kullanıldığı için yöntemin bir çok doğrulama çalışması yapılmış, hangi şartlar altında ne derece doğru sonuçlar ürettiği iyi çalışılmıştır.\n",
    "- Bir çok açık kaynaklı program ya da kod mevcuttur.\n",
    "\n",
    "### Dezavantajları\n",
    "- Yaygınlaşan ve kullanımı basitleşen paket programların bilinçsizce kullanılması sonucu gerçeklikten çok uzak analizlerin kolaylıkla yapılabiliyor olması.\n",
    "- Problem boyutu büyüdükçe ve linear olmayan analizler yapıldığında analiz sürelerinin uzaması ve bilgisayarın hafıza ihtiyacının artması.\n",
    "- Problemleri doğru şekilde modellemenin teorik altyapı ve tecrübe gerektirmesi.\n"
   ]
  },
  {
   "attachments": {},
   "cell_type": "markdown",
   "id": "6e27d7d9",
   "metadata": {},
   "source": [
    "## Sonlu Eleman Yönteminde Genel Adımlar\n",
    "\n",
    "Sonlu elemanlar yöntemi ile bir fiziksel problem çözülürken takip edilen adımlar kısaca şu şekilde özetlenebilir:\n",
    "\n",
    "- Fiziksel problemi tanımlayan diferansiyel denklemin ve sınır (başlangıç) koşullarının belirlenmesi\n",
    "- Diferansiyel denklemin zayıf formunun (weak form) türetilmesi\n",
    "- Galerkin yöntemi ile test (test) ve deneme (trial) fonksiyonlarının yerine baz fonksiyonları ile yaklaşık ifadelerinin yazılması\n",
    "- Baz fonksiyonlarının seçilmesi\n",
    "- Sertlik matrisi ve kuvvet vektörünün oluşturulması\n",
    "- Sınır koşullarının uygulanması\n",
    "- Oluşturulan denklem sisteminin çözülmesi\n",
    "- Sonuçların görselleştirilmesi\n",
    "\n",
    "Hazırlanan derslerde, problemlerin çözümü genel olarak bu akışa göre yapılacaktır. "
   ]
  }
 ],
 "metadata": {
  "kernelspec": {
   "display_name": "Python 3 (ipykernel)",
   "language": "python",
   "name": "python3"
  },
  "language_info": {
   "codemirror_mode": {
    "name": "ipython",
    "version": 3
   },
   "file_extension": ".py",
   "mimetype": "text/x-python",
   "name": "python",
   "nbconvert_exporter": "python",
   "pygments_lexer": "ipython3",
   "version": "3.10.6"
  },
  "vscode": {
   "interpreter": {
    "hash": "a19667b0e222744940110a19ba49966806adbd960294bbbfbb65d00f24fc19e3"
   }
  }
 },
 "nbformat": 4,
 "nbformat_minor": 5
}
