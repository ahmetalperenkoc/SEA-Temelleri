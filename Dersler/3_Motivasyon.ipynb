{
 "cells": [
  {
   "cell_type": "markdown",
   "id": "f9339a65",
   "metadata": {},
   "source": [
    "# Sonlu Elemanlar Metodu - Genel Bakış"
   ]
  },
  {
   "cell_type": "markdown",
   "id": "a722060c",
   "metadata": {},
   "source": [
    "## Motivasyon\n",
    "Üzerine çalışılan konu farketmeksizin, sürdürülebilir bir öğrenme için içsel güdüleyicilere ihtiyaç duyarız. Bu yüzden sonlu elemanlar eğitiminin teorik ve programlama kısmına başlamadan önce çalışmanın motivasyonundan bahsetmenin faydalı olacağını düşünüyoruz.\n",
    "\n",
    "Fiziksel olayları tahmin edebilmek, bu tahminlerle insan hayatını kolaylaştırmak ve teknoloji geliştirmek temel ve mühendislik bilimlerinin temel amaçlarındandır. Isı iletimi, titreşim yada bir kirişin farklı yükler altında şekil değiştirmesi gibi fiziksel olayların doğasını anlamaya çalıştığımızda, bunların matematiksel olarak diferansiyel denklemler ile ifade edilebildiğini görürüz. O yüzden bu problemlerin çözümünü bulmak fiziksel olayın hangi şartlar altında nasıl davranağını tahmin edebilmemiz açısından önem arz eder. Burada deneysel ,analitik ve numerik olmak üzere üç ana modelleme yöntemimiz vardır. \n",
    "\n",
    "Genellikle maliyeti yüksek olan deneysel çalışmalara geçmeden önce bu problemlerden bazıları analitik olarak çözülebilirken, bazı durumlarda fiziksel olayın geometrisinin karmaşıklığı yada başka sebeplerden dolayı analitik çözüm bulanamaz. Analitik çözüm bulunamayan durumlarda nümerik çözümlere başvurulur.\n",
    "\n",
    "Sonlu elemanlar yöntemi de diferansiyel denklemlerin nümerik olarak çözülebilmesi için geliştirilmiş bir yöntemdir. Diferansiyel denklemlerin sınır noktalarda değerlerinin belirtilmesi ile (mesela kararlı haldeki bir ısı probleminde sıcaklığını bildiğimiz bir nokta) sınır değer problemlerini elde ederiz. (Problem zamana bağlı bir değişken içeriyorsa sınır değer yerine başlangıç anındaki değerler belirtilir ve başlangıç değer problemi olarak adlandırılır). Fiziksel olayları modelleyen bu diferansiyel denklemlerin nümerik biçimde çözülebilmesi bize meşakkatli ve pahalı deneysel çalışmaları yapmadan yada daha az sayıda yaparak işin doğasını kavrama olanağı sağlar. Örneğin bir otomobil için onlarca çarpışma testi yapmak yerine,  sonlu elemanlar yöntemi ile çarpışma testini modelleyebilir, onlarca analiz yapabilir ve az sayıda çarpışma testi ile aynı çıkarımları elde edebiliriz."
   ]
  },
  {
   "cell_type": "markdown",
   "id": "63c11c23",
   "metadata": {},
   "source": [
    "## Uygulama Alanları\n",
    "\n",
    "Başta belirtildiği gibi doğadaki birçok fiziksel olay diferansiyel denklemlerle olarak ifade edilebilmesi sonlu elemanlar yönteminin çok fazla alanda kullanılabilmesine olanak sağlar. Bu method, katı cisimler mekaniği problemlerinden, akışkan mekaniği problemlerine, ısı iletiminden titreşim analizlerine birçok alanda kullanışlı bir çözüm aracı haline gelmektedir. \n",
    "\n",
    "Bu yöntemin, endüstriyel uygulamalarda ve akademik çalışmalarda  kullanıldığı yerlere bazı örnekler aşağıda verilmiştir;\n",
    "\n",
    "### Akademik Çalışmalar\n",
    "\n",
    "- İmplant geliştirmelerinde çene kemiğinde oluşan gerilmelerin analizi (Görece yeni olan biomekanik alanında insan omurgasından  kafatasına ve deri gibi yumuşak dokulara kadar birçok biyojik yapının sonlu elemanlar analizleri yapılmaktadır)\n",
    "\n",
    "### Endüstriyel Uygulamalar\n",
    "\n",
    "- Uçak ve uzay araçlarının aerodinamik performansının modellenmesi\n",
    "- Gaz türbinlerindeki kompresör, yanma odası ve türbin parçalarının performansının modellenmesi\n",
    "- Otomobil parçalarının gerilme yada ısıl analizleri\n",
    "- Antenlerin elektromanyetik analizleri\n",
    "- Araçların çarpışma analizleri\n",
    "- Baraj, gökdelen yada endüstril karmaşık yapıların deprem etkisi altında gerilme analizleri\n",
    "- Gürültü sönümleme gerektiren problemlerin (ses kayıt odaları, konser ve sinema salonları, gaz türbinlerindeki yanma odaları) akustik özelliklerinin iyileştirilmesi \n",
    "- Topoloji optimizasyonu"
   ]
  },
  {
   "cell_type": "markdown",
   "id": "75a2c1e2",
   "metadata": {},
   "source": [
    "## Avantajları\n",
    "- Analitik çözümlerin aksine karmaşık ve düzensiz geometrili problemlerin çözümü mümkündür. \n",
    "- Farklı sınır koşulları kolaylıkla tanımlanır.\n",
    "- Farklı yükleme koşulları kolaylıkla analiz edilebilir.\n",
    "- Problem geometrisinin farklı yerlerinde farklı malzeme özellikleri kolaylıkla kullanılabilir. (ör. ısıl geçirgenliği enkesit boyunca değişen bir duvar yada elastisite modulü değişken olan bir kiriş)\n",
    "- Çok yaygın bir şekilde ve uzun süredir kullanıldığı için yöntemin bir çok doğrulama çalışması yapılmış, hangi şartlar altında ne derece doğru sonuçlar ürettiği iyi çalışılmıştır.\n",
    "- Bir çok açık kaynaklı program yada kod mevcuttur.\n",
    "\n",
    "## Dezavantajları\n",
    "- Yaygınlaşan ve kullanımı basitleşen paket programların bilinçsizce kullanılması sonucu gerçeklikten çok uzak analizlerin kolaylıkla yapılabiliyor olması.\n",
    "- Problem boyutu büyüdükçe ve linear olmayan analizler yapıldığında analiz sürelerinin uzaması ve bilgisayarın hafıza ihtiyacının artması.\n",
    "- Problemleri doğru şekilde modellemek teorik altyapı ve tecrübe gerektirmektedir.\n"
   ]
  },
  {
   "cell_type": "markdown",
   "id": "ba8fe645",
   "metadata": {},
   "source": [
    "## Çalışmanın Amaçları"
   ]
  },
  {
   "cell_type": "markdown",
   "id": "b34ea9a1",
   "metadata": {},
   "source": []
  }
 ],
 "metadata": {
  "kernelspec": {
   "display_name": "Python 3 (ipykernel)",
   "language": "python",
   "name": "python3"
  },
  "language_info": {
   "codemirror_mode": {
    "name": "ipython",
    "version": 3
   },
   "file_extension": ".py",
   "mimetype": "text/x-python",
   "name": "python",
   "nbconvert_exporter": "python",
   "pygments_lexer": "ipython3",
   "version": "3.10.6"
  }
 },
 "nbformat": 4,
 "nbformat_minor": 5
}
