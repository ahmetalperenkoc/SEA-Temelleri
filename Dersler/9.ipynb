{
 "cells": [
  {
   "cell_type": "markdown",
   "metadata": {},
   "source": [
    "# Ders 9 - Son Adım ve İleri Sonlu Elemanlar Metodu\n",
    "\n",
    "Önceki derslerde 1 boyutlu basit bir çekme probleminden başlayarak 2 boyutlu vektörel problemlere kadar adım adım sonlu elemanlar metodunu uygulamalı olarak ele aldık. Günümüzde, gerçek hayatta yer alan problemleri modelleyip çözümlemek için gerekli altyapı oluşturmaya gayret ettik. Son adım olarak bu derste, temelini öğrendiğimiz sonlu elemanlar metodunu nasıl ileri problemleri çözmek için kullanabileceğimizi tartışacağız.\n",
    "\n"
   ]
  },
  {
   "cell_type": "markdown",
   "metadata": {},
   "source": [
    "## Açık Kaynaklı Sonlu Eleman Kodları\n",
    "\n",
    "Son yıllarda kullanımı artmakta olan açık kaynak kodlar, özel durumlara sahip ileri problemlere çözüm getirebilmektedir. Fakat bu problemleri çözmek ileri bilgisayar kullanma bilgisi, yüksek başarımlı hesaplama (HPC) bilgisi, paralel kod geliştirme ve Linux tabanlı işletim sistemlerine aşinalık gerektirmektedir. Bu bölümde bazı açık kaynaklı kodlardan kısaca bahsedeceğiz.\n",
    "\n",
    "### FEniCSx\n",
    "\n",
    "FEniCS projesi, kısmi diferansiyel denklemlere ait zayıf formları hızlıca tanımlayıp paralel kütüphaneleri kullanarak hızlıca çözümlemeyi hedefleyen bir açık kaynaklı sonlu eleman platformudur. Akışkanlar dinamiğinden katı mekaniğine, elektromanyetikten ısı transferine bir çok ileri mühendislik ve bilimsel problem hızlıca çözümlenebilmektedir. FEniCSx projesinin çekirdeği hızlı olması için C++ dili ile yazılmıştir. Fakat bu kodlar python komutları kullanılarak da çağırılabilmektedir. Geliştirilmesi halen aktif olarak devam etmekte olan bu dil, hesaplamalı bilimler alanındaki araştırmalarda da çokça kullanılmaktadır. MPI kütüphanesine de uyumlu olması sebebiyle, bilgisayar gücü olması durumunda problemler çok çekirdek kullanımı ile hızla çözülebilmektedir.\n",
    "\n",
    "### Calculix\n",
    "\n",
    "### FreeFEM\n",
    "\n"
   ]
  },
  {
   "cell_type": "markdown",
   "metadata": {},
   "source": [
    "## Ticari Sonlu Eleman Kodları\n",
    "\n",
    "### LS-Dyna\n",
    "\n",
    "### Abaqus \n",
    "\n",
    "### ANSYS\n"
   ]
  },
  {
   "cell_type": "markdown",
   "metadata": {},
   "source": [
    "## Sonraki Adımlar \n",
    " \n",
    " TRUBA-TUBITAK"
   ]
  },
  {
   "cell_type": "markdown",
   "metadata": {},
   "source": [
    "## Sonuç"
   ]
  }
 ],
 "metadata": {
  "kernelspec": {
   "display_name": "Python 3 (ipykernel)",
   "language": "python",
   "name": "python3"
  },
  "language_info": {
   "codemirror_mode": {
    "name": "ipython",
    "version": 3
   },
   "file_extension": ".py",
   "mimetype": "text/x-python",
   "name": "python",
   "nbconvert_exporter": "python",
   "pygments_lexer": "ipython3",
   "version": "3.10.6"
  }
 },
 "nbformat": 4,
 "nbformat_minor": 4
}
