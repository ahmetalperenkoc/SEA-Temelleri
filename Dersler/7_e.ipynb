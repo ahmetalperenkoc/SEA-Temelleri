{
 "cells": [
  {
   "cell_type": "markdown",
   "id": "1f25bb96",
   "metadata": {},
   "source": [
    "# Global sistem çözümü\n",
    "\n",
    "Bu derste ders 7 kapsamında daha önce gördüğümüz tüm bilgileri kullanarak global olarak sistemin tamamını çözümleyeceğiz. Çözeceğimiz problemi tekrar göz önüne getirelim:\n",
    "\n",
    "<img src=\"Resimler/Ders7/2BoyutluProblem.png\" align=\"center\" width= \"600\"/>\n",
    "\n",
    "İlk olarak problemin parametrelerini belirleyerek başlayalım:"
   ]
  },
  {
   "cell_type": "code",
   "execution_count": 5,
   "id": "3a82af81",
   "metadata": {},
   "outputs": [],
   "source": [
    "L = 2\n",
    "H = 2\n",
    "D = 0.05 #m\n",
    "\n",
    "q_1 = -500  # W/m2\n",
    "q_2 = -1000 # W/m2\n",
    "q_3 = -1500 # W/m2\n",
    "\n",
    "k = 5 # W/m2.K\n",
    "T_sonsuz = 30 # C\n",
    "h = 10 # W/m2K\n",
    "h_z = 2*h/D"
   ]
  },
  {
   "cell_type": "code",
   "execution_count": 9,
   "id": "afca52ad",
   "metadata": {},
   "outputs": [
    {
     "data": {
      "text/plain": [
       "(array([[ 3.33333333, -0.83333333, -1.66666667, -0.83333333],\n",
       "        [-0.83333333,  3.33333333, -0.83333333, -1.66666667],\n",
       "        [-1.66666667, -0.83333333,  3.33333333, -0.83333333],\n",
       "        [-0.83333333, -1.66666667, -0.83333333,  3.33333333]]),\n",
       " array([[44.44444444, 22.22222222, 11.11111111, 22.22222222],\n",
       "        [22.22222222, 44.44444444, 22.22222222, 11.11111111],\n",
       "        [11.11111111, 22.22222222, 44.44444444, 22.22222222],\n",
       "        [22.22222222, 11.11111111, 22.22222222, 44.44444444]]))"
      ]
     },
     "execution_count": 9,
     "metadata": {},
     "output_type": "execute_result"
    }
   ],
   "source": [
    "import sympy as sp\n",
    "import numpy as np\n",
    "from scipy import integrate\n",
    "from sympy.utilities import lambdify\n",
    "\n",
    "xi = sp.Symbol(\"xi\")\n",
    "eta = sp.Symbol(\"eta\")\n",
    "x_ = sp.symbols(\"x1,x2,x3,x4\")\n",
    "y_ = sp.symbols(\"y1,y2,y3,y4\")\n",
    "şekil = sp.Matrix([(1+xi)*(1+eta)/4,\n",
    "                   (1-xi)*(1+eta)/4,\n",
    "                   (1-xi)*(1-eta)/4,\n",
    "                   (1+xi)*(1-eta)/4])\n",
    "\n",
    "x_koord = [1,0,0,1] \n",
    "y_koord = [2,2,1,1]\n",
    "\n",
    "def lokal_eleman_matrisi_olustur(x_koord, y_koord):\n",
    "    nokta_sayısı = 4\n",
    "\n",
    "    gradyen_xi = sp.diff(şekil, xi)\n",
    "    gradyen_eta = sp.diff(şekil, eta)\n",
    "\n",
    "    gradyen = sp.Matrix([gradyen_eta, gradyen_xi])\n",
    "\n",
    "    gradyen = gradyen.reshape(2,4)\n",
    "\n",
    "    c_şekil = sp.Matrix([0, 0])\n",
    "    for i in range(nokta_sayısı):\n",
    "        c_şekil[0] += x_[i] * şekil[i]\n",
    "        c_şekil[1] += y_[i] * şekil[i]\n",
    "    J = c_şekil.jacobian([xi, eta]).T\n",
    "    \n",
    "    for nokta in range(nokta_sayısı):\n",
    "        J = J.subs(x_[nokta],x_koord[nokta]) \n",
    "        J = J.subs(y_[nokta],y_koord[nokta])\n",
    "        \n",
    "    K_e_sym = gradyen.T*(J**(-1)).T*k*(J**(-1))*gradyen*J.det()\n",
    "\n",
    "    K_e = np.zeros((nokta_sayısı,nokta_sayısı))\n",
    "\n",
    "    for i in range(nokta_sayısı):\n",
    "        for j in range(nokta_sayısı):\n",
    "            geçici_fonksiyon = lambdify( (xi,eta), K_e_sym[i,j], 'math' )\n",
    "            K_e[i,j] += integrate.nquad(geçici_fonksiyon, [[-1, 1],[-1, 1]])[0]\n",
    "    \n",
    "    K_t_sym = h_z*şekil*şekil.T*J.det()\n",
    "    \n",
    "    K_t = np.zeros((nokta_sayısı,nokta_sayısı))\n",
    "    \n",
    "    for i in range(nokta_sayısı):\n",
    "        for j in range(nokta_sayısı):\n",
    "            geçici_fonksiyon = lambdify( (xi,eta), K_t_sym[i,j], 'math' )\n",
    "            K_t[i,j] += integrate.nquad(geçici_fonksiyon, [[-1, 1],[-1, 1]])[0]\n",
    "    return K_e, K_t\n",
    "\n",
    "K_e, K_t = lokal_eleman_matrisi_olustur(x_koord, y_koord)\n",
    "K_e, K_t"
   ]
  },
  {
   "cell_type": "code",
   "execution_count": 16,
   "id": "22bc63ed",
   "metadata": {},
   "outputs": [],
   "source": [
    "class FonksiyonUzayı():\n",
    "    \"\"\"\n",
    "    Symbolic representation of the quadrilateral elements with four nodes\n",
    "    \"\"\"\n",
    "    \n",
    "    xi = sp.Symbol(\"xi\")\n",
    "    eta = sp.Symbol(\"eta\")\n",
    "    x_ = sp.symbols(\"x1,x2,x3,x4\")\n",
    "    y_ = sp.symbols(\"y1,y2,y3,y4\")\n",
    "    şekil = sp.Matrix([(1+xi)*(1+eta)/4,\n",
    "                       (1-xi)*(1+eta)/4,\n",
    "                       (1-xi)*(1-eta)/4,\n",
    "                       (1+xi)*(1-eta)/4])\n",
    "    nokta_sayısı = 4\n",
    "\n",
    "    gradyen_xi = sp.diff(şekil, xi)\n",
    "    gradyen_eta = sp.diff(şekil, eta)\n",
    "\n",
    "    gradyen = sp.Matrix([gradyen_eta, gradyen_xi])\n",
    "\n",
    "    gradyen = gradyen.reshape(2,4)\n",
    "\n",
    "    c_şekil = sp.Matrix([0, 0])\n",
    "    for i in range(nokta_sayısı):\n",
    "        c_şekil[0] += x_[i] * şekil[i]\n",
    "        c_şekil[1] += y_[i] * şekil[i]\n",
    "    J = c_şekil.jacobian([xi, eta]).T\n",
    "\n",
    "    def __init__(self, mesh):\n",
    "        self.mesh = mesh\n",
    "        self._dofmap = lambda e, r: self.mesh.hücreler[e, r]\n",
    "\n",
    "    def dofmap(self):\n",
    "        \"\"\"\n",
    "        Return dofmap for CG1 quad element, which is\n",
    "        the same the local to global vertex number mapping of the mesh\n",
    "        \"\"\"\n",
    "        return self._dofmap\n",
    "\n",
    "    def on_boundary(self):\n",
    "        \"\"\"\n",
    "        Returns a list of global numbering of all dofs on the boundary\n",
    "        \"\"\"\n",
    "        b_dofs = []\n",
    "        for i in range(len(self.mesh.vertices)):\n",
    "            # For another FiniteElement, one would have to\n",
    "            # keep a separate dof-map from the mesh\n",
    "            if self.mesh.on_boundary(self.mesh.vertices[i]):\n",
    "                b_dofs.append(i)\n",
    "        return b_dofs"
   ]
  },
  {
   "cell_type": "code",
   "execution_count": 17,
   "id": "be30b9bf",
   "metadata": {},
   "outputs": [],
   "source": [
    "class Dikdörtgen():\n",
    "    def __init__(self, L, H, nx, ny):\n",
    "        \n",
    "        x = np.linspace(0, L, nx+1)\n",
    "        y = np.linspace(0, H, ny+1)\n",
    "        ağ = np.meshgrid(x, y)\n",
    "\n",
    "        noktalar = np.zeros(((nx+1)*(ny+1), 2), dtype=np.float32)\n",
    "        hücreler = np.zeros((nx*ny, 4), dtype=np.int32)\n",
    "\n",
    "        nokta = 0\n",
    "        for iy in range(ny + 1):\n",
    "            for ix in range(nx + 1):\n",
    "                noktalar[nokta, :] = x[ix], y[iy]\n",
    "                nokta += 1\n",
    "\n",
    "        hücre = 0\n",
    "        for iy in range(ny):\n",
    "            for ix in range(nx):\n",
    "                v0 = iy*(nx + 1) + ix\n",
    "                v1 = v0 + 1\n",
    "                v2 = v0 + nx+1\n",
    "                v3 = v1 + nx+1\n",
    "                hücreler[hücre, :] = v0, v1, v3, v2\n",
    "                hücre += 1\n",
    "\n",
    "        self.hücreler = hücreler\n",
    "        self.noktalar = noktalar\n",
    "        self.ağ = ağ\n",
    "\n",
    "    def on_boundary(self, x):\n",
    "        \"\"\" Checking if a coordinate is on the boundary of the mesh \"\"\"\n",
    "        return (np.isclose(x[0], 0) or np.isclose(x[1], 0)\n",
    "                or np.isclose(x[0], L) or np.isclose(x[1], H))"
   ]
  },
  {
   "cell_type": "code",
   "execution_count": 43,
   "id": "db2988aa",
   "metadata": {},
   "outputs": [
    {
     "data": {
      "text/plain": [
       "8"
      ]
     },
     "execution_count": 43,
     "metadata": {},
     "output_type": "execute_result"
    }
   ],
   "source": [
    "nx, ny = 2, 2\n",
    "plaka = Dikdörtgen(L,H,nx,ny)\n",
    "V = FonksiyonUzayı(plaka)\n",
    "V.dofmap()(3,2)"
   ]
  },
  {
   "cell_type": "code",
   "execution_count": 41,
   "id": "0d26931d",
   "metadata": {},
   "outputs": [
    {
     "data": {
      "text/plain": [
       "array([[0, 1, 4, 3],\n",
       "       [1, 2, 5, 4],\n",
       "       [3, 4, 7, 6],\n",
       "       [4, 5, 8, 7]], dtype=int32)"
      ]
     },
     "execution_count": 41,
     "metadata": {},
     "output_type": "execute_result"
    }
   ],
   "source": [
    "plaka.hücreler"
   ]
  }
 ],
 "metadata": {
  "kernelspec": {
   "display_name": "Python 3 (ipykernel)",
   "language": "python",
   "name": "python3"
  },
  "language_info": {
   "codemirror_mode": {
    "name": "ipython",
    "version": 3
   },
   "file_extension": ".py",
   "mimetype": "text/x-python",
   "name": "python",
   "nbconvert_exporter": "python",
   "pygments_lexer": "ipython3",
   "version": "3.10.6"
  }
 },
 "nbformat": 4,
 "nbformat_minor": 5
}
