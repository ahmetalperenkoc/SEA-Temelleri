{
 "cells": [
  {
   "cell_type": "markdown",
   "id": "1f25bb96",
   "metadata": {},
   "source": [
    "# Global sistem çözümü\n",
    "\n",
    "Bu derste ders 7 kapsamında daha önce gördüğümüz tüm bilgileri kullanarak global olarak sistemin tamamını çözümleyeceğiz. Çözeceğimiz problemi tekrar göz önüne getirelim:\n",
    "\n",
    "<img src=\"Resimler/Ders7/2BoyutluProblem.png\" align=\"center\" width= \"600\"/>\n",
    "\n",
    "İlk olarak problemin parametrelerini belirleyerek başlayalım:"
   ]
  },
  {
   "cell_type": "code",
   "execution_count": 47,
   "id": "3a82af81",
   "metadata": {},
   "outputs": [],
   "source": [
    "L = 2\n",
    "H = 2\n",
    "D = 0.05 #m\n",
    "\n",
    "q_1 = -500  # W/m2\n",
    "q_2 = -1000 # W/m2\n",
    "q_3 = -1500 # W/m2\n",
    "\n",
    "k = 5 # W/m2.K\n",
    "T_sonsuz = 30 # C\n",
    "T_sol = 80 # C\n",
    "h = 10 # W/m2K\n",
    "h_z = 2*h/D"
   ]
  },
  {
   "cell_type": "code",
   "execution_count": 48,
   "id": "afca52ad",
   "metadata": {},
   "outputs": [],
   "source": [
    "import sympy as sp\n",
    "import numpy as np\n",
    "from scipy import integrate\n",
    "from sympy.utilities import lambdify"
   ]
  },
  {
   "cell_type": "code",
   "execution_count": 49,
   "id": "1b648bbb",
   "metadata": {},
   "outputs": [],
   "source": [
    "class Dikdörtgen():\n",
    "    \n",
    "    def __init__(self, L, H, nx, ny):\n",
    "        \n",
    "        x = np.linspace(0, L, nx+1)\n",
    "        y = np.linspace(0, H, ny+1)\n",
    "        ağ = np.meshgrid(x, y)\n",
    "\n",
    "        noktalar = np.zeros(((nx+1)*(ny+1), 2), dtype=np.float32)\n",
    "        elemanlar = np.zeros((nx*ny, 4), dtype=np.int32)\n",
    "\n",
    "        nokta = 0\n",
    "        for iy in range(ny + 1):\n",
    "            for ix in range(nx + 1):\n",
    "                noktalar[nokta, :] = x[ix], y[iy]\n",
    "                nokta += 1\n",
    "\n",
    "        eleman = 0\n",
    "        for iy in range(ny):\n",
    "            for ix in range(nx):\n",
    "                v0 = iy*(nx + 1) + ix\n",
    "                v1 = v0 + 1\n",
    "                v2 = v0 + nx+1\n",
    "                v3 = v1 + nx+1\n",
    "                elemanlar[eleman, :] = v0, v1, v3, v2\n",
    "                eleman += 1\n",
    "\n",
    "        self.elemanlar = elemanlar\n",
    "        self.noktalar = noktalar\n",
    "        self.N = len(noktalar) # toplam nokta sayısı\n",
    "        self.ağ = ağ\n",
    "\n",
    "        self.sağ_kenar_noktalar = []\n",
    "        self.üst_kenar_noktalar = []\n",
    "        self.sol_kenar_noktalar = []\n",
    "        self.alt_kenar_noktalar = []\n",
    "\n",
    "        for indis, nokta in enumerate(self.noktalar):\n",
    "            if np.isclose(nokta[0], L):\n",
    "                self.sağ_kenar_noktalar.append(indis)\n",
    "            if np.isclose(nokta[1], H):\n",
    "                self.üst_kenar_noktalar.append(indis)\n",
    "            if np.isclose(nokta[0], 0):\n",
    "                self.sol_kenar_noktalar.append(indis)\n",
    "            if np.isclose(nokta[1], 0):\n",
    "                self.alt_kenar_noktalar.append(indis)\n",
    "        \n",
    "        eleman_id = np.arange(0,nx*ny)\n",
    "\n",
    "        self.sağ_kenar_elemanlar = eleman_id[nx-1::nx]\n",
    "        self.üst_kenar_elemanlar = eleman_id[-nx:]\n",
    "        self.sol_kenar_elemanlar = eleman_id[0::nx]\n",
    "        self.alt_kenar_elemanlar = eleman_id[:nx]\n",
    "\n",
    "        self.kenar_elemanlar = {'sağ':eleman_id[nx-1::nx],\n",
    "                                'üst':eleman_id[-nx:],\n",
    "                                'sol':eleman_id[0::nx],\n",
    "                                'alt':eleman_id[:nx]\n",
    "                                }\n",
    "\n"
   ]
  },
  {
   "cell_type": "code",
   "execution_count": 50,
   "id": "b3824a5d",
   "metadata": {},
   "outputs": [
    {
     "name": "stdout",
     "output_type": "stream",
     "text": [
      "[[0 1 4 3]\n",
      " [1 2 5 4]\n",
      " [3 4 7 6]\n",
      " [4 5 8 7]]\n",
      "[0 2]\n",
      "[0 1]\n",
      "[2 3]\n",
      "[1 3]\n",
      "[[0. 0.]\n",
      " [1. 0.]\n",
      " [2. 0.]\n",
      " [0. 1.]\n",
      " [1. 1.]\n",
      " [2. 1.]\n",
      " [0. 2.]\n",
      " [1. 2.]\n",
      " [2. 2.]]\n"
     ]
    }
   ],
   "source": [
    "nx, ny = 2, 2\n",
    "plaka = Dikdörtgen(L,H,nx,ny)\n",
    "print(plaka.elemanlar)\n",
    "print(plaka.kenar_elemanlar['sol'])\n",
    "print(plaka.kenar_elemanlar['alt'])\n",
    "print(plaka.kenar_elemanlar['üst'])\n",
    "print(plaka.kenar_elemanlar['sağ'])\n",
    "print(plaka.noktalar)"
   ]
  },
  {
   "attachments": {},
   "cell_type": "markdown",
   "id": "a6b47128",
   "metadata": {},
   "source": [
    "referans şekli ve global noktaları numaralarıyla göster"
   ]
  },
  {
   "cell_type": "code",
   "execution_count": 51,
   "id": "22bc63ed",
   "metadata": {},
   "outputs": [],
   "source": [
    "class FonksiyonUzayı():\n",
    "    \"\"\"\n",
    "    Symbolic representation of the quadrilateral elements with four nodes\n",
    "    \"\"\"\n",
    "    def __init__(self, mesh):\n",
    "        self.mesh = mesh\n",
    "        xi = sp.Symbol(\"xi\")\n",
    "        eta = sp.Symbol(\"eta\")\n",
    "        x_ = sp.symbols(\"x1,x2,x3,x4\")\n",
    "        y_ = sp.symbols(\"y1,y2,y3,y4\")\n",
    "        \n",
    "        şekil = sp.Matrix([ (1-xi)*(1-eta)/4,\n",
    "                            (1+xi)*(1-eta)/4,\n",
    "                            (1+xi)*(1+eta)/4,\n",
    "                            (1-xi)*(1+eta)/4])\n",
    "        \n",
    "        self.nokta_sayısı = 4\n",
    "\n",
    "        gradyen_xi = sp.diff(şekil, xi)\n",
    "        gradyen_eta = sp.diff(şekil, eta)\n",
    "\n",
    "        gradyen = sp.Matrix([gradyen_eta, gradyen_xi])\n",
    "\n",
    "        c_şekil = sp.Matrix([0, 0])\n",
    "        for i in range(self.nokta_sayısı):\n",
    "            c_şekil[0] += x_[i] * şekil[i]\n",
    "            c_şekil[1] += y_[i] * şekil[i]\n",
    "\n",
    "        self.gradyen = gradyen.reshape(2,4)\n",
    "        self.şekil = şekil\n",
    "        self.eta   = eta\n",
    "        self.xi    = xi\n",
    "        self.x_ = x_\n",
    "        self.y_ = y_\n",
    "        \n",
    "        self.J = c_şekil.jacobian([xi, eta]).T\n",
    "        self._dofmap = lambda e, r: self.mesh.elemanlar[e, r]\n",
    "    \n",
    "    def lokal_jakobyen(self, eleman_no):\n",
    "        # Elemana ait noktaların global indislerini içeren dizi\n",
    "        eleman_nokta_indisler = self.mesh.elemanlar[eleman_no]\n",
    "        # Elemana ait koordinatların x ve y noktalarını içeren dizi\n",
    "        eleman_noktalar = np.take(self.mesh.noktalar, eleman_nokta_indisler, axis=0)\n",
    "        \n",
    "        J = self.J\n",
    "\n",
    "        for indis, nokta in enumerate(eleman_noktalar):\n",
    "            J = J.subs(self.x_[indis],nokta[0]) # x koordinatı \n",
    "            J = J.subs(self.y_[indis],nokta[1]) # y koordinatı\n",
    "        \n",
    "        return J\n",
    "    \n",
    "    def K_e_eleman(self, eleman_no):\n",
    "\n",
    "        J = self.lokal_jakobyen(eleman_no)\n",
    "\n",
    "        K_e_sym = self.gradyen.T*(J**(-1)).T*k*(J**(-1))*self.gradyen*J.det()\n",
    "\n",
    "        K_e = np.zeros((self.nokta_sayısı,self.nokta_sayısı))\n",
    "\n",
    "        for i in range(self.nokta_sayısı):\n",
    "            for j in range(self.nokta_sayısı):\n",
    "                geçici_fonksiyon = lambdify( (self.xi,self.eta), K_e_sym[i,j], 'math' )\n",
    "                K_e[i,j] += integrate.nquad(geçici_fonksiyon, [[-1, 1],[-1, 1]])[0]\n",
    "                \n",
    "        return K_e\n",
    "    \n",
    "    def K_t_eleman(self, eleman_no, h_z):\n",
    "\n",
    "        J = self.lokal_jakobyen(eleman_no)\n",
    "\n",
    "        K_t_sym = h_z*self.şekil*self.şekil.T*J.det()\n",
    "    \n",
    "        K_t = np.zeros((self.nokta_sayısı,self.nokta_sayısı))\n",
    "        \n",
    "        for i in range(self.nokta_sayısı):\n",
    "            for j in range(self.nokta_sayısı):\n",
    "                geçici_fonksiyon = lambdify( (self.xi,self.eta), K_t_sym[i,j], 'math' )\n",
    "                K_t[i,j] += integrate.nquad(geçici_fonksiyon, [[-1, 1],[-1, 1]])[0]\n",
    "        return K_t\n",
    "    \n",
    "    def f_e_1_eleman_yatay(self, eleman_no, q_eta, kenar):\n",
    "\n",
    "        J = self.lokal_jakobyen(eleman_no)\n",
    "            \n",
    "        q_eta = sp.Matrix(q_eta)\n",
    "\n",
    "        f_e_1_sym_yatay = self.şekil.multiply_elementwise(q_eta)*sp.sqrt(J[1,0]**2+J[1,1]**2)\n",
    "\n",
    "        if kenar == 'üst':\n",
    "            kenar_değer = 1\n",
    "        elif kenar == 'alt':\n",
    "            kenar_değer = -1\n",
    "\n",
    "        f_e_1_sym_yatay = f_e_1_sym_yatay.subs(self.eta, kenar_değer) \n",
    "\n",
    "        f_e_1_yatay = np.zeros(self.nokta_sayısı)\n",
    "\n",
    "        for i in range(self.nokta_sayısı):\n",
    "            yatay_fonksiyon = lambdify( self.xi, f_e_1_sym_yatay[i], 'math' )\n",
    "            f_e_1_yatay[i] += integrate.quad(yatay_fonksiyon, -1, 1)[0]\n",
    "            \n",
    "        return f_e_1_yatay\n",
    "    \n",
    "    def f_e_1_eleman_dikey(self, eleman_no, q_xi, kenar):\n",
    "\n",
    "        J = self.lokal_jakobyen(eleman_no)\n",
    "            \n",
    "        q_xi  = sp.Matrix(q_xi)\n",
    "\n",
    "        f_e_1_sym_dikey = self.şekil.multiply_elementwise(q_xi)*sp.sqrt(J[0,0]**2+J[0,1]**2)\n",
    "\n",
    "        if kenar == 'sağ':\n",
    "            kenar_değer = 1\n",
    "        elif kenar == 'sol':\n",
    "            kenar_değer = -1\n",
    "\n",
    "        f_e_1_sym_dikey = f_e_1_sym_dikey.subs(self.xi,kenar_değer) \n",
    "\n",
    "        f_e_1_dikey = np.zeros(self.nokta_sayısı)\n",
    "\n",
    "        for i in range(self.nokta_sayısı):\n",
    "            dikey_fonksiyon = lambdify(self.eta, f_e_1_sym_dikey[i], 'math' )\n",
    "            f_e_1_dikey[i] += integrate.quad(dikey_fonksiyon, -1, 1)[0]\n",
    "            \n",
    "        return f_e_1_dikey\n",
    "    \n",
    "    def f_e_2_eleman(self, eleman_no, h, t_z, T_sonsuz):\n",
    "\n",
    "        J = self.lokal_jakobyen(eleman_no)\n",
    "\n",
    "        h_z = 2*h/t_z\n",
    "\n",
    "        f_e_2_sym = h_z*T_sonsuz*self.şekil*J.det()\n",
    "        \n",
    "        f_e_2 = np.zeros((self.nokta_sayısı,1))\n",
    "\n",
    "        for i in range(self.nokta_sayısı):\n",
    "            taşınım_fonksiyon = lambdify( (self.xi, self.eta), f_e_2_sym[i], 'math' )\n",
    "            f_e_2[i] += integrate.nquad(taşınım_fonksiyon, [[-1, 1],[-1, 1]])[0]\n",
    "\n",
    "        return f_e_2\n",
    "    \n",
    "    def dofmap(self):\n",
    "        \"\"\"\n",
    "        Return dofmap for CG1 quad element, which is\n",
    "        the same the local to global vertex number mapping of the mesh\n",
    "        \"\"\"\n",
    "        return self._dofmap"
   ]
  },
  {
   "cell_type": "code",
   "execution_count": 52,
   "id": "db2988aa",
   "metadata": {},
   "outputs": [
    {
     "data": {
      "text/plain": [
       "8"
      ]
     },
     "execution_count": 52,
     "metadata": {},
     "output_type": "execute_result"
    }
   ],
   "source": [
    "\n",
    "V = FonksiyonUzayı(plaka)\n",
    "V.dofmap()(3,2)\n"
   ]
  },
  {
   "cell_type": "code",
   "execution_count": 53,
   "id": "0507fa08",
   "metadata": {},
   "outputs": [
    {
     "data": {
      "text/plain": [
       "array([[ 47.77777778,  21.38888889,   0.        ,  21.38888889,   9.44444444,   0.        ,   0.        ,   0.        ,   0.        ],\n",
       "       [ 21.38888889,  95.55555556,  21.38888889,   9.44444444,  42.77777778,   9.44444444,   0.        ,   0.        ,   0.        ],\n",
       "       [  0.        ,  21.38888889,  47.77777778,   0.        ,   9.44444444,  21.38888889,   0.        ,   0.        ,   0.        ],\n",
       "       [ 21.38888889,   9.44444444,   0.        ,  95.55555556,  42.77777778,   0.        ,  21.38888889,   9.44444444,   0.        ],\n",
       "       [  9.44444444,  42.77777778,   9.44444444,  42.77777778, 191.11111111,  42.77777778,   9.44444444,  42.77777778,   9.44444444],\n",
       "       [  0.        ,   9.44444444,  21.38888889,   0.        ,  42.77777778,  95.55555556,   0.        ,   9.44444444,  21.38888889],\n",
       "       [  0.        ,   0.        ,   0.        ,  21.38888889,   9.44444444,   0.        ,  47.77777778,  21.38888889,   0.        ],\n",
       "       [  0.        ,   0.        ,   0.        ,   9.44444444,  42.77777778,   9.44444444,  21.38888889,  95.55555556,  21.38888889],\n",
       "       [  0.        ,   0.        ,   0.        ,   0.        ,   9.44444444,  21.38888889,   0.        ,  21.38888889,  47.77777778]])"
      ]
     },
     "execution_count": 53,
     "metadata": {},
     "output_type": "execute_result"
    }
   ],
   "source": [
    "np.set_printoptions(linewidth=150)\n",
    "\n",
    "K_global = np.zeros((plaka.N, plaka.N))\n",
    "\n",
    "for eleman_no, eleman in enumerate(plaka.elemanlar):\n",
    "    K_lokal = V.K_e_eleman(eleman_no) + V.K_t_eleman(eleman_no,h_z)\n",
    "    for lokal_x, global_x in enumerate(eleman):\n",
    "        for lokal_y, global_y in enumerate(eleman):\n",
    "            K_global[global_x][global_y] += K_lokal[lokal_x][lokal_y]\n",
    "\n",
    "K_global"
   ]
  },
  {
   "cell_type": "code",
   "execution_count": 54,
   "id": "5a170fa6",
   "metadata": {},
   "outputs": [
    {
     "name": "stdout",
     "output_type": "stream",
     "text": [
      "[    0.     0. -1000.     0.     0. -1000.     0.     0. -1000.]\n",
      "[-1500. -1500. -1500.     0.     0.     0.  -500.  -500.  -500.]\n"
     ]
    }
   ],
   "source": [
    "q_x = np.zeros((plaka.N))\n",
    "q_y = np.zeros((plaka.N))\n",
    "\n",
    "q_y[plaka.üst_kenar_noktalar] += q_1\n",
    "q_x[plaka.sağ_kenar_noktalar] += q_2\n",
    "q_y[plaka.alt_kenar_noktalar] += q_3\n",
    "\n",
    "print(q_x)\n",
    "print(q_y)\n"
   ]
  },
  {
   "cell_type": "code",
   "execution_count": 55,
   "id": "9d3a11fa",
   "metadata": {},
   "outputs": [
    {
     "name": "stdout",
     "output_type": "stream",
     "text": [
      "Toplam:  [-750. -750.    0.    0.]\n"
     ]
    }
   ],
   "source": [
    "eleman_no = 0\n",
    "\n",
    "q_eta  = q_y[plaka.elemanlar[eleman_no]] \n",
    "q_xi   = q_x[plaka.elemanlar[eleman_no]] \n",
    "\n",
    "a = V.f_e_1_eleman_yatay(eleman_no, q_eta, 'alt')\n",
    "b = V.f_e_1_eleman_dikey(eleman_no, q_xi, 'sol')\n",
    "print('Toplam: ', a+b)\n"
   ]
  },
  {
   "cell_type": "code",
   "execution_count": 56,
   "id": "dde29b93",
   "metadata": {},
   "outputs": [
    {
     "name": "stdout",
     "output_type": "stream",
     "text": [
      "Toplam:  [ -750. -1250.  -500.     0.]\n"
     ]
    }
   ],
   "source": [
    "eleman_no = 1\n",
    "\n",
    "q_eta  = q_y[plaka.elemanlar[eleman_no]] \n",
    "q_xi   = q_x[plaka.elemanlar[eleman_no]] \n",
    "\n",
    "a = V.f_e_1_eleman_yatay(eleman_no, q_eta, 'alt')\n",
    "b = V.f_e_1_eleman_dikey(eleman_no, q_xi, 'sağ')\n",
    "print('Toplam: ', a+b)\n"
   ]
  },
  {
   "cell_type": "code",
   "execution_count": 57,
   "id": "5763aa33",
   "metadata": {},
   "outputs": [
    {
     "name": "stdout",
     "output_type": "stream",
     "text": [
      "Toplam:  [   0.    0. -250. -250.]\n"
     ]
    }
   ],
   "source": [
    "eleman_no = 2\n",
    "\n",
    "q_eta  = q_y[plaka.elemanlar[eleman_no]] \n",
    "q_xi   = q_x[plaka.elemanlar[eleman_no]] \n",
    "\n",
    "a = V.f_e_1_eleman_yatay(eleman_no, q_eta, 'üst')\n",
    "b = V.f_e_1_eleman_dikey(eleman_no, q_xi, 'sol')\n",
    "print('Toplam: ', a+b)"
   ]
  },
  {
   "cell_type": "code",
   "execution_count": 58,
   "id": "8dcae860",
   "metadata": {},
   "outputs": [
    {
     "name": "stdout",
     "output_type": "stream",
     "text": [
      "[   0.    0. -250. -250.]\n",
      "[   0. -500. -500.    0.]\n"
     ]
    }
   ],
   "source": [
    "eleman_no = 3\n",
    "\n",
    "q_eta  = q_y[plaka.elemanlar[eleman_no]] \n",
    "q_xi   = q_x[plaka.elemanlar[eleman_no]] \n",
    "\n",
    "# print(q_eta + q_xi)\n",
    "\n",
    "\n",
    "print(V.f_e_1_eleman_yatay(eleman_no, q_eta, 'üst'))\n",
    "print(V.f_e_1_eleman_dikey(eleman_no, q_xi, 'sağ'))"
   ]
  },
  {
   "cell_type": "code",
   "execution_count": 59,
   "id": "0a69797c",
   "metadata": {},
   "outputs": [
    {
     "name": "stdout",
     "output_type": "stream",
     "text": [
      "[[    0.]\n",
      " [    0.]\n",
      " [ -500.]\n",
      " [    0.]\n",
      " [    0.]\n",
      " [-1000.]\n",
      " [ -250.]\n",
      " [ -500.]\n",
      " [ -750.]]\n"
     ]
    },
    {
     "data": {
      "text/plain": [
       "array([[12000.],\n",
       "       [24000.],\n",
       "       [11500.],\n",
       "       [24000.],\n",
       "       [48000.],\n",
       "       [23000.],\n",
       "       [11750.],\n",
       "       [23500.],\n",
       "       [11250.]])"
      ]
     },
     "execution_count": 59,
     "metadata": {},
     "output_type": "execute_result"
    }
   ],
   "source": [
    "f_global = np.zeros((plaka.N, 1))\n",
    "\n",
    "for eleman in plaka.sağ_kenar_elemanlar:\n",
    "    q_xi = q_x[plaka.elemanlar[eleman_no]] \n",
    "    f_lokal_1 = V.f_e_1_eleman_dikey(eleman_no, q_xi, 'sağ')\n",
    "    for lokal_x, global_x in enumerate(plaka.elemanlar[eleman]):\n",
    "        f_global[global_x] += f_lokal_1[lokal_x]\n",
    "\n",
    "for eleman in plaka.üst_kenar_elemanlar:\n",
    "    q_eta = q_y[plaka.elemanlar[eleman_no]] \n",
    "    f_lokal_1 = V.f_e_1_eleman_yatay(eleman_no, q_eta, 'üst')\n",
    "    for lokal_x, global_x in enumerate(plaka.elemanlar[eleman]):\n",
    "        f_global[global_x] += f_lokal_1[lokal_x]\n",
    "\n",
    "for eleman in plaka.sol_kenar_elemanlar:\n",
    "    q_xi = q_x[plaka.elemanlar[eleman_no]] \n",
    "    f_lokal_1 = V.f_e_1_eleman_dikey(eleman_no, q_xi, 'sol')\n",
    "    for lokal_x, global_x in enumerate(plaka.elemanlar[eleman]):\n",
    "        f_global[global_x] += f_lokal_1[lokal_x]\n",
    "\n",
    "for eleman in plaka.alt_kenar_elemanlar:\n",
    "    q_eta = q_y[plaka.elemanlar[eleman_no]] \n",
    "    f_lokal_1 = V.f_e_1_eleman_yatay(eleman_no, q_eta, 'alt')\n",
    "    for lokal_x, global_x in enumerate(plaka.elemanlar[eleman]):\n",
    "        f_global[global_x] += f_lokal_1[lokal_x]\n",
    "\n",
    "print(f_global)\n",
    "for eleman_no, eleman in enumerate(plaka.elemanlar):\n",
    "    f_lokal_2 = V.f_e_2_eleman(eleman_no, h, D, T_sonsuz)\n",
    "    for lokal_x, global_x in enumerate(eleman):\n",
    "        for lokal_y, global_y in enumerate(eleman):\n",
    "            f_global[global_x] += f_lokal_2[lokal_x]\n",
    "\n",
    "f_global"
   ]
  },
  {
   "cell_type": "code",
   "execution_count": 60,
   "id": "26adfb16",
   "metadata": {},
   "outputs": [
    {
     "name": "stdout",
     "output_type": "stream",
     "text": [
      "[0, 3, 6]\n",
      "[[2.00000001e+12]\n",
      " [2.40000000e+04]\n",
      " [1.15000000e+04]\n",
      " [2.00000002e+12]\n",
      " [4.80000000e+04]\n",
      " [2.30000000e+04]\n",
      " [2.00000001e+12]\n",
      " [2.35000000e+04]\n",
      " [1.12500000e+04]]\n"
     ]
    }
   ],
   "source": [
    "alpha = [10e-12, 10e-12, 10e-12]\n",
    "beta  = [1, 1, 1]\n",
    "gamma = [T_sol, T_sol, T_sol]\n",
    "print(plaka.sol_kenar_noktalar)\n",
    "# x=0'daki sınır koşulları\n",
    "A = H/2*D\n",
    "for i, kenar in enumerate(plaka.sol_kenar_noktalar):\n",
    "\n",
    "    K_global[kenar,kenar]+= 1*beta[i]*k*A/alpha[i]  \n",
    "    f_global[kenar] += 1*gamma[i]*k*A/alpha[i]\n",
    "# K_global\n",
    "\n",
    "print(f_global)"
   ]
  },
  {
   "cell_type": "code",
   "execution_count": 61,
   "id": "e17b5364",
   "metadata": {},
   "outputs": [
    {
     "name": "stdout",
     "output_type": "stream",
     "text": [
      "[[ 80.0000001 ]\n",
      " [131.12387827]\n",
      " [107.16620372]\n",
      " [ 80.00000019]\n",
      " [132.95015531]\n",
      " [108.44894875]\n",
      " [ 80.00000009]\n",
      " [126.61026982]\n",
      " [103.95427261]]\n"
     ]
    }
   ],
   "source": [
    "from scipy.linalg import solve\n",
    "u = solve(K_global,f_global)\n",
    "print(u)\n",
    "u_plot = u.reshape(nx+1,ny+1)"
   ]
  },
  {
   "cell_type": "code",
   "execution_count": 62,
   "id": "281a645c",
   "metadata": {},
   "outputs": [
    {
     "data": {
      "text/plain": [
       "<matplotlib.colorbar.Colorbar at 0x7efb32f9ce50>"
      ]
     },
     "execution_count": 62,
     "metadata": {},
     "output_type": "execute_result"
    },
    {
     "data": {
      "image/png": "[encoded data removed]",
      "text/plain": [
       "<Figure size 432x288 with 2 Axes>"
      ]
     },
     "metadata": {
      "needs_background": "light"
     },
     "output_type": "display_data"
    }
   ],
   "source": [
    "import matplotlib.pyplot as plt\n",
    "\n",
    "X,Y = plaka.ağ\n",
    "\n",
    "plt.contourf(X,Y,u_plot)\n",
    "plt.colorbar()"
   ]
  },
  {
   "cell_type": "code",
   "execution_count": 70,
   "id": "7ca087a8",
   "metadata": {},
   "outputs": [
    {
     "name": "stdout",
     "output_type": "stream",
     "text": [
      "[79.99999977  3.61646563 16.27618081 79.99999951 24.46239931 31.04295417 79.99999976 12.64368252 22.70004301]\n"
     ]
    },
    {
     "data": {
      "text/plain": [
       "<matplotlib.colorbar.Colorbar at 0x7efb32b3bfa0>"
      ]
     },
     "execution_count": 70,
     "metadata": {},
     "output_type": "execute_result"
    },
    {
     "data": {
      "image/png": "[encoded data removed]",
      "text/plain": [
       "<Figure size 432x288 with 2 Axes>"
      ]
     },
     "metadata": {
      "needs_background": "light"
     },
     "output_type": "display_data"
    }
   ],
   "source": [
    "\n",
    "K_kitap = K_global\n",
    "f_kitap = np.array([2E12, 4500, 1750, 2E12, 12000, 5000, 2E12, 5500, 2250])\n",
    "u_kitap = solve(K_kitap,f_kitap)\n",
    "print(u_kitap)\n",
    "u_kitap = u_kitap.reshape(nx+1,ny+1)\n",
    "\n",
    "X,Y = plaka.ağ\n",
    "\n",
    "plt.contourf(X,Y,u_kitap)\n",
    "plt.colorbar()"
   ]
  }
 ],
 "metadata": {
  "kernelspec": {
   "display_name": "Python 3 (ipykernel)",
   "language": "python",
   "name": "python3"
  },
  "language_info": {
   "codemirror_mode": {
    "name": "ipython",
    "version": 3
   },
   "file_extension": ".py",
   "mimetype": "text/x-python",
   "name": "python",
   "nbconvert_exporter": "python",
   "pygments_lexer": "ipython3",
   "version": "3.10.6"
  }
 },
 "nbformat": 4,
 "nbformat_minor": 5
}
