{
 "cells": [
  {
   "attachments": {},
   "cell_type": "markdown",
   "id": "1f25bb96",
   "metadata": {},
   "source": [
    "# Global olarak 2 boyutlu problemin modellenmesi\n",
    "\n",
    "Bu derste ders 7 kapsamında daha önce gördüğümüz tüm bilgileri kullanarak global olarak sistemin tamamını çözümleyeceğiz. Çözeceğimiz problemi tekrar göz önüne getirelim:\n",
    "\n",
    "<img src=\"Resimler/Ders7/2BoyutluProblem.png\" align=\"center\" width= \"600\"/>\n",
    "\n",
    "İlk olarak problemin parametrelerini belirleyerek başlayalım:"
   ]
  },
  {
   "cell_type": "code",
   "execution_count": 65,
   "id": "3a82af81",
   "metadata": {},
   "outputs": [],
   "source": [
    "L = 2    # m\n",
    "H = 2    # m\n",
    "D = 0.05 # m\n",
    "\n",
    "q_1 = -500  # W/m2\n",
    "q_2 = -1000 # W/m2\n",
    "q_3 = -1500 # W/m2\n",
    "\n",
    "T_sonsuz = 30 # C\n",
    "T_sol = 80    # C\n",
    "k = 5  # W/m2.K\n",
    "h = 10 # W/m2K\n",
    "h_z = 2*h/D"
   ]
  },
  {
   "attachments": {},
   "cell_type": "markdown",
   "id": "f4a3ecde",
   "metadata": {},
   "source": [
    "Şimdi bu derste kullanacağımız kütüphaneleri çağıralım:"
   ]
  },
  {
   "cell_type": "code",
   "execution_count": 66,
   "id": "afca52ad",
   "metadata": {},
   "outputs": [],
   "source": [
    "import sympy as sp\n",
    "import numpy as np\n",
    "from scipy import integrate\n",
    "from sympy.utilities import lambdify"
   ]
  },
  {
   "attachments": {},
   "cell_type": "markdown",
   "id": "650a3e7d",
   "metadata": {},
   "source": [
    "Bir önceki derste plakayı x ve y yönlerinde 2 eş parçaya bölmüştük. Bu bölümde problemin tamamını çözeceğimiz için 2x2lik bir ağ yapısını noktaları ve elemanları numaralandırılmiş bir biçimde gösterelim: \n",
    "\n",
    "<img src=\"Resimler/Ders7/7e_TamMesh.png\" align=\"center\" width= \"600\"/>\n",
    "\n",
    "Şekilde görüldüğü üzere eleman numaraları ve nokta numaraları soldan sağa olacak şekilde artacak şekilde belirlenmiştir. \n",
    "\n",
    "## Geometri sınıfının oluşturulması\n",
    "\n",
    "Bu ağ yapısını belirtilen numaralandırma metoduna göre oluşturan, uzunluğu ve genişliğine ek olarak *x* ve *y* eksenlerindeki eleman sayısı da belirlenebilen bir *Dikdörtgen* sınıfı tanımlayalalım. "
   ]
  },
  {
   "cell_type": "code",
   "execution_count": 67,
   "id": "1b648bbb",
   "metadata": {},
   "outputs": [],
   "source": [
    "class Dikdörtgen():\n",
    "    \n",
    "    def __init__(self, L, H, nx, ny):\n",
    "        \n",
    "        x = np.linspace(0, L, nx+1)\n",
    "        y = np.linspace(0, H, ny+1)\n",
    "        ağ = np.meshgrid(x, y)\n",
    "\n",
    "        noktalar = np.zeros(((nx+1)*(ny+1), 2), dtype=np.float32)\n",
    "        elemanlar = np.zeros((nx*ny, 4), dtype=np.int32)\n",
    "\n",
    "        nokta = 0\n",
    "        for iy in range(ny + 1):\n",
    "            for ix in range(nx + 1):\n",
    "                noktalar[nokta, :] = x[ix], y[iy]\n",
    "                nokta += 1\n",
    "\n",
    "        eleman = 0\n",
    "        for iy in range(ny):\n",
    "            for ix in range(nx):\n",
    "                v0 = iy*(nx + 1) + ix\n",
    "                v1 = v0 + 1\n",
    "                v2 = v0 + nx+1\n",
    "                v3 = v1 + nx+1\n",
    "                elemanlar[eleman, :] = v0, v1, v3, v2\n",
    "                eleman += 1\n",
    "\n",
    "        self.elemanlar = elemanlar\n",
    "        self.noktalar = noktalar\n",
    "        self.N = len(noktalar) # toplam nokta sayısı\n",
    "        self.ağ = ağ\n",
    "        self.nx = nx\n",
    "        self.ny = ny\n",
    "\n",
    "        self.sağ_kenar_noktalar = []\n",
    "        self.üst_kenar_noktalar = []\n",
    "        self.sol_kenar_noktalar = []\n",
    "        self.alt_kenar_noktalar = []\n",
    "\n",
    "        for indis, nokta in enumerate(self.noktalar):\n",
    "            if np.isclose(nokta[0], L):\n",
    "                self.sağ_kenar_noktalar.append(indis)\n",
    "            if np.isclose(nokta[1], H):\n",
    "                self.üst_kenar_noktalar.append(indis)\n",
    "            if np.isclose(nokta[0], 0):\n",
    "                self.sol_kenar_noktalar.append(indis)\n",
    "            if np.isclose(nokta[1], 0):\n",
    "                self.alt_kenar_noktalar.append(indis)\n",
    "        \n",
    "        eleman_id = np.arange(0,nx*ny)\n",
    "\n",
    "        self.kenar_elemanlar = {'sağ':eleman_id[nx-1::nx],\n",
    "                                'üst':eleman_id[-nx:],\n",
    "                                'sol':eleman_id[0::nx],\n",
    "                                'alt':eleman_id[:nx]\n",
    "                                }"
   ]
  },
  {
   "attachments": {},
   "cell_type": "markdown",
   "id": "fa65ad7b",
   "metadata": {},
   "source": [
    "Şimdi bu sınıfı kullanarak 2x2lik dikdörtgen plakayı tanımlayabiliriz:"
   ]
  },
  {
   "cell_type": "code",
   "execution_count": 68,
   "id": "b3824a5d",
   "metadata": {},
   "outputs": [],
   "source": [
    "nx, ny = 2, 2\n",
    "plaka = Dikdörtgen(L,H,nx,ny)"
   ]
  },
  {
   "attachments": {},
   "cell_type": "markdown",
   "id": "d9cbad8a",
   "metadata": {},
   "source": [
    "Tanımladığımız plakanın elemanlarına ve o elemanlara ait noktaların global indislerine ulaşmak için *Dikdörtgen* sınıfının *elemanlar* özelliğini kullanabiliriz:"
   ]
  },
  {
   "cell_type": "code",
   "execution_count": 69,
   "id": "5c003221",
   "metadata": {},
   "outputs": [
    {
     "data": {
      "text/plain": [
       "array([[0, 1, 4, 3],\n",
       "       [1, 2, 5, 4],\n",
       "       [3, 4, 7, 6],\n",
       "       [4, 5, 8, 7]], dtype=int32)"
      ]
     },
     "execution_count": 69,
     "metadata": {},
     "output_type": "execute_result"
    }
   ],
   "source": [
    "plaka.elemanlar"
   ]
  },
  {
   "attachments": {},
   "cell_type": "markdown",
   "id": "88538d30",
   "metadata": {},
   "source": [
    "Yukarıdaki şekilden de teyit edilebileceği üzere dizinin ilk elemanı olan alt-dizi, 0. elemana ait noktaları saat yönünün tersi yönünde sol alt köşeden başlayarak sırasıyla göstermektedir. Benzer şekilde oluşturduğumuz ağın noktalarına da"
   ]
  },
  {
   "cell_type": "code",
   "execution_count": 70,
   "id": "03b046ba",
   "metadata": {},
   "outputs": [
    {
     "data": {
      "text/plain": [
       "array([[0., 0.],\n",
       "       [1., 0.],\n",
       "       [2., 0.],\n",
       "       [0., 1.],\n",
       "       [1., 1.],\n",
       "       [2., 1.],\n",
       "       [0., 2.],\n",
       "       [1., 2.],\n",
       "       [2., 2.]], dtype=float32)"
      ]
     },
     "execution_count": 70,
     "metadata": {},
     "output_type": "execute_result"
    }
   ],
   "source": [
    "plaka.noktalar"
   ]
  },
  {
   "attachments": {},
   "cell_type": "markdown",
   "id": "f4c83373",
   "metadata": {},
   "source": [
    "yazarak ulaştığımızda soldan sağa doğru sıralanmış noktalara ait diziye ulaşabiliriz. Bu sınıfla ilgili olarak herhangi bir kenardaki eleman indislerine ulaşmak için *kenar_elemanlar* özelliğini kullanabiliriz. Örneğin sol kenarda yer alan elemanların indisine ulaşmak için:"
   ]
  },
  {
   "cell_type": "code",
   "execution_count": 71,
   "id": "3fd20cb4",
   "metadata": {},
   "outputs": [
    {
     "data": {
      "text/plain": [
       "array([0, 2])"
      ]
     },
     "execution_count": 71,
     "metadata": {},
     "output_type": "execute_result"
    }
   ],
   "source": [
    "plaka.kenar_elemanlar['sol']"
   ]
  },
  {
   "attachments": {},
   "cell_type": "markdown",
   "id": "c57ce2db",
   "metadata": {},
   "source": [
    "yazdığımızda sol kenardaki elemanların global indisine erişebiliriz. Bu noktada geometri ile ilgili tanımlamaları tamamlamış olduk."
   ]
  },
  {
   "attachments": {},
   "cell_type": "markdown",
   "id": "cda20bb0",
   "metadata": {},
   "source": [
    "## Fonksiyon uzayı sınıfının tanımlanması"
   ]
  },
  {
   "attachments": {},
   "cell_type": "markdown",
   "id": "a6b47128",
   "metadata": {},
   "source": [
    "Eğitimin 7. bölümündeki diğer derslerde anlatıldığı üzere matris ve vektörleri oluştururken dikdörtgen şekil fonksiyonlarından sürekli olarak faydalandık. Bu bölümde kullanacağımız referans şeklin lokal numaralarını tekrar gösterelim:\n",
    "\n",
    "<img src=\"Resimler/Ders7/7e_referansEleman.png\" align=\"center\" width= \"300\"/>\n",
    "\n",
    "\n",
    "Lokal matrisleri ve vektörleri tanımlarken sürekli olarak bu referans elemana ait şekil fonksiyonlarını ve onun değişkenlerini kullanmamız gerekeceğinden *FonksiyonUzayı* adı altında bir sınıf tanımlayalım: "
   ]
  },
  {
   "cell_type": "code",
   "execution_count": 72,
   "id": "22bc63ed",
   "metadata": {},
   "outputs": [],
   "source": [
    "class FonksiyonUzayı():\n",
    "    \"\"\"\n",
    "    Symbolic representation of the quadrilateral elements with four nodes\n",
    "    \"\"\"\n",
    "    def __init__(self, mesh):\n",
    "        self.mesh = mesh\n",
    "        xi = sp.Symbol(\"xi\")\n",
    "        eta = sp.Symbol(\"eta\")\n",
    "        x_ = sp.symbols(\"x1,x2,x3,x4\")\n",
    "        y_ = sp.symbols(\"y1,y2,y3,y4\")\n",
    "        \n",
    "        şekil = sp.Matrix([ (1-xi)*(1-eta)/4,\n",
    "                            (1+xi)*(1-eta)/4,\n",
    "                            (1+xi)*(1+eta)/4,\n",
    "                            (1-xi)*(1+eta)/4])\n",
    "        \n",
    "        self.nokta_sayısı = 4\n",
    "\n",
    "        gradyen_xi = sp.diff(şekil, xi)\n",
    "        gradyen_eta = sp.diff(şekil, eta)\n",
    "\n",
    "        gradyen = sp.Matrix([gradyen_eta, gradyen_xi])\n",
    "\n",
    "        c_şekil = sp.Matrix([0, 0])\n",
    "        for i in range(self.nokta_sayısı):\n",
    "            c_şekil[0] += x_[i] * şekil[i]\n",
    "            c_şekil[1] += y_[i] * şekil[i]\n",
    "\n",
    "        self.gradyen = gradyen.reshape(2,4)\n",
    "        self.şekil = şekil\n",
    "        self.eta   = eta\n",
    "        self.xi    = xi\n",
    "        self.x_ = x_\n",
    "        self.y_ = y_\n",
    "        \n",
    "        self.J = c_şekil.jacobian([xi, eta]).T\n",
    "        self._dofmap = lambda e, r: self.mesh.elemanlar[e, r]\n",
    "    \n",
    "    def lokal_jakobyen(self, eleman_no):\n",
    "        # Elemana ait noktaların global indislerini içeren dizi\n",
    "        eleman_nokta_indisler = self.mesh.elemanlar[eleman_no]\n",
    "        # Elemana ait koordinatların x ve y noktalarını içeren dizi\n",
    "        eleman_noktalar = np.take(self.mesh.noktalar, eleman_nokta_indisler, axis=0)\n",
    "        \n",
    "        J = self.J\n",
    "\n",
    "        for indis, nokta in enumerate(eleman_noktalar):\n",
    "            J = J.subs(self.x_[indis],nokta[0]) # x koordinatı \n",
    "            J = J.subs(self.y_[indis],nokta[1]) # y koordinatı\n",
    "        \n",
    "        return J"
   ]
  },
  {
   "attachments": {},
   "cell_type": "markdown",
   "id": "49c1977d",
   "metadata": {},
   "source": [
    "Yukarıda tanımlanan fonksiyon uzayı sınıfı ders 7c ve ders 7d'de sürekli kullanılan şekil fonksiyonlarını sürekli olarak hızla kullanabilmemize olanak sağlayacaktır. Şimdi oluşturduğumuz *ağ* olan plaka değişkenine özel olacak şekilde bir fonksiyon uzayı değişkeni tanımlayabiliriz:"
   ]
  },
  {
   "cell_type": "code",
   "execution_count": 73,
   "id": "7f3e59dc",
   "metadata": {},
   "outputs": [],
   "source": [
    "V = FonksiyonUzayı(plaka)"
   ]
  },
  {
   "attachments": {},
   "cell_type": "markdown",
   "id": "bc6874f9",
   "metadata": {},
   "source": [
    "## Global iletim ve taşınım matrislerinin hesaplanması\n",
    "\n",
    "Global iletim ve taşınım matrislerinin hesaplanması için ders 7c'de kullandığımız kodların birebir aynısını *fonksiyon uzayı* değişkenini içerecek şekilde yazabiliriz. Bu durumda lokal eleman için iletim matrisini hesaplayan matris:"
   ]
  },
  {
   "cell_type": "code",
   "execution_count": 74,
   "id": "967e719e",
   "metadata": {},
   "outputs": [],
   "source": [
    "def K_e_eleman(V, eleman_no, k):\n",
    "\n",
    "    J = V.lokal_jakobyen(eleman_no)\n",
    "\n",
    "    K_e_sym = V.gradyen.T*(J**(-1)).T*k*(J**(-1))*V.gradyen*J.det()\n",
    "\n",
    "    K_e = np.zeros((V.nokta_sayısı,V.nokta_sayısı))\n",
    "\n",
    "    for i in range(V.nokta_sayısı):\n",
    "        for j in range(V.nokta_sayısı):\n",
    "            geçici_fonksiyon = lambdify( (V.xi,V.eta), K_e_sym[i,j], 'math' )\n",
    "            K_e[i,j] += integrate.nquad(geçici_fonksiyon, [[-1, 1],[-1, 1]])[0]\n",
    "            \n",
    "    return K_e"
   ]
  },
  {
   "attachments": {},
   "cell_type": "markdown",
   "id": "7afda9fa",
   "metadata": {},
   "source": [
    "olarak yazılabilir. Benzer şekilde lokal eleman için taşınım matrisini hesaplayan matris"
   ]
  },
  {
   "cell_type": "code",
   "execution_count": 75,
   "id": "875c958d",
   "metadata": {},
   "outputs": [],
   "source": [
    "def K_t_eleman(V, eleman_no, h_z):\n",
    "\n",
    "    J = V.lokal_jakobyen(eleman_no)\n",
    "\n",
    "    K_t_sym = h_z*V.şekil*V.şekil.T*J.det()\n",
    "\n",
    "    K_t = np.zeros((V.nokta_sayısı,V.nokta_sayısı))\n",
    "    \n",
    "    for i in range(V.nokta_sayısı):\n",
    "        for j in range(V.nokta_sayısı):\n",
    "            geçici_fonksiyon = lambdify( (V.xi,V.eta), K_t_sym[i,j], 'math' )\n",
    "            K_t[i,j] += integrate.nquad(geçici_fonksiyon, [[-1, 1],[-1, 1]])[0]\n",
    "    return K_t"
   ]
  },
  {
   "attachments": {},
   "cell_type": "markdown",
   "id": "62f89835",
   "metadata": {},
   "source": [
    "olarak oluşturulabilir. Elde ettiğimiz **K_e** ve **K_t** matrislerini, global ağ'ı temsil eden *plaka* değişkeninin noktalarına karşılık geleccek şekilde uygun yerlere yerleştirmemiz gerekir. Bu yüzden lokal elemanların yerel nokta numaralarını global ağ'daki nokta numaralarına eşleyecek şekilde global **K** matrisini oluşturmamız önemlidir. \n",
    "\n",
    "Örneğin, yukarıda belirtilen 2x2lik ağda eleman 1' ait lokal numaralar sol alt köşeden başlayarak 0,1,2,3 iken global olarak 1,2,5,4 olmaktadır. Bu sebeple lokal olarak hesapladığımız herhangi bir lokal eleman matrisinin 2. noktanın katkısını temsil eden ait olan 3. satır ve 3. sütunu, global matristeki 5. satır ve 5. sütuna denk gelecektir.  \n",
    "\n",
    "Buradan hareketle öncekikle yukarıda fonksiyonlarını tanımladığımız lokal iletim ve lokal taşınım matrislerini herbir eleman için hesaplayıp toplamalıyız. Ardından elde ettiğimiz lokal **K**($K_e+K_t$) matrisini global matristeki uygun satır ve sütunlara yerleştirmeliyiz. Bu işlemleri yapan ve global **K** matrisini hesaplayan fonksiyonu aşağıdaki şekilde yazabiliriz:"
   ]
  },
  {
   "cell_type": "code",
   "execution_count": 76,
   "id": "480a1c41",
   "metadata": {},
   "outputs": [
    {
     "data": {
      "text/plain": [
       "array([[ 47.77777778,  21.38888889,   0.        ,  21.38888889,   9.44444444,   0.        ,   0.        ,   0.        ,   0.        ],\n",
       "       [ 21.38888889,  95.55555556,  21.38888889,   9.44444444,  42.77777778,   9.44444444,   0.        ,   0.        ,   0.        ],\n",
       "       [  0.        ,  21.38888889,  47.77777778,   0.        ,   9.44444444,  21.38888889,   0.        ,   0.        ,   0.        ],\n",
       "       [ 21.38888889,   9.44444444,   0.        ,  95.55555556,  42.77777778,   0.        ,  21.38888889,   9.44444444,   0.        ],\n",
       "       [  9.44444444,  42.77777778,   9.44444444,  42.77777778, 191.11111111,  42.77777778,   9.44444444,  42.77777778,   9.44444444],\n",
       "       [  0.        ,   9.44444444,  21.38888889,   0.        ,  42.77777778,  95.55555556,   0.        ,   9.44444444,  21.38888889],\n",
       "       [  0.        ,   0.        ,   0.        ,  21.38888889,   9.44444444,   0.        ,  47.77777778,  21.38888889,   0.        ],\n",
       "       [  0.        ,   0.        ,   0.        ,   9.44444444,  42.77777778,   9.44444444,  21.38888889,  95.55555556,  21.38888889],\n",
       "       [  0.        ,   0.        ,   0.        ,   0.        ,   9.44444444,  21.38888889,   0.        ,  21.38888889,  47.77777778]])"
      ]
     },
     "execution_count": 76,
     "metadata": {},
     "output_type": "execute_result"
    }
   ],
   "source": [
    "np.set_printoptions(linewidth=150)\n",
    "\n",
    "def K_global_hesapla(V, k, h_z):\n",
    "    \n",
    "    mesh = V.mesh\n",
    "    K_global = np.zeros((mesh.N, mesh.N))\n",
    "\n",
    "    for eleman_no, eleman in enumerate(mesh.elemanlar):\n",
    "        K_lokal = K_e_eleman(V, eleman_no, k) + K_t_eleman(V, eleman_no,h_z)\n",
    "        for lokal_x, global_x in enumerate(eleman):\n",
    "            for lokal_y, global_y in enumerate(eleman):\n",
    "                K_global[global_x][global_y] += K_lokal[lokal_x][lokal_y]\n",
    "    return K_global\n",
    "\n",
    "K_global = K_global_hesapla(V, k, h_z)\n",
    "K_global"
   ]
  },
  {
   "attachments": {},
   "cell_type": "markdown",
   "id": "3e9680b4",
   "metadata": {},
   "source": [
    "Görüldüğü üzere 2x2lik ağ'a ait **K** matrisini elde ettik."
   ]
  },
  {
   "cell_type": "markdown",
   "id": "ec38d35b",
   "metadata": {},
   "source": []
  },
  {
   "attachments": {},
   "cell_type": "markdown",
   "id": "2ae5a402",
   "metadata": {},
   "source": [
    "## Global taşınım ve sınır koşulu vektörlerinin hesaplanması\n"
   ]
  },
  {
   "attachments": {},
   "cell_type": "markdown",
   "id": "d1d59206",
   "metadata": {},
   "source": [
    "Bu böümde ise ders 7d'de anlatılan element vektörlerini global olarak ele alacağız. İlk önce yatay ve dikey sınırlardan gerçekleşen ısı transfer sınır koşulunu eleman bazında hesaplayan fonksiyonları yazalım: "
   ]
  },
  {
   "cell_type": "code",
   "execution_count": 77,
   "id": "0972dfd9",
   "metadata": {},
   "outputs": [],
   "source": [
    "def f_e_1_eleman_yatay(V, eleman_no, q_eta, kenar):\n",
    "\n",
    "    J = V.lokal_jakobyen(eleman_no)\n",
    "        \n",
    "    q_eta = sp.Matrix(q_eta)\n",
    "\n",
    "    f_e_1_sym_yatay = V.şekil.multiply_elementwise(q_eta)*sp.sqrt(J[1,0]**2+J[1,1]**2)\n",
    "\n",
    "    if kenar == 'üst':\n",
    "        kenar_değer = 1\n",
    "    elif kenar == 'alt':\n",
    "        kenar_değer = -1\n",
    "\n",
    "    f_e_1_sym_yatay = f_e_1_sym_yatay.subs(V.eta, kenar_değer) \n",
    "\n",
    "    f_e_1_yatay = np.zeros(V.nokta_sayısı)\n",
    "\n",
    "    for i in range(V.nokta_sayısı):\n",
    "        yatay_fonksiyon = lambdify( V.xi, f_e_1_sym_yatay[i], 'math' )\n",
    "        f_e_1_yatay[i] += integrate.quad(yatay_fonksiyon, -1, 1)[0]\n",
    "        \n",
    "    return f_e_1_yatay\n",
    "\n",
    "def f_e_1_eleman_dikey(V, eleman_no, q_xi, kenar):\n",
    "\n",
    "    J = V.lokal_jakobyen(eleman_no)\n",
    "        \n",
    "    q_xi  = sp.Matrix(q_xi)\n",
    "\n",
    "    f_e_1_sym_dikey = V.şekil.multiply_elementwise(q_xi)*sp.sqrt(J[0,0]**2+J[0,1]**2)\n",
    "\n",
    "    if kenar == 'sağ':\n",
    "        kenar_değer = 1\n",
    "    elif kenar == 'sol':\n",
    "        kenar_değer = -1\n",
    "\n",
    "    f_e_1_sym_dikey = f_e_1_sym_dikey.subs(V.xi,kenar_değer) \n",
    "\n",
    "    f_e_1_dikey = np.zeros(V.nokta_sayısı)\n",
    "\n",
    "    for i in range(V.nokta_sayısı):\n",
    "        dikey_fonksiyon = lambdify(V.eta, f_e_1_sym_dikey[i], 'math' )\n",
    "        f_e_1_dikey[i] += integrate.quad(dikey_fonksiyon, -1, 1)[0]\n",
    "        \n",
    "    return f_e_1_dikey"
   ]
  },
  {
   "attachments": {},
   "cell_type": "markdown",
   "id": "635eb198",
   "metadata": {},
   "source": [
    "Şimdi de ders 7d'de gösterilen, plakanın kendisinden ısı taşınımını modelleyen taşınım vektörünü hesaplayan bir fonksiyon yazalım: "
   ]
  },
  {
   "cell_type": "code",
   "execution_count": 78,
   "id": "db2988aa",
   "metadata": {},
   "outputs": [],
   "source": [
    "def f_e_2_eleman(V, eleman_no, h, t_z, T_sonsuz):\n",
    "\n",
    "    J = V.lokal_jakobyen(eleman_no)\n",
    "\n",
    "    h_z = 2*h/t_z\n",
    "\n",
    "    f_e_2_sym = h_z*T_sonsuz*V.şekil*J.det()\n",
    "    \n",
    "    f_e_2 = np.zeros((V.nokta_sayısı,1))\n",
    "\n",
    "    for i in range(V.nokta_sayısı):\n",
    "        taşınım_fonksiyon = lambdify( (V.xi, V.eta), f_e_2_sym[i], 'math' )\n",
    "        f_e_2[i] += integrate.nquad(taşınım_fonksiyon, [[-1, 1],[-1, 1]])[0]\n",
    "\n",
    "    return f_e_2"
   ]
  },
  {
   "attachments": {},
   "cell_type": "markdown",
   "id": "0507fa08",
   "metadata": {},
   "source": [
    "Tıpkı global **K** matrisini hesaplarken yaptığımız gibi global **f** vektörünü hesaplarken de lokal eleman vektörlerini global **f** vektöründe uygun yerlere yerleştirmemiz gerekmektedir. Aşağıdaki fonksiyon ile bu işlemi gerçekleştirebiliriz:"
   ]
  },
  {
   "cell_type": "code",
   "execution_count": 79,
   "id": "0a69797c",
   "metadata": {},
   "outputs": [],
   "source": [
    "def f_global_hesapla(V, q_1, q_2, q_3):\n",
    "\n",
    "    mesh = V.mesh\n",
    "    \n",
    "    f_global = np.zeros(mesh.N)\n",
    "\n",
    "    # Her bir eleman için x ve y yönünde gerçekleşen ısı transferi vektörleri\n",
    "    q_x = np.zeros((mesh.N))\n",
    "    q_y = np.zeros((mesh.N))\n",
    "\n",
    "    # Kenarlardan gerçekleşen ısı transfer değerlerinin tanımlanması\n",
    "    q_y[mesh.üst_kenar_noktalar] += q_1\n",
    "    q_x[mesh.sağ_kenar_noktalar] += q_2\n",
    "    q_y[mesh.alt_kenar_noktalar] += q_3\n",
    "\n",
    "    # Sağ kenardan taşınımla gerçekleşen ısı transferi\n",
    "    for eleman in plaka.kenar_elemanlar['sağ']:\n",
    "        q_xi = q_x[plaka.elemanlar[eleman]] \n",
    "        f_lokal_1 = f_e_1_eleman_dikey(V, eleman, q_xi, 'sağ')\n",
    "        for lokal_x, global_x in enumerate(plaka.elemanlar[eleman]):\n",
    "            f_global[global_x] += f_lokal_1[lokal_x]\n",
    "\n",
    "    # Üst kenardan taşınımla gerçekleşen ısı transferi\n",
    "    for eleman in plaka.kenar_elemanlar['üst']:\n",
    "        q_eta = q_y[plaka.elemanlar[eleman]] \n",
    "        f_lokal_1 = f_e_1_eleman_yatay(V, eleman, q_eta, 'üst')\n",
    "        for lokal_x, global_x in enumerate(plaka.elemanlar[eleman]):\n",
    "            f_global[global_x] += f_lokal_1[lokal_x]\n",
    "\n",
    "    # Sol kenardan taşınımla gerçekleşen ısı transferi\n",
    "    for eleman in plaka.kenar_elemanlar['sol']:\n",
    "        q_xi = q_x[plaka.elemanlar[eleman]] \n",
    "        f_lokal_1 = f_e_1_eleman_dikey(V, eleman, q_xi, 'sol')\n",
    "        for lokal_x, global_x in enumerate(plaka.elemanlar[eleman]):\n",
    "            f_global[global_x] += f_lokal_1[lokal_x]\n",
    "\n",
    "    # Alt kenardan taşınımla gerçekleşen ısı transferi\n",
    "    for eleman in plaka.kenar_elemanlar['alt']:\n",
    "        q_eta = q_y[plaka.elemanlar[eleman]] \n",
    "        f_lokal_1 = f_e_1_eleman_yatay(V, eleman, q_eta, 'alt')\n",
    "        for lokal_x, global_x in enumerate(plaka.elemanlar[eleman]):\n",
    "            f_global[global_x] += f_lokal_1[lokal_x]\n",
    "\n",
    "    # Plaka üzerinden taşınımla gerçekleşen ısı transferi\n",
    "    for eleman_no, eleman in enumerate(plaka.elemanlar):\n",
    "        f_lokal_2 = f_e_2_eleman(V, eleman_no, h, D, T_sonsuz)\n",
    "        for lokal_x, global_x in enumerate(eleman):\n",
    "            f_global[global_x] += f_lokal_2[lokal_x]\n",
    "\n",
    "    return f_global\n",
    "\n",
    "f_global = f_global_hesapla(V, q_1, q_2, q_3)"
   ]
  },
  {
   "attachments": {},
   "cell_type": "markdown",
   "id": "3409e941",
   "metadata": {},
   "source": [
    "Bu noktaya kadar tüm sınır koşullarını sabit sıcaklık (Dirichlet) sınır koşulu hariç tanımlamış olduk. Sol kenardaki sabit sıcaklık değerini global matris ve vektüründe tanımlamak için yine ders 5'te kullandığımız penaltı yöntemini kullanacağız. Genel sınır koşulu denklemini tekrar hatırlayalım:\n",
    "\n",
    "$$\n",
    "\\begin{equation}\n",
    "\\alpha \\frac{dT}{dx}(x) + \\beta T(x) = \\gamma \n",
    "\\end{equation} \\tag{14}\n",
    "$$\n",
    "\n",
    "Bu durumda sol kenar sınır koşulu için $\\alpha=0$, $\\beta=1$ ve $\\gamma=T_{sol}=80$ olacaktır. 2x2lik ağda sol kenarda 3 adet nokta olduğu için her bir nokta için bu noktaların global matris ve global vektördeki değerlerini uygun bir manipüle edecek fonksiyonu yazalım:"
   ]
  },
  {
   "cell_type": "code",
   "execution_count": 80,
   "id": "26adfb16",
   "metadata": {},
   "outputs": [],
   "source": [
    "alpha = 10e-12\n",
    "beta  = 1\n",
    "gamma = T_sol\n",
    "A = H/(ny+1)*D\n",
    "\n",
    "def dirichlet_uygula(kenar, K_global, f_global, alpha, beta, gamma, A, k):\n",
    "\n",
    "    for nokta in kenar:\n",
    "        K_global[nokta,nokta]+= 1*beta*k*A/alpha  \n",
    "        f_global[nokta] += 1*gamma*k*A/alpha\n",
    "    \n",
    "    return K_global, f_global\n",
    "\n",
    "K_global, f_global = dirichlet_uygula(plaka.sol_kenar_noktalar, K_global, f_global, alpha, beta, gamma, A, k)"
   ]
  },
  {
   "attachments": {},
   "cell_type": "markdown",
   "id": "d67715eb",
   "metadata": {},
   "source": [
    "## Global sistemin çözümü\n",
    "\n",
    "Artık elde ettiğimiz global **K** ve global **f** değerlerini *scipy* kütüphanesinin *solve* fonksiyonunu kullanarak sonuca ulaşabiliriz."
   ]
  },
  {
   "cell_type": "code",
   "execution_count": 81,
   "id": "e17b5364",
   "metadata": {},
   "outputs": [
    {
     "data": {
      "text/plain": [
       "array([[79.99999978,  3.61646563, 16.27618081],\n",
       "       [79.99999962, 24.46239928, 31.04295419],\n",
       "       [79.9999998 , 12.64368251, 22.70004302]])"
      ]
     },
     "execution_count": 81,
     "metadata": {},
     "output_type": "execute_result"
    }
   ],
   "source": [
    "from scipy.linalg import solve\n",
    "\n",
    "def sistemi_çöz(mesh, K_global, f_global):\n",
    "    u = solve(K_global,f_global)\n",
    "    # Çözüm vektörünü çözüm ağına göre yeniden boyutlandırmak\n",
    "    u_plot = u.reshape(mesh.ny+1, mesh.nx+1)\n",
    "    return u_plot\n",
    "\n",
    "T = sistemi_çöz(plaka, K_global, f_global)\n",
    "T"
   ]
  },
  {
   "attachments": {},
   "cell_type": "markdown",
   "id": "60cccb9e",
   "metadata": {},
   "source": [
    "## Çözümün görselleştirilmesi\n",
    "\n",
    "Son olarak çözümü *matplotlib* kütüphanesinin *contourf* fonksiyonu ile görselleştirerek plaka üzerindeki ısı dağılımını gözlemleyebiliriz:"
   ]
  },
  {
   "cell_type": "code",
   "execution_count": 88,
   "id": "281a645c",
   "metadata": {},
   "outputs": [
    {
     "data": {
      "image/png": "[encoded data removed]",
      "text/plain": [
       "<Figure size 864x576 with 2 Axes>"
      ]
     },
     "metadata": {
      "needs_background": "light"
     },
     "output_type": "display_data"
    }
   ],
   "source": [
    "import matplotlib.pyplot as plt\n",
    "\n",
    "def çözümü_görselleştir(plaka, T):\n",
    "    fig, ax = plt.subplots()\n",
    "    fig.set_size_inches(12,8)\n",
    "    X,Y = plaka.ağ\n",
    "\n",
    "    grafik = ax.contourf(X, Y, T, cmap='jet')\n",
    "    cbar = plt.colorbar(grafik)\n",
    "    cbar.set_label(r\"$T$  (C)\")\n",
    "    plt.plot()\n",
    "\n",
    "çözümü_görselleştir(plaka, T)"
   ]
  },
  {
   "attachments": {},
   "cell_type": "markdown",
   "id": "f46d12d5",
   "metadata": {},
   "source": [
    "## Çözümün hassaslaştırılması\n",
    "\n",
    "Bu tarz problemler için daha fazla elemanladan oluşan bir ağ(mesh) kullanılarak daha hassas numerik çözüm elde edilebilir. Bunun için bu ders boyunca geliştirdiğimiz fonksiyonları farklı bir geometri ve fonksiyon uzayı için tekrar kullanarak daha hassas sıcaklık dağılımı elde edebiliriz:  "
   ]
  },
  {
   "cell_type": "code",
   "execution_count": 97,
   "id": "7b1967a8",
   "metadata": {},
   "outputs": [
    {
     "data": {
      "image/png": "[encoded data removed]",
      "text/plain": [
       "<Figure size 864x576 with 2 Axes>"
      ]
     },
     "metadata": {
      "needs_background": "light"
     },
     "output_type": "display_data"
    }
   ],
   "source": [
    "nx2, ny2 = 9, 9\n",
    "\n",
    "plaka2 = Dikdörtgen(L,H,nx2,ny2)\n",
    "V2 = FonksiyonUzayı(plaka2)\n",
    "\n",
    "K_global2 = K_global_hesapla(V2, k, h_z)\n",
    "f_global2 = f_global_hesapla(V2, q_1, q_2, q_3)\n",
    "\n",
    "A2 = H/(ny2+1)*D\n",
    "K_global2, f_global2 = dirichlet_uygula(plaka2.sol_kenar_noktalar, K_global2, f_global2, alpha, beta, gamma, A2, k)\n",
    "\n",
    "T2 = sistemi_çöz(plaka2, K_global2, f_global2)\n",
    "çözümü_görselleştir(plaka2, T2)\n"
   ]
  },
  {
   "attachments": {},
   "cell_type": "markdown",
   "id": "d6ba10b7",
   "metadata": {},
   "source": [
    "Görüldüğü üzere daha fazla eleman kullanarak daha hassas çözüm elde etmek mümkündür. Fakat bunun hesaplama süresini arttıracağı göz ardı edilmemelidir."
   ]
  },
  {
   "attachments": {},
   "cell_type": "markdown",
   "id": "240b2f5d",
   "metadata": {},
   "source": [
    "## Sonuç\n",
    "\n",
    "Bu ders ile birlikte sonlu elemanlar yöntemini kullanarak 2 boyutlu bir problemi modellemiş olduk. Bir sonraki derste 2 boyutlu vektörel (örneğin hız değişkenini içeren) problemleri ele alacağız. "
   ]
  }
 ],
 "metadata": {
  "kernelspec": {
   "display_name": "Python 3 (ipykernel)",
   "language": "python",
   "name": "python3"
  },
  "language_info": {
   "codemirror_mode": {
    "name": "ipython",
    "version": 3
   },
   "file_extension": ".py",
   "mimetype": "text/x-python",
   "name": "python",
   "nbconvert_exporter": "python",
   "pygments_lexer": "ipython3",
   "version": "3.10.6"
  }
 },
 "nbformat": 4,
 "nbformat_minor": 5
}
