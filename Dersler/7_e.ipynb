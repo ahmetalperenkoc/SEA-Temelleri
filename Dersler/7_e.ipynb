{
 "cells": [
  {
   "cell_type": "markdown",
   "id": "1f25bb96",
   "metadata": {},
   "source": [
    "# Global sistem çözümü\n",
    "\n",
    "Bu derste ders 7 kapsamında daha önce gördüğümüz tüm bilgileri kullanarak global olarak sistemin tamamını çözümleyeceğiz. Çözeceğimiz problemi tekrar göz önüne getirelim:\n",
    "\n",
    "<img src=\"Resimler/Ders7/2BoyutluProblem.png\" align=\"center\" width= \"600\"/>\n",
    "\n",
    "İlk olarak problemin parametrelerini belirleyerek başlayalım:"
   ]
  },
  {
   "cell_type": "code",
   "execution_count": 227,
   "id": "3a82af81",
   "metadata": {},
   "outputs": [],
   "source": [
    "L = 2    # m\n",
    "H = 2    # m\n",
    "D = 0.05 # m\n",
    "\n",
    "q_1 = -500  # W/m2\n",
    "q_2 = -1000 # W/m2\n",
    "q_3 = -1500 # W/m2\n",
    "\n",
    "T_sonsuz = 30 # C\n",
    "T_sol = 80    # C\n",
    "k = 5  # W/m2.K\n",
    "h = 10 # W/m2K\n",
    "h_z = 2*h/D"
   ]
  },
  {
   "cell_type": "code",
   "execution_count": 228,
   "id": "afca52ad",
   "metadata": {},
   "outputs": [],
   "source": [
    "import sympy as sp\n",
    "import numpy as np\n",
    "from scipy import integrate\n",
    "from sympy.utilities import lambdify"
   ]
  },
  {
   "cell_type": "code",
   "execution_count": 229,
   "id": "1b648bbb",
   "metadata": {},
   "outputs": [],
   "source": [
    "class Dikdörtgen():\n",
    "    \n",
    "    def __init__(self, L, H, nx, ny):\n",
    "        \n",
    "        x = np.linspace(0, L, nx+1)\n",
    "        y = np.linspace(0, H, ny+1)\n",
    "        ağ = np.meshgrid(x, y)\n",
    "\n",
    "        noktalar = np.zeros(((nx+1)*(ny+1), 2), dtype=np.float32)\n",
    "        elemanlar = np.zeros((nx*ny, 4), dtype=np.int32)\n",
    "\n",
    "        nokta = 0\n",
    "        for iy in range(ny + 1):\n",
    "            for ix in range(nx + 1):\n",
    "                noktalar[nokta, :] = x[ix], y[iy]\n",
    "                nokta += 1\n",
    "\n",
    "        eleman = 0\n",
    "        for iy in range(ny):\n",
    "            for ix in range(nx):\n",
    "                v0 = iy*(nx + 1) + ix\n",
    "                v1 = v0 + 1\n",
    "                v2 = v0 + nx+1\n",
    "                v3 = v1 + nx+1\n",
    "                elemanlar[eleman, :] = v0, v1, v3, v2\n",
    "                eleman += 1\n",
    "\n",
    "        self.elemanlar = elemanlar\n",
    "        self.noktalar = noktalar\n",
    "        self.N = len(noktalar) # toplam nokta sayısı\n",
    "        self.ağ = ağ\n",
    "\n",
    "        self.sağ_kenar_noktalar = []\n",
    "        self.üst_kenar_noktalar = []\n",
    "        self.sol_kenar_noktalar = []\n",
    "        self.alt_kenar_noktalar = []\n",
    "\n",
    "        for indis, nokta in enumerate(self.noktalar):\n",
    "            if np.isclose(nokta[0], L):\n",
    "                self.sağ_kenar_noktalar.append(indis)\n",
    "            if np.isclose(nokta[1], H):\n",
    "                self.üst_kenar_noktalar.append(indis)\n",
    "            if np.isclose(nokta[0], 0):\n",
    "                self.sol_kenar_noktalar.append(indis)\n",
    "            if np.isclose(nokta[1], 0):\n",
    "                self.alt_kenar_noktalar.append(indis)\n",
    "        \n",
    "        eleman_id = np.arange(0,nx*ny)\n",
    "\n",
    "        self.kenar_elemanlar = {'sağ':eleman_id[nx-1::nx],\n",
    "                                'üst':eleman_id[-nx:],\n",
    "                                'sol':eleman_id[0::nx],\n",
    "                                'alt':eleman_id[:nx]\n",
    "                                }"
   ]
  },
  {
   "cell_type": "code",
   "execution_count": 230,
   "id": "b3824a5d",
   "metadata": {},
   "outputs": [],
   "source": [
    "nx, ny = 2, 2\n",
    "plaka = Dikdörtgen(L,H,nx,ny)"
   ]
  },
  {
   "attachments": {},
   "cell_type": "markdown",
   "id": "a6b47128",
   "metadata": {},
   "source": [
    "referans şekli ve global noktaları numaralarıyla göster"
   ]
  },
  {
   "cell_type": "code",
   "execution_count": 231,
   "id": "22bc63ed",
   "metadata": {},
   "outputs": [],
   "source": [
    "class FonksiyonUzayı():\n",
    "    \"\"\"\n",
    "    Symbolic representation of the quadrilateral elements with four nodes\n",
    "    \"\"\"\n",
    "    def __init__(self, mesh):\n",
    "        self.mesh = mesh\n",
    "        xi = sp.Symbol(\"xi\")\n",
    "        eta = sp.Symbol(\"eta\")\n",
    "        x_ = sp.symbols(\"x1,x2,x3,x4\")\n",
    "        y_ = sp.symbols(\"y1,y2,y3,y4\")\n",
    "        \n",
    "        şekil = sp.Matrix([ (1-xi)*(1-eta)/4,\n",
    "                            (1+xi)*(1-eta)/4,\n",
    "                            (1+xi)*(1+eta)/4,\n",
    "                            (1-xi)*(1+eta)/4])\n",
    "        \n",
    "        self.nokta_sayısı = 4\n",
    "\n",
    "        gradyen_xi = sp.diff(şekil, xi)\n",
    "        gradyen_eta = sp.diff(şekil, eta)\n",
    "\n",
    "        gradyen = sp.Matrix([gradyen_eta, gradyen_xi])\n",
    "\n",
    "        c_şekil = sp.Matrix([0, 0])\n",
    "        for i in range(self.nokta_sayısı):\n",
    "            c_şekil[0] += x_[i] * şekil[i]\n",
    "            c_şekil[1] += y_[i] * şekil[i]\n",
    "\n",
    "        self.gradyen = gradyen.reshape(2,4)\n",
    "        self.şekil = şekil\n",
    "        self.eta   = eta\n",
    "        self.xi    = xi\n",
    "        self.x_ = x_\n",
    "        self.y_ = y_\n",
    "        \n",
    "        self.J = c_şekil.jacobian([xi, eta]).T\n",
    "        self._dofmap = lambda e, r: self.mesh.elemanlar[e, r]\n",
    "    \n",
    "    def lokal_jakobyen(self, eleman_no):\n",
    "        # Elemana ait noktaların global indislerini içeren dizi\n",
    "        eleman_nokta_indisler = self.mesh.elemanlar[eleman_no]\n",
    "        # Elemana ait koordinatların x ve y noktalarını içeren dizi\n",
    "        eleman_noktalar = np.take(self.mesh.noktalar, eleman_nokta_indisler, axis=0)\n",
    "        \n",
    "        J = self.J\n",
    "\n",
    "        for indis, nokta in enumerate(eleman_noktalar):\n",
    "            J = J.subs(self.x_[indis],nokta[0]) # x koordinatı \n",
    "            J = J.subs(self.y_[indis],nokta[1]) # y koordinatı\n",
    "        \n",
    "        return J\n",
    "    \n",
    "    def K_e_eleman(self, eleman_no, k):\n",
    "\n",
    "        J = self.lokal_jakobyen(eleman_no)\n",
    "\n",
    "        K_e_sym = self.gradyen.T*(J**(-1)).T*k*(J**(-1))*self.gradyen*J.det()\n",
    "\n",
    "        K_e = np.zeros((self.nokta_sayısı,self.nokta_sayısı))\n",
    "\n",
    "        for i in range(self.nokta_sayısı):\n",
    "            for j in range(self.nokta_sayısı):\n",
    "                geçici_fonksiyon = lambdify( (self.xi,self.eta), K_e_sym[i,j], 'math' )\n",
    "                K_e[i,j] += integrate.nquad(geçici_fonksiyon, [[-1, 1],[-1, 1]])[0]\n",
    "                \n",
    "        return K_e\n",
    "    \n",
    "    def K_t_eleman(self, eleman_no, h_z):\n",
    "\n",
    "        J = self.lokal_jakobyen(eleman_no)\n",
    "\n",
    "        K_t_sym = h_z*self.şekil*self.şekil.T*J.det()\n",
    "    \n",
    "        K_t = np.zeros((self.nokta_sayısı,self.nokta_sayısı))\n",
    "        \n",
    "        for i in range(self.nokta_sayısı):\n",
    "            for j in range(self.nokta_sayısı):\n",
    "                geçici_fonksiyon = lambdify( (self.xi,self.eta), K_t_sym[i,j], 'math' )\n",
    "                K_t[i,j] += integrate.nquad(geçici_fonksiyon, [[-1, 1],[-1, 1]])[0]\n",
    "        return K_t\n",
    "    \n",
    "    def f_e_1_eleman_yatay(self, eleman_no, q_eta, kenar):\n",
    "\n",
    "        J = self.lokal_jakobyen(eleman_no)\n",
    "            \n",
    "        q_eta = sp.Matrix(q_eta)\n",
    "\n",
    "        f_e_1_sym_yatay = self.şekil.multiply_elementwise(q_eta)*sp.sqrt(J[1,0]**2+J[1,1]**2)\n",
    "\n",
    "        if kenar == 'üst':\n",
    "            kenar_değer = 1\n",
    "        elif kenar == 'alt':\n",
    "            kenar_değer = -1\n",
    "\n",
    "        f_e_1_sym_yatay = f_e_1_sym_yatay.subs(self.eta, kenar_değer) \n",
    "\n",
    "        f_e_1_yatay = np.zeros(self.nokta_sayısı)\n",
    "\n",
    "        for i in range(self.nokta_sayısı):\n",
    "            yatay_fonksiyon = lambdify( self.xi, f_e_1_sym_yatay[i], 'math' )\n",
    "            f_e_1_yatay[i] += integrate.quad(yatay_fonksiyon, -1, 1)[0]\n",
    "            \n",
    "        return f_e_1_yatay\n",
    "    \n",
    "    def f_e_1_eleman_dikey(self, eleman_no, q_xi, kenar):\n",
    "\n",
    "        J = self.lokal_jakobyen(eleman_no)\n",
    "            \n",
    "        q_xi  = sp.Matrix(q_xi)\n",
    "\n",
    "        f_e_1_sym_dikey = self.şekil.multiply_elementwise(q_xi)*sp.sqrt(J[0,0]**2+J[0,1]**2)\n",
    "\n",
    "        if kenar == 'sağ':\n",
    "            kenar_değer = 1\n",
    "        elif kenar == 'sol':\n",
    "            kenar_değer = -1\n",
    "\n",
    "        f_e_1_sym_dikey = f_e_1_sym_dikey.subs(self.xi,kenar_değer) \n",
    "\n",
    "        f_e_1_dikey = np.zeros(self.nokta_sayısı)\n",
    "\n",
    "        for i in range(self.nokta_sayısı):\n",
    "            dikey_fonksiyon = lambdify(self.eta, f_e_1_sym_dikey[i], 'math' )\n",
    "            f_e_1_dikey[i] += integrate.quad(dikey_fonksiyon, -1, 1)[0]\n",
    "            \n",
    "        return f_e_1_dikey\n",
    "    \n",
    "    def f_e_2_eleman(self, eleman_no, h, t_z, T_sonsuz):\n",
    "\n",
    "        J = self.lokal_jakobyen(eleman_no)\n",
    "\n",
    "        h_z = 2*h/t_z\n",
    "\n",
    "        f_e_2_sym = h_z*T_sonsuz*self.şekil*J.det()\n",
    "        \n",
    "        f_e_2 = np.zeros((self.nokta_sayısı,1))\n",
    "\n",
    "        for i in range(self.nokta_sayısı):\n",
    "            taşınım_fonksiyon = lambdify( (self.xi, self.eta), f_e_2_sym[i], 'math' )\n",
    "            f_e_2[i] += integrate.nquad(taşınım_fonksiyon, [[-1, 1],[-1, 1]])[0]\n",
    "\n",
    "        return f_e_2"
   ]
  },
  {
   "cell_type": "code",
   "execution_count": 232,
   "id": "db2988aa",
   "metadata": {},
   "outputs": [],
   "source": [
    "V = FonksiyonUzayı(plaka)"
   ]
  },
  {
   "cell_type": "code",
   "execution_count": 233,
   "id": "0507fa08",
   "metadata": {},
   "outputs": [
    {
     "data": {
      "text/plain": [
       "array([[ 47.77777778,  21.38888889,   0.        ,  21.38888889,   9.44444444,   0.        ,   0.        ,   0.        ,   0.        ],\n",
       "       [ 21.38888889,  95.55555556,  21.38888889,   9.44444444,  42.77777778,   9.44444444,   0.        ,   0.        ,   0.        ],\n",
       "       [  0.        ,  21.38888889,  47.77777778,   0.        ,   9.44444444,  21.38888889,   0.        ,   0.        ,   0.        ],\n",
       "       [ 21.38888889,   9.44444444,   0.        ,  95.55555556,  42.77777778,   0.        ,  21.38888889,   9.44444444,   0.        ],\n",
       "       [  9.44444444,  42.77777778,   9.44444444,  42.77777778, 191.11111111,  42.77777778,   9.44444444,  42.77777778,   9.44444444],\n",
       "       [  0.        ,   9.44444444,  21.38888889,   0.        ,  42.77777778,  95.55555556,   0.        ,   9.44444444,  21.38888889],\n",
       "       [  0.        ,   0.        ,   0.        ,  21.38888889,   9.44444444,   0.        ,  47.77777778,  21.38888889,   0.        ],\n",
       "       [  0.        ,   0.        ,   0.        ,   9.44444444,  42.77777778,   9.44444444,  21.38888889,  95.55555556,  21.38888889],\n",
       "       [  0.        ,   0.        ,   0.        ,   0.        ,   9.44444444,  21.38888889,   0.        ,  21.38888889,  47.77777778]])"
      ]
     },
     "execution_count": 233,
     "metadata": {},
     "output_type": "execute_result"
    }
   ],
   "source": [
    "np.set_printoptions(linewidth=150)\n",
    "\n",
    "K_global = np.zeros((plaka.N, plaka.N))\n",
    "\n",
    "for eleman_no, eleman in enumerate(plaka.elemanlar):\n",
    "    K_lokal = V.K_e_eleman(eleman_no, k) + V.K_t_eleman(eleman_no,h_z)\n",
    "    for lokal_x, global_x in enumerate(eleman):\n",
    "        for lokal_y, global_y in enumerate(eleman):\n",
    "            K_global[global_x][global_y] += K_lokal[lokal_x][lokal_y]\n",
    "\n",
    "K_global"
   ]
  },
  {
   "cell_type": "code",
   "execution_count": 234,
   "id": "5a170fa6",
   "metadata": {},
   "outputs": [],
   "source": [
    "q_x = np.zeros((plaka.N))\n",
    "q_y = np.zeros((plaka.N))\n",
    "\n",
    "q_y[plaka.üst_kenar_noktalar] += q_1\n",
    "q_x[plaka.sağ_kenar_noktalar] += q_2\n",
    "q_y[plaka.alt_kenar_noktalar] += q_3"
   ]
  },
  {
   "cell_type": "code",
   "execution_count": 235,
   "id": "0a69797c",
   "metadata": {},
   "outputs": [
    {
     "data": {
      "text/plain": [
       "array([[ 2250.],\n",
       "       [ 4500.],\n",
       "       [ 1750.],\n",
       "       [ 6000.],\n",
       "       [12000.],\n",
       "       [ 5000.],\n",
       "       [ 2750.],\n",
       "       [ 5500.],\n",
       "       [ 2250.]])"
      ]
     },
     "execution_count": 235,
     "metadata": {},
     "output_type": "execute_result"
    }
   ],
   "source": [
    "f_global = np.zeros((plaka.N, 1))\n",
    "\n",
    "for eleman in plaka.kenar_elemanlar['sağ']:\n",
    "    q_xi = q_x[plaka.elemanlar[eleman]] \n",
    "    f_lokal_1 = V.f_e_1_eleman_dikey(eleman, q_xi, 'sağ')\n",
    "    for lokal_x, global_x in enumerate(plaka.elemanlar[eleman]):\n",
    "        f_global[global_x] += f_lokal_1[lokal_x]\n",
    "\n",
    "for eleman in plaka.kenar_elemanlar['üst']:\n",
    "    q_eta = q_y[plaka.elemanlar[eleman]] \n",
    "    f_lokal_1 = V.f_e_1_eleman_yatay(eleman, q_eta, 'üst')\n",
    "    for lokal_x, global_x in enumerate(plaka.elemanlar[eleman]):\n",
    "        f_global[global_x] += f_lokal_1[lokal_x]\n",
    "\n",
    "for eleman in plaka.kenar_elemanlar['sol']:\n",
    "    q_xi = q_x[plaka.elemanlar[eleman]] \n",
    "    f_lokal_1 = V.f_e_1_eleman_dikey(eleman, q_xi, 'sol')\n",
    "    for lokal_x, global_x in enumerate(plaka.elemanlar[eleman]):\n",
    "        f_global[global_x] += f_lokal_1[lokal_x]\n",
    "\n",
    "for eleman in plaka.kenar_elemanlar['alt']:\n",
    "    q_eta = q_y[plaka.elemanlar[eleman]] \n",
    "    f_lokal_1 = V.f_e_1_eleman_yatay(eleman, q_eta, 'alt')\n",
    "    for lokal_x, global_x in enumerate(plaka.elemanlar[eleman]):\n",
    "        f_global[global_x] += f_lokal_1[lokal_x]\n",
    "\n",
    "for eleman_no, eleman in enumerate(plaka.elemanlar):\n",
    "    f_lokal_2 = V.f_e_2_eleman(eleman_no, h, D, T_sonsuz)\n",
    "    for lokal_x, global_x in enumerate(eleman):\n",
    "        f_global[global_x] += f_lokal_2[lokal_x]\n",
    "\n",
    "f_global"
   ]
  },
  {
   "cell_type": "code",
   "execution_count": 236,
   "id": "26adfb16",
   "metadata": {},
   "outputs": [
    {
     "name": "stdout",
     "output_type": "stream",
     "text": [
      "[[1.33333334e+12]\n",
      " [4.50000000e+03]\n",
      " [1.75000000e+03]\n",
      " [1.33333334e+12]\n",
      " [1.20000000e+04]\n",
      " [5.00000000e+03]\n",
      " [1.33333334e+12]\n",
      " [5.50000000e+03]\n",
      " [2.25000000e+03]]\n"
     ]
    }
   ],
   "source": [
    "alpha = [10e-12] * (ny+1) \n",
    "beta  = [1] * (ny+1)\n",
    "gamma = [T_sol] * (ny+1)\n",
    "\n",
    "# x=0'daki sınır koşulları\n",
    "A = H/(ny+1)*D\n",
    "for kenar_noktası, kenar in enumerate(plaka.sol_kenar_noktalar):\n",
    "\n",
    "    K_global[kenar,kenar]+= 1*beta[kenar_noktası]*k*A/alpha[kenar_noktası]  \n",
    "    f_global[kenar] += 1*gamma[kenar_noktası]*k*A/alpha[kenar_noktası]\n",
    "# K_global\n",
    "\n",
    "print(f_global)"
   ]
  },
  {
   "cell_type": "code",
   "execution_count": 237,
   "id": "e17b5364",
   "metadata": {},
   "outputs": [
    {
     "name": "stdout",
     "output_type": "stream",
     "text": [
      "[[79.99999978]\n",
      " [ 3.61646563]\n",
      " [16.27618081]\n",
      " [79.99999962]\n",
      " [24.46239928]\n",
      " [31.04295419]\n",
      " [79.9999998 ]\n",
      " [12.64368251]\n",
      " [22.70004302]]\n"
     ]
    }
   ],
   "source": [
    "from scipy.linalg import solve\n",
    "u = solve(K_global,f_global)\n",
    "print(u)\n",
    "u_plot = u.reshape(nx+1,ny+1)"
   ]
  },
  {
   "cell_type": "code",
   "execution_count": 238,
   "id": "281a645c",
   "metadata": {},
   "outputs": [
    {
     "data": {
      "text/plain": [
       "<matplotlib.colorbar.Colorbar at 0x7f9753475e10>"
      ]
     },
     "execution_count": 238,
     "metadata": {},
     "output_type": "execute_result"
    },
    {
     "data": {
      "image/png": "[encoded data removed]",
      "text/plain": [
       "<Figure size 432x288 with 2 Axes>"
      ]
     },
     "metadata": {
      "needs_background": "light"
     },
     "output_type": "display_data"
    }
   ],
   "source": [
    "import matplotlib.pyplot as plt\n",
    "\n",
    "X,Y = plaka.ağ\n",
    "\n",
    "plt.contourf(X, Y, u_plot, cmap='jet')\n",
    "plt.colorbar()"
   ]
  }
 ],
 "metadata": {
  "kernelspec": {
   "display_name": "Python 3 (ipykernel)",
   "language": "python",
   "name": "python3"
  },
  "language_info": {
   "codemirror_mode": {
    "name": "ipython",
    "version": 3
   },
   "file_extension": ".py",
   "mimetype": "text/x-python",
   "name": "python",
   "nbconvert_exporter": "python",
   "pygments_lexer": "ipython3",
   "version": "3.10.6"
  }
 },
 "nbformat": 4,
 "nbformat_minor": 5
}
