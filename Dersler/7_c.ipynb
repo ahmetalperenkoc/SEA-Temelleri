{
 "cells": [
  {
   "cell_type": "markdown",
   "id": "aba9bcba",
   "metadata": {},
   "source": [
    "# Eleman Matris Sisteminin Oluşturulması\n",
    "\n",
    "Bu bölümden [ders 7a](https://github.com/seatemelleri/SEA-Temelleri/blob/main/Dersler/7_a.ipynb)'da türettiğimiz zayıf formu matris formunda yazacağız. İlk olarak [ders 7a](https://github.com/seatemelleri/SEA-Temelleri/blob/main/Dersler/7_a.ipynb)'daki denklem (8)'i tekrar yazalım:\n",
    "\n",
    "$$\\int_{\\partial \\Omega}(vk\\nabla T) \\cdot \\mathbf{n} dS - \\int_{\\Omega} \\nabla v \\cdot k\\nabla Td\\Omega - \\int_{\\Omega} v \\big(h_z(T-T_{\\infty}) \\big) d\\Omega = 0  \\tag{1}$$ \n",
    "\n",
    "Burada $v$ test fonksiyonu, $T$ ise sıcaklık değerleri idi. Şimdi, tıpkı ders 5'te yaptığımız gibi bu değerleri baz fonksiyonlarını esas alarak vektörel biçimde yazalım. Bu durumda $v = \\mathbf{N}\\cdot\\mathbf{c}$ vektörünün ve gradyeninin matris formu:\n",
    "\n",
    "$$\n",
    "\\mathbf{v} = \n",
    "\\begin{bmatrix}\n",
    "N_1 & N_2 & N_3 & N_4\n",
    "\\end{bmatrix}\n",
    "\\begin{bmatrix}\n",
    "c_1 \\\\ c_2 \\\\ c_3 \\\\ c_4\n",
    "\\end{bmatrix}\n",
    "\\quad\n",
    ",\n",
    "\\quad\n",
    "\\mathbf{\\nabla v} = \n",
    "\\begin{bmatrix}\n",
    "\\nabla N_1 & \\nabla N_2 & \\nabla N_3 & \\nabla N_4\n",
    "\\end{bmatrix}\n",
    "\\begin{bmatrix}\n",
    "c_1 \\\\ c_2 \\\\ c_3 \\\\ c_4\n",
    "\\end{bmatrix}\n",
    "\\tag{2}\n",
    "$$\n",
    "\n",
    "olacaktır. Aynı şekilde sıcaklık vektörü $T=\\mathbf{N}\\cdot\\mathbf{T}$ ve gradyeni $\\nabla T$:\n",
    "\n",
    "$$\n",
    "\\mathbf{T} = \n",
    "\\begin{bmatrix}\n",
    "N_1 & N_2 & N_3 & N_4\n",
    "\\end{bmatrix}\n",
    "\\begin{bmatrix}\n",
    "T_1 \\\\ T_2 \\\\ T_3 \\\\ T_4\n",
    "\\end{bmatrix}\n",
    "\\quad\n",
    ",\n",
    "\\quad\n",
    "\\mathbf{\\nabla T} = \n",
    "\\begin{bmatrix}\n",
    "\\nabla N_1 & \\nabla N_2 & \\nabla N_3 & \\nabla N_4\n",
    "\\end{bmatrix}\n",
    "\\begin{bmatrix}\n",
    "T_1 \\\\ T_2 \\\\ T_3 \\\\ T_4\n",
    "\\end{bmatrix}\n",
    "\\tag{3}\n",
    "$$\n",
    "\n",
    "şeklinde yazılabilir. Ders 7b'den hatırlacağı üzere $N_i$, dörtgen elemanın herhangi bir $i$ noktasındaki şekil fonksiyonunu ifade eder.\n",
    "\n",
    "\n",
    "Elde ettiğimiz blok şeklindeki yazımları denklem (1)'de yerine koymadan önce denklem (1)'i vektörel formlar üzerinden tekrar düzenleyelim: \n",
    "\n",
    "$$\\int_{\\partial \\Omega}\\big((\\mathbf{N}\\cdot\\mathbf{c})k\\nabla (\\mathbf{N}\\cdot\\mathbf{T})\\big) \\cdot \\mathbf{n} dS - \\int_{\\Omega} \\nabla (\\mathbf{N}\\cdot\\mathbf{c}) \\cdot k\\nabla (\\mathbf{N}\\cdot\\mathbf{T})d\\Omega - \\int_{\\Omega} (\\mathbf{N}\\cdot\\mathbf{c}) \\big(h_z((\\mathbf{N}\\cdot\\mathbf{T})-T_{\\infty}) \\big) d\\Omega = 0  \\tag{4}$$ \n",
    "\n",
    "Denklem (4)'ü, test fonksiyonunun katsayıları olan $\\mathbf{c}$ değerine bölersek:\n",
    "\n",
    "$$\\int_{\\partial \\Omega}\\big(\\mathbf{N}k\\nabla (\\mathbf{N}\\cdot\\mathbf{T})\\big) \\cdot \\mathbf{n} dS - \\int_{\\Omega} \\nabla \\mathbf{N} \\cdot k\\nabla (\\mathbf{N}\\cdot\\mathbf{T})d\\Omega - \\int_{\\Omega} \\mathbf{N} \\big(h_z((\\mathbf{N}\\cdot\\mathbf{T})-T_{\\infty}) \\big) d\\Omega = 0  \\tag{5}$$ \n",
    "\n",
    "Denklemi tekrar düzenlersek:\n",
    "\n",
    "$$  \\int_{\\Omega} \\nabla \\mathbf{N} \\cdot k\\nabla (\\mathbf{N}\\cdot\\mathbf{T})d\\Omega+ \\int_{\\Omega} \\mathbf{N} \\big(h_z(\\mathbf{N}\\cdot\\mathbf{T}) \\big) d\\Omega = \\int_{\\partial \\Omega}\\big(\\mathbf{N}k\\nabla (\\mathbf{N}\\cdot\\mathbf{T})\\big) \\cdot \\mathbf{n} dS  + \\int_{\\Omega} \\mathbf{N} \\big(h_z T_{\\infty})  d\\Omega   \\tag{6}$$ \n",
    "\n",
    "ifadesini elde ederiz. Denklem (6)'yı blok şeklinde yazarsak:\n",
    "\n",
    "$$ \\mathbf{K_i}\n",
    "\\begin{bmatrix}\n",
    "T_1 \\\\ T_2 \\\\ T_3 \\\\ T_4\n",
    "\\end{bmatrix} \n",
    "+ \n",
    "\\mathbf{K_t}\n",
    "\\begin{bmatrix}\n",
    "T_1 \\\\ T_2 \\\\ T_3 \\\\ T_4\n",
    "\\end{bmatrix}\n",
    "=\n",
    "\\mathbf{f}\n",
    "\\tag{7}$$\n",
    "\n",
    "elde ederiz. Burada $\\mathbf{K_i}$ matrisini iletim matrisi, $\\mathbf{K_t}$ matrisini taşınım matrisi olarak adlandıralım."
   ]
  },
  {
   "cell_type": "markdown",
   "id": "773e208d",
   "metadata": {},
   "source": [
    "## Eleman İletim Matrisinin Hesaplanması\n",
    "\n",
    "Sadece bir eleman için, eleman iletim matrisini içindeki türev matrisleri açık olacak şekilde yazarsak:\n",
    "\n",
    "$$\\mathbf{K_i}=\n",
    "\\int_{\\Omega}\n",
    "\\begin{bmatrix}\n",
    "\\frac{\\partial N_1}{\\partial x} & \\frac{\\partial N_1}{\\partial y} \\\\\n",
    "\\frac{\\partial N_2}{\\partial x} & \\frac{\\partial N_2}{\\partial y} \\\\\n",
    "\\frac{\\partial N_3}{\\partial x} & \\frac{\\partial N_3}{\\partial y} \\\\\n",
    "\\frac{\\partial N_4}{\\partial x} & \\frac{\\partial N_4}{\\partial y} \n",
    "\\end{bmatrix}\n",
    "k\n",
    "\\begin{bmatrix}\n",
    "\\frac{\\partial N_1}{\\partial x} & \\frac{\\partial N_2}{\\partial x} &\\frac{\\partial N_3}{\\partial x} & \\frac{\\partial N_4}{\\partial x} \\\\\n",
    "\\frac{\\partial N_1}{\\partial y} & \\frac{\\partial N_2}{\\partial y} & \\frac{\\partial N_3}{\\partial y} & \\frac{\\partial N_4}{\\partial y} \n",
    "\\end{bmatrix}\n",
    "d\\Omega\n",
    "\\tag{8}\n",
    "$$\n",
    "\n",
    "Bu noktada, ders 7b'de bahsettiğimiz dörtgen referans elemanı kullanarak element matrisini inşa edeceğiz. Öncelikle ders 7b'deki denklem (7)'den hatırlanacağı üzere:\n",
    "\n",
    "$$\n",
    "\\begin{bmatrix}\n",
    "\\frac{\\partial}{\\partial x}\\\\\n",
    "\\frac{\\partial}{\\partial y}\n",
    "\\end{bmatrix}\n",
    "= \\mathbf{J^{-1}}\n",
    "\\begin{bmatrix}\n",
    "\\frac{\\partial}{\\partial \\xi}\\\\\n",
    "\\frac{\\partial}{\\partial \\eta}\n",
    "\\end{bmatrix}\n",
    "\\tag{9}\n",
    "$$\n",
    "\n",
    "idi. Gradyen matrisinin transpozu:\n",
    "\n",
    "$$\n",
    "\\begin{bmatrix}\n",
    "\\frac{\\partial}{\\partial x}\\\\\n",
    "\\frac{\\partial}{\\partial y}\n",
    "\\end{bmatrix}\n",
    "= \\mathbf{J^{-1}}\n",
    "\\begin{bmatrix}\n",
    "\\frac{\\partial}{\\partial \\xi}\\\\\n",
    "\\frac{\\partial}{\\partial \\eta}\n",
    "\\end{bmatrix}\n",
    "\\rightarrow\n",
    "\\mathbf{J}\n",
    "\\begin{bmatrix}\n",
    "\\frac{\\partial}{\\partial x}\\\\\n",
    "\\frac{\\partial}{\\partial y}\n",
    "\\end{bmatrix}\n",
    "= \n",
    "\\begin{bmatrix}\n",
    "\\frac{\\partial}{\\partial \\xi}\\\\\n",
    "\\frac{\\partial}{\\partial \\eta}\n",
    "\\end{bmatrix}\n",
    "\\rightarrow\n",
    "\\begin{bmatrix}\n",
    "\\frac{\\partial}{\\partial x} & \\frac{\\partial}{\\partial y}\n",
    "\\end{bmatrix}\n",
    "\\mathbf{J^T}\n",
    "= \n",
    "\\begin{bmatrix}\n",
    "\\frac{\\partial}{\\partial \\xi} & \\frac{\\partial}{\\partial \\eta}\n",
    "\\end{bmatrix}\n",
    "\\rightarrow\n",
    "\\begin{bmatrix}\n",
    "\\frac{\\partial}{\\partial x} & \\frac{\\partial}{\\partial y}\n",
    "\\end{bmatrix}\n",
    "= \n",
    "\\begin{bmatrix}\n",
    "\\frac{\\partial}{\\partial \\xi} & \\frac{\\partial}{\\partial \\eta}\n",
    "\\end{bmatrix}\n",
    "\\mathbf{J^{-T}}\n",
    "\\tag{10}\n",
    "$$\n",
    "\n",
    "şeklinde elde edilebilir. Son olarak, $d\\Omega$ değeri, ders 7b'dekl denklem (8)'den hareketle $d\\Omega = d\\eta d\\xi det(\\mathbf{J})$ olarak belirtilirse, denklem (8) son olarak aşağıdaki şekli alır:\n",
    "\n",
    "$$\\mathbf{K_i}=\n",
    "\\int_{-1}^1\\int_{-1}^1\n",
    "\\begin{bmatrix}\n",
    "\\frac{\\partial N_1}{\\partial \\xi} & \\frac{\\partial N_1}{\\partial \\eta} \\\\\n",
    "\\frac{\\partial N_2}{\\partial \\xi} & \\frac{\\partial N_2}{\\partial \\eta} \\\\\n",
    "\\frac{\\partial N_3}{\\partial \\xi} & \\frac{\\partial N_3}{\\partial \\eta} \\\\\n",
    "\\frac{\\partial N_4}{\\partial \\xi} & \\frac{\\partial N_4}{\\partial \\eta} \n",
    "\\end{bmatrix}\n",
    "\\mathbf{J^{-T}}\n",
    "k\n",
    "\\mathbf{J^{-1}}\n",
    "\\begin{bmatrix}\n",
    "\\frac{\\partial N_1}{\\partial \\xi} & \\frac{\\partial N_2}{\\partial \\xi} &\\frac{\\partial N_3}{\\partial \\xi} & \\frac{\\partial N_4}{\\partial \\xi} \\\\\n",
    "\\frac{\\partial N_1}{\\partial \\eta} & \\frac{\\partial N_2}{\\partial \\eta} & \\frac{\\partial N_3}{\\partial \\eta} & \\frac{\\partial N_4}{\\partial \\eta} \n",
    "\\end{bmatrix}\n",
    "det(\\mathbf{J}) d\\eta d\\xi.\n",
    "\\tag{11}\n",
    "$$\n",
    "\n",
    "Şimdi denklem (11)'i hesaplayabilmek için dörtgen elemanın şekil fonksiyonlarının türevlerini hesaplayacağız."
   ]
  },
  {
   "cell_type": "markdown",
   "id": "bbeba182",
   "metadata": {},
   "source": [
    "## Şekil Fonksiyonlarının Türevleri - Sympy"
   ]
  },
  {
   "cell_type": "markdown",
   "id": "c7a421d0",
   "metadata": {},
   "source": [
    "Ders 7b'den hatırlanacağı üzere referans dörtgen elemanın şekil fonksiyonları $\\xi$ ve $\\eta$ değişkenlerinden oluşmaktaydı. Burada kullanım kolaylığı için *sympy* kütüphanesini kullanarak bu değerleri ilk olarak sembolik olarak tanımlayacağız. Öncelikle kütüphaneyi kuralım:"
   ]
  },
  {
   "cell_type": "code",
   "execution_count": 1,
   "id": "6c28e917",
   "metadata": {},
   "outputs": [
    {
     "name": "stdout",
     "output_type": "stream",
     "text": [
      "Requirement already satisfied: sympy in /home/ekrem/Dev/Venvs/dolfinx_v050/lib/python3.10/site-packages (1.11.1)\r\n",
      "Requirement already satisfied: mpmath>=0.19 in /home/ekrem/Dev/Venvs/dolfinx_v050/lib/python3.10/site-packages (from sympy) (1.3.0)\r\n"
     ]
    }
   ],
   "source": [
    "import sys\n",
    "!{sys.executable} -m pip install sympy"
   ]
  },
  {
   "cell_type": "markdown",
   "id": "56bf65e6",
   "metadata": {},
   "source": [
    "Şimdi ders 7b'deki denklem (4)'ü *sympy* kullanarak yazalım:"
   ]
  },
  {
   "cell_type": "code",
   "execution_count": 2,
   "id": "77c61ca1",
   "metadata": {},
   "outputs": [],
   "source": [
    "import sympy as sp\n",
    "\n",
    "xi = sp.Symbol(\"xi\")\n",
    "eta = sp.Symbol(\"eta\")\n",
    "x_ = sp.symbols(\"x00,x10,x11,x01\")\n",
    "y_ = sp.symbols(\"y00,y10,y11,y01\")\n",
    "şekil = sp.Matrix([(1+xi)*(1+eta)/4,\n",
    "                   (1-xi)*(1+eta)/4,\n",
    "                   (1-xi)*(1-eta)/4,\n",
    "                   (1+xi)*(1-eta)/4])"
   ]
  },
  {
   "cell_type": "code",
   "execution_count": 3,
   "id": "9326777b",
   "metadata": {},
   "outputs": [
    {
     "data": {
      "text/latex": [
       "$\\displaystyle \\left[\\begin{matrix}\\frac{\\left(\\eta + 1\\right) \\left(\\xi + 1\\right)}{4}\\\\\\frac{\\left(1 - \\xi\\right) \\left(\\eta + 1\\right)}{4}\\\\\\frac{\\left(1 - \\eta\\right) \\left(1 - \\xi\\right)}{4}\\\\\\frac{\\left(1 - \\eta\\right) \\left(\\xi + 1\\right)}{4}\\end{matrix}\\right]$"
      ],
      "text/plain": [
       "Matrix([\n",
       "[(eta + 1)*(xi + 1)/4],\n",
       "[(1 - xi)*(eta + 1)/4],\n",
       "[(1 - eta)*(1 - xi)/4],\n",
       "[(1 - eta)*(xi + 1)/4]])"
      ]
     },
     "execution_count": 3,
     "metadata": {},
     "output_type": "execute_result"
    }
   ],
   "source": [
    "şekil"
   ]
  },
  {
   "cell_type": "markdown",
   "id": "f1fa2571",
   "metadata": {},
   "source": [
    "Ardından bu şekil fonksiyonlarının hem $\\xi$ hem de $\\eta$'ya parametrelerine göre gradyenlerini elde edelim:"
   ]
  },
  {
   "cell_type": "code",
   "execution_count": 4,
   "id": "8948ef41",
   "metadata": {},
   "outputs": [
    {
     "data": {
      "text/plain": [
       "[Matrix([\n",
       " [eta/4 + 1/4],\n",
       " [ xi/4 + 1/4]]),\n",
       " Matrix([\n",
       " [-eta/4 - 1/4],\n",
       " [  1/4 - xi/4]]),\n",
       " Matrix([\n",
       " [eta/4 - 1/4],\n",
       " [ xi/4 - 1/4]]),\n",
       " Matrix([\n",
       " [1/4 - eta/4],\n",
       " [-xi/4 - 1/4]])]"
      ]
     },
     "execution_count": 4,
     "metadata": {},
     "output_type": "execute_result"
    }
   ],
   "source": [
    "nokta_sayısı = 4\n",
    "\n",
    "gradyen = []\n",
    "for i in range(nokta_sayısı):\n",
    "    gradyen.append(sp.Matrix([[sp.diff(şekil[i], xi)],\n",
    "                            [sp.diff(şekil[i], eta)]]))\n",
    "gradyen"
   ]
  }
 ],
 "metadata": {
  "kernelspec": {
   "display_name": "Python 3 (ipykernel)",
   "language": "python",
   "name": "python3"
  },
  "language_info": {
   "codemirror_mode": {
    "name": "ipython",
    "version": 3
   },
   "file_extension": ".py",
   "mimetype": "text/x-python",
   "name": "python",
   "nbconvert_exporter": "python",
   "pygments_lexer": "ipython3",
   "version": "3.10.6"
  }
 },
 "nbformat": 4,
 "nbformat_minor": 5
}
