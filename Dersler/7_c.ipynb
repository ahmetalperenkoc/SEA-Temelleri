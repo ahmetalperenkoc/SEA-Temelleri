{
 "cells": [
  {
   "cell_type": "markdown",
   "id": "921cbd50",
   "metadata": {},
   "source": [
    "# Eleman Matris Sisteminin Oluşturulması\n",
    "\n",
    "Bu bölümden [ders 7a](https://github.com/seatemelleri/SEA-Temelleri/blob/main/Dersler/7_a.ipynb)'da türettiğimiz zayıf formu matris formunda yazacağız. İlk olarak [ders 7a](https://github.com/seatemelleri/SEA-Temelleri/blob/main/Dersler/7_a.ipynb)'daki denklem (8)'i tekrar yazalım:\n",
    "\n",
    "$$\\int_{\\partial \\Omega}(vk\\nabla T) \\cdot \\mathbf{n} dS - \\int_{\\Omega} \\nabla v \\cdot k\\nabla Td\\Omega - \\int_{\\Omega} v \\big(h_z(T-T_{\\infty}) \\big) d\\Omega = 0  \\tag{1}$$ \n",
    "\n",
    "Burada $v$ test fonksiyonu, $T$ ise sıcaklık değerleri idi. Şimdi, tıpkı ders 5'te yaptığımız gibi bu değerleri baz fonksiyonlarını esas alarak vektörel biçimde yazalım. Bu durumda $v = \\mathbf{N}\\cdot\\mathbf{c}$ vektörünün ve gradyeninin matris formu:\n",
    "\n",
    "$$\n",
    "\\mathbf{v} = \n",
    "\\begin{bmatrix}\n",
    "N_1 & N_2 & N_3 & N_4\n",
    "\\end{bmatrix}\n",
    "\\begin{bmatrix}\n",
    "c_1 \\\\ c_2 \\\\ c_3 \\\\ c_4\n",
    "\\end{bmatrix}\n",
    "\\quad\n",
    ",\n",
    "\\quad\n",
    "\\mathbf{\\nabla v} = \n",
    "\\begin{bmatrix}\n",
    "\\nabla N_1 & \\nabla N_2 & \\nabla N_3 & \\nabla N_4\n",
    "\\end{bmatrix}\n",
    "\\begin{bmatrix}\n",
    "c_1 \\\\ c_2 \\\\ c_3 \\\\ c_4\n",
    "\\end{bmatrix}\n",
    "\\tag{2}\n",
    "$$\n",
    "\n",
    "olacaktır. Aynı şekilde sıcaklık vektörü $\\mathbf{T}=\\mathbf{N}\\cdot T$ ve gradyeni $\\nabla T$:\n",
    "\n",
    "$$\n",
    "\\mathbf{T} = \n",
    "\\begin{bmatrix}\n",
    "N_1 & N_2 & N_3 & N_4\n",
    "\\end{bmatrix}\n",
    "\\begin{bmatrix}\n",
    "T_1 \\\\ T_2 \\\\ T_3 \\\\ T_4\n",
    "\\end{bmatrix}\n",
    "\\quad\n",
    ",\n",
    "\\quad\n",
    "\\mathbf{\\nabla T} = \n",
    "\\begin{bmatrix}\n",
    "\\nabla N_1 & \\nabla N_2 & \\nabla N_3 & \\nabla N_4\n",
    "\\end{bmatrix}\n",
    "\\begin{bmatrix}\n",
    "T_1 \\\\ T_2 \\\\ T_3 \\\\ T_4\n",
    "\\end{bmatrix}\n",
    "\\tag{3}\n",
    "$$\n",
    "\n",
    "şeklinde yazılabilir. Ders 7b'den hatırlacağı üzere $N_i$, dörtgen elemanın herhangi bir $i$ noktasındaki şekil fonksiyonunu ifade eder.\n",
    "\n",
    "\n",
    "Elde ettiğimiz blok şeklindeki yazımları denklem (1)'de yerine koymadan önce denklem (1)'i vektörel formlar üzerinden tekrar düzenleyelim: \n",
    "\n",
    "$$\\int_{\\partial \\Omega}\\big((\\mathbf{N}\\cdot\\mathbf{c})k\\nabla T \\big) \\cdot \\mathbf{n} dS - \\int_{\\Omega} \\nabla (\\mathbf{N}\\cdot\\mathbf{c}) \\cdot k\\nabla (\\mathbf{N}\\cdot\\mathbf{T})d\\Omega - \\int_{\\Omega} (\\mathbf{N}\\cdot\\mathbf{c}) \\big(h_z((\\mathbf{N}\\cdot\\mathbf{T})-T_{\\infty}) \\big) d\\Omega = 0  \\tag{4}$$ \n",
    "\n",
    "Denklem (4)'ü, test fonksiyonunun katsayıları olan $\\mathbf{c}$ değerine bölersek:\n",
    "\n",
    "$$\\int_{\\partial \\Omega}\\big(\\mathbf{N}k\\nabla T \\cdot \\mathbf{n} dS - \\int_{\\Omega} \\nabla \\mathbf{N} \\cdot k\\nabla (\\mathbf{N}\\cdot\\mathbf{T})d\\Omega - \\int_{\\Omega} \\mathbf{N} \\big(h_z((\\mathbf{N}\\cdot\\mathbf{T})-T_{\\infty}) \\big) d\\Omega = 0  \\tag{5}$$ \n",
    "\n",
    "Denklemi tekrar düzenlersek:\n",
    "\n",
    "$$  \\int_{\\Omega} \\nabla \\mathbf{N} \\cdot k\\nabla (\\mathbf{N}\\cdot\\mathbf{T})d\\Omega+ \\int_{\\Omega} \\mathbf{N} \\big(h_z(\\mathbf{N}\\cdot\\mathbf{T}) \\big) d\\Omega = \\int_{\\partial \\Omega}\\big(\\mathbf{N}k\\nabla T \\cdot \\mathbf{n} dS  + \\int_{\\Omega} \\mathbf{N} \\big(h_z T_{\\infty})  d\\Omega   \\tag{6}$$ \n",
    "\n",
    "ifadesini elde ederiz. Denklem (6)'yı blok şeklinde yazarsak:\n",
    "\n",
    "$$ \\mathbf{K_i}\n",
    "\\begin{bmatrix}\n",
    "T_1 \\\\ T_2 \\\\ T_3 \\\\ T_4\n",
    "\\end{bmatrix} \n",
    "+ \n",
    "\\mathbf{K_t}\n",
    "\\begin{bmatrix}\n",
    "T_1 \\\\ T_2 \\\\ T_3 \\\\ T_4\n",
    "\\end{bmatrix}\n",
    "=\n",
    "\\mathbf{f}\n",
    "\\tag{7}$$\n",
    "\n",
    "elde ederiz. Burada $\\mathbf{K_i}$ matrisini iletim matrisi, $\\mathbf{K_t}$ matrisini taşınım matrisi olarak adlandıralım."
   ]
  },
  {
   "cell_type": "markdown",
   "id": "86b9ca74",
   "metadata": {},
   "source": [
    "## Eleman İletim Matrisinin Hesaplanması\n",
    "\n",
    "Sadece bir eleman için, eleman iletim matrisini içindeki türev matrisleri açık olacak şekilde yazarsak:\n",
    "\n",
    "$$\\mathbf{K_i}=\n",
    "\\int_{\\Omega}\n",
    "\\begin{bmatrix}\n",
    "\\frac{\\partial N_1}{\\partial x} & \\frac{\\partial N_1}{\\partial y} \\\\\n",
    "\\frac{\\partial N_2}{\\partial x} & \\frac{\\partial N_2}{\\partial y} \\\\\n",
    "\\frac{\\partial N_3}{\\partial x} & \\frac{\\partial N_3}{\\partial y} \\\\\n",
    "\\frac{\\partial N_4}{\\partial x} & \\frac{\\partial N_4}{\\partial y} \n",
    "\\end{bmatrix}\n",
    "k\n",
    "\\begin{bmatrix}\n",
    "\\frac{\\partial N_1}{\\partial x} & \\frac{\\partial N_2}{\\partial x} &\\frac{\\partial N_3}{\\partial x} & \\frac{\\partial N_4}{\\partial x} \\\\\n",
    "\\frac{\\partial N_1}{\\partial y} & \\frac{\\partial N_2}{\\partial y} & \\frac{\\partial N_3}{\\partial y} & \\frac{\\partial N_4}{\\partial y} \n",
    "\\end{bmatrix}\n",
    "d\\Omega\n",
    "\\tag{8}\n",
    "$$\n",
    "\n",
    "Bu noktada, ders 7b'de bahsettiğimiz dörtgen referans elemanı kullanarak element matrisini inşa edeceğiz. Öncelikle ders 7b'deki denklem (9)'dan hatırlanacağı üzere:\n",
    "\n",
    "$$\n",
    "\\begin{bmatrix}\n",
    "\\frac{\\partial}{\\partial x}\\\\\n",
    "\\frac{\\partial}{\\partial y}\n",
    "\\end{bmatrix}\n",
    "= \\mathbf{J^{-1}}\n",
    "\\begin{bmatrix}\n",
    "\\frac{\\partial}{\\partial \\xi}\\\\\n",
    "\\frac{\\partial}{\\partial \\eta}\n",
    "\\end{bmatrix}\n",
    "\\tag{9}\n",
    "$$\n",
    "\n",
    "idi. Gradyen matrisinin transpozu:\n",
    "\n",
    "$$\n",
    "\\begin{bmatrix}\n",
    "\\frac{\\partial}{\\partial x}\\\\\n",
    "\\frac{\\partial}{\\partial y}\n",
    "\\end{bmatrix}\n",
    "= \\mathbf{J^{-1}}\n",
    "\\begin{bmatrix}\n",
    "\\frac{\\partial}{\\partial \\xi}\\\\\n",
    "\\frac{\\partial}{\\partial \\eta}\n",
    "\\end{bmatrix}\n",
    "\\rightarrow\n",
    "\\mathbf{J}\n",
    "\\begin{bmatrix}\n",
    "\\frac{\\partial}{\\partial x}\\\\\n",
    "\\frac{\\partial}{\\partial y}\n",
    "\\end{bmatrix}\n",
    "= \n",
    "\\begin{bmatrix}\n",
    "\\frac{\\partial}{\\partial \\xi}\\\\\n",
    "\\frac{\\partial}{\\partial \\eta}\n",
    "\\end{bmatrix}\n",
    "\\rightarrow\n",
    "\\begin{bmatrix}\n",
    "\\frac{\\partial}{\\partial x} & \\frac{\\partial}{\\partial y}\n",
    "\\end{bmatrix}\n",
    "\\mathbf{J^T}\n",
    "= \n",
    "\\begin{bmatrix}\n",
    "\\frac{\\partial}{\\partial \\xi} & \\frac{\\partial}{\\partial \\eta}\n",
    "\\end{bmatrix}\n",
    "\\rightarrow\n",
    "\\begin{bmatrix}\n",
    "\\frac{\\partial}{\\partial x} & \\frac{\\partial}{\\partial y}\n",
    "\\end{bmatrix}\n",
    "= \n",
    "\\begin{bmatrix}\n",
    "\\frac{\\partial}{\\partial \\xi} & \\frac{\\partial}{\\partial \\eta}\n",
    "\\end{bmatrix}\n",
    "\\mathbf{J^{-T}}\n",
    "\\tag{10}\n",
    "$$\n",
    "\n",
    "şeklinde elde edilebilir. Son olarak, $d\\Omega$ değeri, ders 7b'dekl denklem (10)'dan hareketle $d\\Omega = d\\eta d\\xi det(\\mathbf{J})$ olarak belirtilirse, denklem (10) son olarak aşağıdaki şekli alır:\n",
    "\n",
    "$$\\mathbf{K_i}=\n",
    "\\int_{-1}^1\\int_{-1}^1\n",
    "\\begin{bmatrix}\n",
    "\\frac{\\partial N_1}{\\partial \\xi} & \\frac{\\partial N_1}{\\partial \\eta} \\\\\n",
    "\\frac{\\partial N_2}{\\partial \\xi} & \\frac{\\partial N_2}{\\partial \\eta} \\\\\n",
    "\\frac{\\partial N_3}{\\partial \\xi} & \\frac{\\partial N_3}{\\partial \\eta} \\\\\n",
    "\\frac{\\partial N_4}{\\partial \\xi} & \\frac{\\partial N_4}{\\partial \\eta} \n",
    "\\end{bmatrix}\n",
    "\\mathbf{J^{-T}}\n",
    "k\n",
    "\\mathbf{J^{-1}}\n",
    "\\begin{bmatrix}\n",
    "\\frac{\\partial N_1}{\\partial \\xi} & \\frac{\\partial N_2}{\\partial \\xi} &\\frac{\\partial N_3}{\\partial \\xi} & \\frac{\\partial N_4}{\\partial \\xi} \\\\\n",
    "\\frac{\\partial N_1}{\\partial \\eta} & \\frac{\\partial N_2}{\\partial \\eta} & \\frac{\\partial N_3}{\\partial \\eta} & \\frac{\\partial N_4}{\\partial \\eta} \n",
    "\\end{bmatrix}\n",
    "det(\\mathbf{J}) d\\eta d\\xi.\n",
    "\\tag{11}\n",
    "$$\n",
    "\n",
    "Şimdi denklem (11)'i hesaplayabilmek için dörtgen elemanın şekil fonksiyonlarının türevlerini hesaplayacağız."
   ]
  },
  {
   "cell_type": "markdown",
   "id": "6424005e",
   "metadata": {},
   "source": [
    "### Şekil Fonksiyonlarının Türevleri - Sympy"
   ]
  },
  {
   "cell_type": "markdown",
   "id": "d683ac81",
   "metadata": {},
   "source": [
    "Ders 7b'den hatırlanacağı üzere referans dörtgen elemanın şekil fonksiyonları $\\xi$ ve $\\eta$ değişkenlerinden oluşmaktaydı. Burada kullanım kolaylığı için *sympy* kütüphanesini kullanarak bu değerleri ilk olarak sembolik olarak tanımlayacağız. Öncelikle kütüphaneyi kuralım:"
   ]
  },
  {
   "cell_type": "code",
   "execution_count": 1,
   "id": "c2282e40",
   "metadata": {},
   "outputs": [
    {
     "name": "stdout",
     "output_type": "stream",
     "text": [
      "Collecting sympy\n",
      "  Using cached sympy-1.11.1-py3-none-any.whl (6.5 MB)\n",
      "Collecting mpmath>=0.19\n",
      "  Downloading mpmath-1.3.0-py3-none-any.whl (536 kB)\n",
      "\u001b[K     |████████████████████████████████| 536 kB 9.6 MB/s eta 0:00:01\n",
      "\u001b[?25hInstalling collected packages: mpmath, sympy\n",
      "Successfully installed mpmath-1.3.0 sympy-1.11.1\n"
     ]
    }
   ],
   "source": [
    "import sys\n",
    "!{sys.executable} -m pip install sympy"
   ]
  },
  {
   "cell_type": "markdown",
   "id": "d815566a",
   "metadata": {},
   "source": [
    "Şimdi ders 7b'deki denklem (4)'ü *sympy* kullanarak yazalım:"
   ]
  },
  {
   "cell_type": "code",
   "execution_count": 27,
   "id": "4d6207a4",
   "metadata": {},
   "outputs": [
    {
     "data": {
      "text/latex": [
       "$\\displaystyle \\left[\\begin{matrix}\\frac{\\left(\\eta + 1\\right) \\left(\\xi + 1\\right)}{4}\\\\\\frac{\\left(1 - \\xi\\right) \\left(\\eta + 1\\right)}{4}\\\\\\frac{\\left(1 - \\eta\\right) \\left(1 - \\xi\\right)}{4}\\\\\\frac{\\left(1 - \\eta\\right) \\left(\\xi + 1\\right)}{4}\\end{matrix}\\right]$"
      ],
      "text/plain": [
       "Matrix([\n",
       "[(eta + 1)*(xi + 1)/4],\n",
       "[(1 - xi)*(eta + 1)/4],\n",
       "[(1 - eta)*(1 - xi)/4],\n",
       "[(1 - eta)*(xi + 1)/4]])"
      ]
     },
     "execution_count": 27,
     "metadata": {},
     "output_type": "execute_result"
    }
   ],
   "source": [
    "import sympy as sp\n",
    "import numpy as np\n",
    "\n",
    "xi = sp.Symbol(\"xi\")\n",
    "eta = sp.Symbol(\"eta\")\n",
    "x_ = sp.symbols(\"x1,x2,x3,x4\")\n",
    "y_ = sp.symbols(\"y1,y2,y3,y4\")\n",
    "şekil = sp.Matrix([(1+xi)*(1+eta)/4,\n",
    "                   (1-xi)*(1+eta)/4,\n",
    "                   (1-xi)*(1-eta)/4,\n",
    "                   (1+xi)*(1-eta)/4])\n",
    "şekil"
   ]
  },
  {
   "cell_type": "markdown",
   "id": "4f6589ad",
   "metadata": {},
   "source": [
    "Ardından bu şekil fonksiyonlarının hem $\\xi$ hem de $\\eta$'ya parametrelerine göre gradyenlerini elde edelim:"
   ]
  },
  {
   "cell_type": "code",
   "execution_count": 4,
   "id": "194e491a",
   "metadata": {},
   "outputs": [
    {
     "data": {
      "text/latex": [
       "$\\displaystyle \\left[\\begin{matrix}\\frac{\\xi}{4} + \\frac{1}{4} & \\frac{\\eta}{4} + \\frac{1}{4}\\\\\\frac{1}{4} - \\frac{\\xi}{4} & - \\frac{\\eta}{4} - \\frac{1}{4}\\\\\\frac{\\xi}{4} - \\frac{1}{4} & \\frac{\\eta}{4} - \\frac{1}{4}\\\\- \\frac{\\xi}{4} - \\frac{1}{4} & \\frac{1}{4} - \\frac{\\eta}{4}\\end{matrix}\\right]$"
      ],
      "text/plain": [
       "Matrix([\n",
       "[ xi/4 + 1/4,  eta/4 + 1/4],\n",
       "[ 1/4 - xi/4, -eta/4 - 1/4],\n",
       "[ xi/4 - 1/4,  eta/4 - 1/4],\n",
       "[-xi/4 - 1/4,  1/4 - eta/4]])"
      ]
     },
     "execution_count": 4,
     "metadata": {},
     "output_type": "execute_result"
    }
   ],
   "source": [
    "nokta_sayısı = 4\n",
    "\n",
    "gradyen_xi = sp.diff(şekil, xi)\n",
    "gradyen_eta = sp.diff(şekil, eta)\n",
    "\n",
    "gradyen = sp.Matrix([gradyen_eta, gradyen_xi])\n",
    "\n",
    "gradyen = gradyen.reshape(2,4)\n",
    "gradyen.T"
   ]
  },
  {
   "cell_type": "markdown",
   "id": "7fc4d961",
   "metadata": {},
   "source": [
    "Şimdi'de ders 7b'de yazdığımız denklem (6) ve denklem (7)'yi oluşturan matrisleri *sympy* yardımıyla oluşturalım:"
   ]
  },
  {
   "cell_type": "code",
   "execution_count": 15,
   "id": "432705c7",
   "metadata": {},
   "outputs": [
    {
     "data": {
      "text/latex": [
       "$\\displaystyle \\left[\\begin{matrix}\\frac{x_{1} \\left(\\eta + 1\\right)}{4} - \\frac{x_{2} \\left(\\eta + 1\\right)}{4} - \\frac{x_{3} \\cdot \\left(1 - \\eta\\right)}{4} + \\frac{x_{4} \\cdot \\left(1 - \\eta\\right)}{4} & \\frac{y_{1} \\left(\\eta + 1\\right)}{4} - \\frac{y_{2} \\left(\\eta + 1\\right)}{4} - \\frac{y_{3} \\cdot \\left(1 - \\eta\\right)}{4} + \\frac{y_{4} \\cdot \\left(1 - \\eta\\right)}{4}\\\\\\frac{x_{1} \\left(\\xi + 1\\right)}{4} + \\frac{x_{2} \\cdot \\left(1 - \\xi\\right)}{4} - \\frac{x_{3} \\cdot \\left(1 - \\xi\\right)}{4} - \\frac{x_{4} \\left(\\xi + 1\\right)}{4} & \\frac{y_{1} \\left(\\xi + 1\\right)}{4} + \\frac{y_{2} \\cdot \\left(1 - \\xi\\right)}{4} - \\frac{y_{3} \\cdot \\left(1 - \\xi\\right)}{4} - \\frac{y_{4} \\left(\\xi + 1\\right)}{4}\\end{matrix}\\right]$"
      ],
      "text/plain": [
       "Matrix([\n",
       "[x1*(eta + 1)/4 - x2*(eta + 1)/4 - x3*(1 - eta)/4 + x4*(1 - eta)/4, y1*(eta + 1)/4 - y2*(eta + 1)/4 - y3*(1 - eta)/4 + y4*(1 - eta)/4],\n",
       "[    x1*(xi + 1)/4 + x2*(1 - xi)/4 - x3*(1 - xi)/4 - x4*(xi + 1)/4,     y1*(xi + 1)/4 + y2*(1 - xi)/4 - y3*(1 - xi)/4 - y4*(xi + 1)/4]])"
      ]
     },
     "execution_count": 15,
     "metadata": {},
     "output_type": "execute_result"
    }
   ],
   "source": [
    "c_şekil = sp.Matrix([0, 0])\n",
    "for i in range(nokta_sayısı):\n",
    "    c_şekil[0] += x_[i] * şekil[i]\n",
    "    c_şekil[1] += y_[i] * şekil[i]\n",
    "J = c_şekil.jacobian([xi, eta]).T\n",
    "J"
   ]
  },
  {
   "cell_type": "markdown",
   "id": "8b4bc10b",
   "metadata": {},
   "source": [
    "### 2 Boyutlu Ağ Oluşturma ve Bir Eleman İçin Jakobyen Hesabı"
   ]
  },
  {
   "cell_type": "markdown",
   "id": "4dc9621b",
   "metadata": {},
   "source": [
    "Şimdi ders 7a'de belirtilen ve genişliği $L=2m$, yüksekliği $H=2m$ olan 2 boyutlu plakayı, merkezi O olan bir $xy$ düzleminde 4 eşit parçaya ayıralım:\n",
    "\n",
    "<img src=\"Resimler/Ders7/7c_TamMesh.png\" align=\"center\" width= \"600\"/>\n",
    "\n",
    "Burada eleman 4'ü örnek alarak başlayalım. \n",
    "\n",
    "<img src=\"Resimler/Ders7/7c_ElemanMesh.png\" align=\"center\" width= \"300\"/>\n",
    "\n",
    "Artık eleman 4'ün koordinatlarını kullanarak bu elemana ait Jakobyen matrisi hesaplayabiliriz."
   ]
  },
  {
   "cell_type": "code",
   "execution_count": 17,
   "id": "b2c18178",
   "metadata": {},
   "outputs": [
    {
     "data": {
      "text/latex": [
       "$\\displaystyle \\left[\\begin{matrix}\\frac{1}{2} & 0\\\\0 & \\frac{1}{2}\\end{matrix}\\right]$"
      ],
      "text/plain": [
       "Matrix([\n",
       "[1/2,   0],\n",
       "[  0, 1/2]])"
      ]
     },
     "execution_count": 17,
     "metadata": {},
     "output_type": "execute_result"
    }
   ],
   "source": [
    "x_koord = [1,0,0,1] \n",
    "y_koord = [2,2,1,1]\n",
    "    \n",
    "for nokta in range(nokta_sayısı):\n",
    "    J = J.subs(x_[nokta],x_koord[nokta]) \n",
    "    J = J.subs(y_[nokta],y_koord[nokta])\n",
    "J"
   ]
  },
  {
   "cell_type": "markdown",
   "id": "06107e44",
   "metadata": {},
   "source": [
    "## Eleman İletim Matrisinin Hesaplanması\n",
    "\n",
    "Tıpkı jakobyen matrisini hesaplarken yaptığımız gibi eleman iletim ve eleman taşınım matrislerini de *sympy* yardımıyla yazalım:"
   ]
  },
  {
   "cell_type": "code",
   "execution_count": 19,
   "id": "fc0c0fc1",
   "metadata": {},
   "outputs": [
    {
     "data": {
      "text/latex": [
       "$\\displaystyle \\left[\\begin{matrix}\\frac{\\left(\\frac{\\eta}{4} + \\frac{1}{4}\\right) \\left(5 \\eta + 5\\right)}{4} + \\frac{\\left(\\frac{\\xi}{4} + \\frac{1}{4}\\right) \\left(5 \\xi + 5\\right)}{4} & \\frac{\\left(\\frac{1}{4} - \\frac{\\xi}{4}\\right) \\left(5 \\xi + 5\\right)}{4} + \\frac{\\left(- \\frac{\\eta}{4} - \\frac{1}{4}\\right) \\left(5 \\eta + 5\\right)}{4} & \\frac{\\left(\\frac{\\eta}{4} - \\frac{1}{4}\\right) \\left(5 \\eta + 5\\right)}{4} + \\frac{\\left(\\frac{\\xi}{4} - \\frac{1}{4}\\right) \\left(5 \\xi + 5\\right)}{4} & \\frac{\\left(\\frac{1}{4} - \\frac{\\eta}{4}\\right) \\left(5 \\eta + 5\\right)}{4} + \\frac{\\left(- \\frac{\\xi}{4} - \\frac{1}{4}\\right) \\left(5 \\xi + 5\\right)}{4}\\\\\\frac{\\left(5 - 5 \\xi\\right) \\left(\\frac{\\xi}{4} + \\frac{1}{4}\\right)}{4} + \\frac{\\left(- 5 \\eta - 5\\right) \\left(\\frac{\\eta}{4} + \\frac{1}{4}\\right)}{4} & \\frac{\\left(\\frac{1}{4} - \\frac{\\xi}{4}\\right) \\left(5 - 5 \\xi\\right)}{4} + \\frac{\\left(- 5 \\eta - 5\\right) \\left(- \\frac{\\eta}{4} - \\frac{1}{4}\\right)}{4} & \\frac{\\left(5 - 5 \\xi\\right) \\left(\\frac{\\xi}{4} - \\frac{1}{4}\\right)}{4} + \\frac{\\left(- 5 \\eta - 5\\right) \\left(\\frac{\\eta}{4} - \\frac{1}{4}\\right)}{4} & \\frac{\\left(\\frac{1}{4} - \\frac{\\eta}{4}\\right) \\left(- 5 \\eta - 5\\right)}{4} + \\frac{\\left(5 - 5 \\xi\\right) \\left(- \\frac{\\xi}{4} - \\frac{1}{4}\\right)}{4}\\\\\\frac{\\left(\\frac{\\eta}{4} + \\frac{1}{4}\\right) \\left(5 \\eta - 5\\right)}{4} + \\frac{\\left(\\frac{\\xi}{4} + \\frac{1}{4}\\right) \\left(5 \\xi - 5\\right)}{4} & \\frac{\\left(\\frac{1}{4} - \\frac{\\xi}{4}\\right) \\left(5 \\xi - 5\\right)}{4} + \\frac{\\left(- \\frac{\\eta}{4} - \\frac{1}{4}\\right) \\left(5 \\eta - 5\\right)}{4} & \\frac{\\left(\\frac{\\eta}{4} - \\frac{1}{4}\\right) \\left(5 \\eta - 5\\right)}{4} + \\frac{\\left(\\frac{\\xi}{4} - \\frac{1}{4}\\right) \\left(5 \\xi - 5\\right)}{4} & \\frac{\\left(\\frac{1}{4} - \\frac{\\eta}{4}\\right) \\left(5 \\eta - 5\\right)}{4} + \\frac{\\left(- \\frac{\\xi}{4} - \\frac{1}{4}\\right) \\left(5 \\xi - 5\\right)}{4}\\\\\\frac{\\left(5 - 5 \\eta\\right) \\left(\\frac{\\eta}{4} + \\frac{1}{4}\\right)}{4} + \\frac{\\left(- 5 \\xi - 5\\right) \\left(\\frac{\\xi}{4} + \\frac{1}{4}\\right)}{4} & \\frac{\\left(\\frac{1}{4} - \\frac{\\xi}{4}\\right) \\left(- 5 \\xi - 5\\right)}{4} + \\frac{\\left(5 - 5 \\eta\\right) \\left(- \\frac{\\eta}{4} - \\frac{1}{4}\\right)}{4} & \\frac{\\left(5 - 5 \\eta\\right) \\left(\\frac{\\eta}{4} - \\frac{1}{4}\\right)}{4} + \\frac{\\left(- 5 \\xi - 5\\right) \\left(\\frac{\\xi}{4} - \\frac{1}{4}\\right)}{4} & \\frac{\\left(\\frac{1}{4} - \\frac{\\eta}{4}\\right) \\left(5 - 5 \\eta\\right)}{4} + \\frac{\\left(- 5 \\xi - 5\\right) \\left(- \\frac{\\xi}{4} - \\frac{1}{4}\\right)}{4}\\end{matrix}\\right]$"
      ],
      "text/plain": [
       "Matrix([\n",
       "[ (eta/4 + 1/4)*(5*eta + 5)/4 + (xi/4 + 1/4)*(5*xi + 5)/4,  (1/4 - xi/4)*(5*xi + 5)/4 + (-eta/4 - 1/4)*(5*eta + 5)/4,  (eta/4 - 1/4)*(5*eta + 5)/4 + (xi/4 - 1/4)*(5*xi + 5)/4,  (1/4 - eta/4)*(5*eta + 5)/4 + (-xi/4 - 1/4)*(5*xi + 5)/4],\n",
       "[(5 - 5*xi)*(xi/4 + 1/4)/4 + (-5*eta - 5)*(eta/4 + 1/4)/4, (1/4 - xi/4)*(5 - 5*xi)/4 + (-5*eta - 5)*(-eta/4 - 1/4)/4, (5 - 5*xi)*(xi/4 - 1/4)/4 + (-5*eta - 5)*(eta/4 - 1/4)/4, (1/4 - eta/4)*(-5*eta - 5)/4 + (5 - 5*xi)*(-xi/4 - 1/4)/4],\n",
       "[ (eta/4 + 1/4)*(5*eta - 5)/4 + (xi/4 + 1/4)*(5*xi - 5)/4,  (1/4 - xi/4)*(5*xi - 5)/4 + (-eta/4 - 1/4)*(5*eta - 5)/4,  (eta/4 - 1/4)*(5*eta - 5)/4 + (xi/4 - 1/4)*(5*xi - 5)/4,  (1/4 - eta/4)*(5*eta - 5)/4 + (-xi/4 - 1/4)*(5*xi - 5)/4],\n",
       "[(5 - 5*eta)*(eta/4 + 1/4)/4 + (-5*xi - 5)*(xi/4 + 1/4)/4, (1/4 - xi/4)*(-5*xi - 5)/4 + (5 - 5*eta)*(-eta/4 - 1/4)/4, (5 - 5*eta)*(eta/4 - 1/4)/4 + (-5*xi - 5)*(xi/4 - 1/4)/4, (1/4 - eta/4)*(5 - 5*eta)/4 + (-5*xi - 5)*(-xi/4 - 1/4)/4]])"
      ]
     },
     "execution_count": 19,
     "metadata": {},
     "output_type": "execute_result"
    }
   ],
   "source": [
    "k = 5 # W/mK\n",
    "K_e_sym = gradyen.T*(J**(-1)).T*k*(J**(-1))*gradyen*J.det()\n",
    "K_e_sym"
   ]
  },
  {
   "cell_type": "markdown",
   "id": "b89b17db",
   "metadata": {},
   "source": [
    "Yukarıdaki karmaşık matrisi (varsa) ortak paranteze almak için *together* fonksiyonunu kullanabiliriz:"
   ]
  },
  {
   "cell_type": "code",
   "execution_count": 20,
   "id": "02f7efb3",
   "metadata": {},
   "outputs": [
    {
     "data": {
      "text/latex": [
       "$\\displaystyle \\left[\\begin{matrix}\\frac{5 \\left(\\left(\\eta + 1\\right)^{2} + \\left(\\xi + 1\\right)^{2}\\right)}{16} & \\frac{5 \\left(\\left(1 - \\xi\\right) \\left(\\xi + 1\\right) + \\left(- \\eta - 1\\right) \\left(\\eta + 1\\right)\\right)}{16} & \\frac{5 \\left(\\left(\\eta - 1\\right) \\left(\\eta + 1\\right) + \\left(\\xi - 1\\right) \\left(\\xi + 1\\right)\\right)}{16} & \\frac{5 \\left(\\left(1 - \\eta\\right) \\left(\\eta + 1\\right) + \\left(- \\xi - 1\\right) \\left(\\xi + 1\\right)\\right)}{16}\\\\\\frac{5 \\left(\\left(1 - \\xi\\right) \\left(\\xi + 1\\right) + \\left(- \\eta - 1\\right) \\left(\\eta + 1\\right)\\right)}{16} & \\frac{5 \\left(\\left(1 - \\xi\\right)^{2} + \\left(- \\eta - 1\\right)^{2}\\right)}{16} & \\frac{5 \\left(\\left(1 - \\xi\\right) \\left(\\xi - 1\\right) + \\left(- \\eta - 1\\right) \\left(\\eta - 1\\right)\\right)}{16} & \\frac{5 \\left(\\left(1 - \\eta\\right) \\left(- \\eta - 1\\right) + \\left(1 - \\xi\\right) \\left(- \\xi - 1\\right)\\right)}{16}\\\\\\frac{5 \\left(\\left(\\eta - 1\\right) \\left(\\eta + 1\\right) + \\left(\\xi - 1\\right) \\left(\\xi + 1\\right)\\right)}{16} & \\frac{5 \\left(\\left(1 - \\xi\\right) \\left(\\xi - 1\\right) + \\left(- \\eta - 1\\right) \\left(\\eta - 1\\right)\\right)}{16} & \\frac{5 \\left(\\left(\\eta - 1\\right)^{2} + \\left(\\xi - 1\\right)^{2}\\right)}{16} & \\frac{5 \\left(\\left(1 - \\eta\\right) \\left(\\eta - 1\\right) + \\left(- \\xi - 1\\right) \\left(\\xi - 1\\right)\\right)}{16}\\\\\\frac{5 \\left(\\left(1 - \\eta\\right) \\left(\\eta + 1\\right) + \\left(- \\xi - 1\\right) \\left(\\xi + 1\\right)\\right)}{16} & \\frac{5 \\left(\\left(1 - \\eta\\right) \\left(- \\eta - 1\\right) + \\left(1 - \\xi\\right) \\left(- \\xi - 1\\right)\\right)}{16} & \\frac{5 \\left(\\left(1 - \\eta\\right) \\left(\\eta - 1\\right) + \\left(- \\xi - 1\\right) \\left(\\xi - 1\\right)\\right)}{16} & \\frac{5 \\left(\\left(1 - \\eta\\right)^{2} + \\left(- \\xi - 1\\right)^{2}\\right)}{16}\\end{matrix}\\right]$"
      ],
      "text/plain": [
       "Matrix([\n",
       "[              5*((eta + 1)**2 + (xi + 1)**2)/16,  5*((1 - xi)*(xi + 1) + (-eta - 1)*(eta + 1))/16,  5*((eta - 1)*(eta + 1) + (xi - 1)*(xi + 1))/16,  5*((1 - eta)*(eta + 1) + (-xi - 1)*(xi + 1))/16],\n",
       "[5*((1 - xi)*(xi + 1) + (-eta - 1)*(eta + 1))/16,               5*((1 - xi)**2 + (-eta - 1)**2)/16, 5*((1 - xi)*(xi - 1) + (-eta - 1)*(eta - 1))/16, 5*((1 - eta)*(-eta - 1) + (1 - xi)*(-xi - 1))/16],\n",
       "[ 5*((eta - 1)*(eta + 1) + (xi - 1)*(xi + 1))/16,  5*((1 - xi)*(xi - 1) + (-eta - 1)*(eta - 1))/16,               5*((eta - 1)**2 + (xi - 1)**2)/16,  5*((1 - eta)*(eta - 1) + (-xi - 1)*(xi - 1))/16],\n",
       "[5*((1 - eta)*(eta + 1) + (-xi - 1)*(xi + 1))/16, 5*((1 - eta)*(-eta - 1) + (1 - xi)*(-xi - 1))/16, 5*((1 - eta)*(eta - 1) + (-xi - 1)*(xi - 1))/16,               5*((1 - eta)**2 + (-xi - 1)**2)/16]])"
      ]
     },
     "execution_count": 20,
     "metadata": {},
     "output_type": "execute_result"
    }
   ],
   "source": [
    "sp.together(K_e_sym)"
   ]
  },
  {
   "cell_type": "markdown",
   "id": "de2afb75",
   "metadata": {},
   "source": [
    "Oluşturduğumuz *sympy* matrisini artık *numpy* matrisi olarak yazabiliriz:"
   ]
  },
  {
   "cell_type": "code",
   "execution_count": 22,
   "id": "8b5a6eb1",
   "metadata": {},
   "outputs": [
    {
     "data": {
      "text/plain": [
       "array([[ 3.33333333, -0.83333333, -1.66666667, -0.83333333],\n",
       "       [-0.83333333,  3.33333333, -0.83333333, -1.66666667],\n",
       "       [-1.66666667, -0.83333333,  3.33333333, -0.83333333],\n",
       "       [-0.83333333, -1.66666667, -0.83333333,  3.33333333]])"
      ]
     },
     "execution_count": 22,
     "metadata": {},
     "output_type": "execute_result"
    }
   ],
   "source": [
    "from scipy import integrate\n",
    "from sympy.utilities import lambdify\n",
    "\n",
    "K_e = np.zeros((nokta_sayısı,nokta_sayısı))\n",
    "for i in range(nokta_sayısı):\n",
    "    for j in range(nokta_sayısı):\n",
    "        # scipy'da bulunan integrasyon fonksiyonunu kullanmak için\n",
    "        # hücre değerlerini geçici olarak 'lambda' formatına çevirmemiz gerekiyor.\n",
    "        geçici_fonksiyon = lambdify( (xi,eta), K_e_sym[i,j], 'math' )\n",
    "        K_e[i,j] += integrate.nquad(geçici_fonksiyon, [[-1, 1],[-1, 1]])[0]\n",
    "K_e"
   ]
  },
  {
   "cell_type": "markdown",
   "id": "3a321dd0",
   "metadata": {},
   "source": [
    "## Eleman Taşınım Matrisinin Hesaplanması\n",
    "\n",
    "Benzer şekilde bir eleman için, eleman taşınım matrisini blok form şeklinde yazarsak:\n",
    "\n",
    "$$\\mathbf{K_t}=\n",
    "\\int_{\\Omega}\n",
    "h_z\n",
    "\\begin{bmatrix}\n",
    "N_1 \\\\ \n",
    "N_2 \\\\\n",
    "N_3 \\\\\n",
    "N_4\n",
    "\\end{bmatrix}\n",
    "\\begin{bmatrix}\n",
    "N_1 ,N_2 ,N_3,N_4\n",
    "\\end{bmatrix}\n",
    "d\\Omega\n",
    "\\tag{12}\n",
    "$$\n",
    "\n",
    "elde ederiz. Hatırlanacağı üzere $h_z=2h/t_z$ idi. Denklem (12)'yi *sympy* ile sembolik olarak yazalım:"
   ]
  },
  {
   "cell_type": "code",
   "execution_count": 23,
   "id": "351da30b",
   "metadata": {},
   "outputs": [
    {
     "data": {
      "text/latex": [
       "$\\displaystyle \\left[\\begin{matrix}6.25 \\left(\\eta + 1\\right)^{2} \\left(\\xi + 1\\right)^{2} & 6.25 \\cdot \\left(1 - \\xi\\right) \\left(\\eta + 1\\right)^{2} \\left(\\xi + 1\\right) & 6.25 \\cdot \\left(1 - \\eta\\right) \\left(1 - \\xi\\right) \\left(\\eta + 1\\right) \\left(\\xi + 1\\right) & 6.25 \\cdot \\left(1 - \\eta\\right) \\left(\\eta + 1\\right) \\left(\\xi + 1\\right)^{2}\\\\6.25 \\cdot \\left(1 - \\xi\\right) \\left(\\eta + 1\\right)^{2} \\left(\\xi + 1\\right) & 6.25 \\left(1 - \\xi\\right)^{2} \\left(\\eta + 1\\right)^{2} & 6.25 \\cdot \\left(1 - \\eta\\right) \\left(1 - \\xi\\right)^{2} \\left(\\eta + 1\\right) & 6.25 \\cdot \\left(1 - \\eta\\right) \\left(1 - \\xi\\right) \\left(\\eta + 1\\right) \\left(\\xi + 1\\right)\\\\6.25 \\cdot \\left(1 - \\eta\\right) \\left(1 - \\xi\\right) \\left(\\eta + 1\\right) \\left(\\xi + 1\\right) & 6.25 \\cdot \\left(1 - \\eta\\right) \\left(1 - \\xi\\right)^{2} \\left(\\eta + 1\\right) & 6.25 \\left(1 - \\eta\\right)^{2} \\left(1 - \\xi\\right)^{2} & 6.25 \\left(1 - \\eta\\right)^{2} \\cdot \\left(1 - \\xi\\right) \\left(\\xi + 1\\right)\\\\6.25 \\cdot \\left(1 - \\eta\\right) \\left(\\eta + 1\\right) \\left(\\xi + 1\\right)^{2} & 6.25 \\cdot \\left(1 - \\eta\\right) \\left(1 - \\xi\\right) \\left(\\eta + 1\\right) \\left(\\xi + 1\\right) & 6.25 \\left(1 - \\eta\\right)^{2} \\cdot \\left(1 - \\xi\\right) \\left(\\xi + 1\\right) & 6.25 \\left(1 - \\eta\\right)^{2} \\left(\\xi + 1\\right)^{2}\\end{matrix}\\right]$"
      ],
      "text/plain": [
       "Matrix([\n",
       "[             6.25*(eta + 1)**2*(xi + 1)**2,        6.25*(1 - xi)*(eta + 1)**2*(xi + 1), 6.25*(1 - eta)*(1 - xi)*(eta + 1)*(xi + 1),       6.25*(1 - eta)*(eta + 1)*(xi + 1)**2],\n",
       "[       6.25*(1 - xi)*(eta + 1)**2*(xi + 1),              6.25*(1 - xi)**2*(eta + 1)**2,       6.25*(1 - eta)*(1 - xi)**2*(eta + 1), 6.25*(1 - eta)*(1 - xi)*(eta + 1)*(xi + 1)],\n",
       "[6.25*(1 - eta)*(1 - xi)*(eta + 1)*(xi + 1),       6.25*(1 - eta)*(1 - xi)**2*(eta + 1),              6.25*(1 - eta)**2*(1 - xi)**2,        6.25*(1 - eta)**2*(1 - xi)*(xi + 1)],\n",
       "[      6.25*(1 - eta)*(eta + 1)*(xi + 1)**2, 6.25*(1 - eta)*(1 - xi)*(eta + 1)*(xi + 1),        6.25*(1 - eta)**2*(1 - xi)*(xi + 1),              6.25*(1 - eta)**2*(xi + 1)**2]])"
      ]
     },
     "execution_count": 23,
     "metadata": {},
     "output_type": "execute_result"
    }
   ],
   "source": [
    "h = 10 # W/m2K\n",
    "t_z = 0.05 #m\n",
    "h_z = 2*h/t_z\n",
    "K_t_sym = h_z*şekil*şekil.T*J.det()\n",
    "K_t_sym"
   ]
  },
  {
   "cell_type": "markdown",
   "id": "ee7338fb",
   "metadata": {},
   "source": [
    "Tıpkı element iletim matrisinde yaptığımız gibi element taşınım matrisini de numpy matrisine çevirelim:"
   ]
  },
  {
   "cell_type": "code",
   "execution_count": 26,
   "id": "66d80377",
   "metadata": {},
   "outputs": [
    {
     "data": {
      "text/plain": [
       "array([[44.44444444, 22.22222222, 11.11111111, 22.22222222],\n",
       "       [22.22222222, 44.44444444, 22.22222222, 11.11111111],\n",
       "       [11.11111111, 22.22222222, 44.44444444, 22.22222222],\n",
       "       [22.22222222, 11.11111111, 22.22222222, 44.44444444]])"
      ]
     },
     "execution_count": 26,
     "metadata": {},
     "output_type": "execute_result"
    }
   ],
   "source": [
    "K_t = np.zeros((nokta_sayısı,nokta_sayısı))\n",
    "for i in range(nokta_sayısı):\n",
    "    for j in range(nokta_sayısı):\n",
    "        geçici_fonksiyon = lambdify( (xi,eta), K_t_sym[i,j], 'math' )\n",
    "        K_t[i,j] += integrate.nquad(geçici_fonksiyon, [[-1, 1],[-1, 1]])[0]\n",
    "K_t"
   ]
  },
  {
   "cell_type": "markdown",
   "id": "7311545d",
   "metadata": {},
   "source": [
    "Bu bölümde eleman iletim ve eleman taşınım matrislerini hesaplamış olduk. Bir sonraki bölümde sınır koşulu matrislerini oluşturup sistemi çözümleyeceğiz. "
   ]
  }
 ],
 "metadata": {
  "kernelspec": {
   "display_name": "Python 3 (ipykernel)",
   "language": "python",
   "name": "python3"
  },
  "language_info": {
   "codemirror_mode": {
    "name": "ipython",
    "version": 3
   },
   "file_extension": ".py",
   "mimetype": "text/x-python",
   "name": "python",
   "nbconvert_exporter": "python",
   "pygments_lexer": "ipython3",
   "version": "3.10.6"
  }
 },
 "nbformat": 4,
 "nbformat_minor": 5
}
