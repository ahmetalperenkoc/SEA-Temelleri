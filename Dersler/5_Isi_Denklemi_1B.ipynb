{
 "cells": [
  {
   "cell_type": "markdown",
   "metadata": {},
   "source": [
    "# 1 Boyutlu Isı Transferinin Modellenmesi\n",
    "\n",
    "Batarya ve bilgisayar teknolojilerinden, evde kullandığımız ısıtma/soğutma cihazlarına kadar birçok mühendislik ürününün geliştirilmesinde ısıl analizler oldukça önemlidir. Son yıllarda uygulamalardaki geometriler karmaşıklaşmış ve numerik yöntemlere olan ihtiyaç artmıştır. Bu motivasyonla bu derste basit bir kanat kesiti üzerinden 1 boyutlu ısı transferini sonlu elemanlar metodu ile inceleyeceğiz.\n",
    "\n",
    "## Isı Denklemi\n",
    "\n",
    "En genel haliyle 3 boyutlu ısı denklemi\n",
    "\n",
    "$$ \\nabla \\cdot k \\nabla{T} +\\dot{q} +\\phi = \\rho c_v \\frac{DT}{Dt} \\tag{1} $$\n",
    "\n",
    "şeklindedir. Burada $T$ sıcaklık vektörünü, $k$ ısıl iletkenlik katsayısını, $\\rho$ yoğunluğu ve $c_v$ sabit hacimde ısı kapasitesini belirtmektedir. Denklemi terim terim inceleyecek olursak:\n",
    "\n",
    "- Sol taraftaki 1. terim ısının iletimini\n",
    "- Sol taraftaki 2. terim ($\\dot{q}$) aktarılan ısıyı\n",
    "- Sol taraftaki 3. terim ($\\phi$) viskoz etkileriden dolayı oluşan ısıl kaybı/kazancı\n",
    "- Sağ taraftaki terim sıcaklığın zamana bağlı değişimini\n",
    "\n",
    "modeller. "
   ]
  },
  {
   "cell_type": "markdown",
   "metadata": {},
   "source": [
    "### 1 Boyutlu Kanatta Isı Transferi\n",
    "\n",
    "<img src=\"Resimler/Ders5/Sekil1.png\" align=\"center\" width= \"600\"/>\n",
    "\n",
    "Şekil 1'de bir bilgisayar işlemcisindeki ısı transfer uygulaması gösterilmiştir. İşlemciler ısı üreten birimler olduğundan bu ısının işlemcilerden uzaklaştırılması gerekmektedir. Bunun için çeşitli uygulamalar mevcuttur. Bunlardan birisi de kanatlı geometrilerle ısı transfer yüzey alanını artırarak işlemciden atılan ısı hızını artırmaktır. Bu uygulamada kanatlardaki ısı dağılımını bilmek, kanat geometrisini ve kullanılacak malzemeyi belirlemek açısından oldukça önemlidir.\n",
    "\n",
    "Biz bu derste sadece iletim yoluyla gerçekleşen ısı transferinin sürekli halini ele alacağız. O halde Denklem (1)'i yeniden düzenleyelim:\n",
    "\n",
    "$$\\require{cancel}$$  \n",
    "\n",
    "$$ \\nabla \\cdot k \\nabla{T} +\\dot{q} +\\cancel{\\phi} = \\cancel{\\rho c_v \\frac{DT}{Dt}} \\tag{2} $$\n",
    "\n",
    "Denklem (2)'yi kesit alanını($\\dot{Q}=\\dot{q}A$) içerecek şekilde düzenleyip yazarsak:\n",
    "\n",
    "$$ \\nabla \\cdot kA \\nabla{T} = -\\dot{Q}  \\tag{3} $$\n",
    "\n",
    "şeklini alır. Şimdi Denklem (3)'ün zayıf formunu türetebiliriz.\n",
    "\n",
    "### Zayıf Formun Türetilmesi\n",
    "\n",
    "Denklem (3)'ü test fonksiyonu $v$ ile çarpıp kanat boyunca($\\Omega$) integralini alalım:\n",
    "\n",
    "$$ \\int_0^L (\\nabla \\cdot (kA \\nabla{T}))v d\\Omega = \\int_0^L (-\\dot{Q})v d\\Omega  \\tag{4} $$\n",
    "\n",
    "Denklem (4)'ün sol tarafı için [kısmi integrasyon](https://en.wikipedia.org/wiki/Integration_by_parts) uygulayabiliriz:\n",
    "\n",
    "$$ \\int_0^L ( -\\nabla T kA  \\nabla{v})d\\Omega + (kA \\nabla{T}v)|_0^L = \\int_0^L (-\\dot{Q})v d\\Omega   \\tag{5} $$\n",
    "\n",
    "Tarafları düzenlersek:\n",
    "\n",
    "$$ \\int_0^L ( \\nabla T kA  \\nabla{v})d\\Omega  = \\int_0^L (\\dot{Q})v d\\Omega + (kA \\nabla{T}v)|_0^L  \\tag{5} $$\n",
    "\n",
    "\n",
    "Ayrıca [Fourier'ın ısı iletim denklemini](https://en.wikipedia.org/wiki/Thermal_conduction)($q = -k \\nabla{T}$)\n",
    "Denklem (6)'daki sınır integralleri içindeki terim yerine yazmak için kullanabiliriz. Kanadın işlemci ile temas ettiği yerdeki iletimle ısı transfer hızı $s=-k\\nabla{T}|_0$, kanadın ucundaki ısı transfer hızı $g= -k \\nabla{T}|_L$ olarak belirtilirse:\n",
    "\n",
    "$$ \\int_0^L ( \\nabla T kA  \\nabla{v})d\\Omega = \\int_0^L (\\dot{Q})vd\\Omega +(Asv)-(Agv)  \\tag{6} $$\n",
    "\n",
    "\n",
    "Artık Denklem (6)'yı kanattaki sıcaklık dağılımını sonlu elemanlar yöntemiyle bulmak için kullanabiliriz. \n"
   ]
  },
  {
   "cell_type": "markdown",
   "metadata": {},
   "source": [
    "## Sonlu Eleman Modeli\n",
    "\n",
    "$N$'nin baz fonksiyonu olarak tanımlanması halinde sıcaklık vektörü $T \\approx \\sum_{i=1}^n\\mathbf{N}_i\\mathbf{u}_i$, dolayısıyla sıcaklık gradyeni $\\nabla T_i \\approx \\sum_{i=1}^n \\nabla \\mathbf{N}_i \\mathbf{u}_i$ olacaktır. Aynı işlemi test fonksiyonu $v$ için de yaparsak $v_j \\approx \\sum_{j=1}^n \\mathbf{N}_j\\mathbf{c}_j$ ve $\\nabla v_j \\approx \\sum_{j=1}^n \\nabla \\mathbf{N}_j \\mathbf{c}_j$ denklemlerini elde ederiz. Kesit alanı ve ısıl iletkenlik katsayısını sabit kabul edersek ve tanımladığımız son değişkenleri tekrar denklem (6)'nın içine yazarsak:\n",
    "\n",
    "$$ \\left(\\int_0^L kA( {\\sum_{i=1}^n \\nabla\\mathbf{N}_i\\mathbf{u}_i}) ({\\sum_{j=1}^n \\nabla \\mathbf{N}_j \\mathbf{c}_j})d\\Omega\\right) = \\int_0^L \\dot{Q}\\sum_{j=1}^n \\mathbf{N}_j\\mathbf{c}_jd\\Omega +(As\\sum_{j=1}^n \\mathbf{N}_j\\mathbf{c}_j)-(Ag\\sum_{j=1}^n \\mathbf{N}_j\\mathbf{c}_j)  \\tag{7} $$\n",
    "\n",
    "Tekrar düzenlersek:\n",
    "\n",
    "$$ \\sum_{j=1}^n \\sum_{i=1}^n \\mathbf{c}_j \\left(\\int_0^L kA( { \\nabla\\mathbf{N}_i}) ({ \\nabla \\mathbf{N}_j })d\\Omega \\right) \\quad \\mathbf{u}_i = \\sum_{j=1}^n \\mathbf{c}_j \\left(\\int_0^L \\dot{Q} \\mathbf{N}_j\\mathbf{c}_jd\\Omega +(As \\mathbf{N}_j\\mathbf{c}_j)-(Ag \\mathbf{N}_j\\mathbf{c}_j)\\right)  \\tag{8} $$\n",
    "\n",
    "Denklem (8) sonlu elemanlar sistemimizi oluşturmak için gereken matrislerin ve vektörlerin denklemlerini içermektedir. Bu değişkenleri tanımlayacak olursak:\n",
    "\n",
    "$$\n",
    "\\begin{align}\n",
    "\\mathbf{K} &=\\mathbf{K}_{ji} = \\sum_{j=1}^n \\sum_{i=1}^n \\int_0^L kA( \\nabla{\\mathbf{N}_i} \\nabla{\\mathbf{N}_j})d\\Omega \\tag{9} \\\\\n",
    "\\mathbf{u} &= \\sum_{i=1}^n\\mathbf{u}_i \\tag{10} \\\\\n",
    "\\mathbf{f} &=\\mathbf{f}_j = \\sum_{j=1}^n \\int_0^L \\dot{Q}\\mathbf{N}_jd\\Omega +(As\\mathbf{N}_j)-(Ag\\mathbf{N}_j) \\tag{11}\n",
    "\\end{align}\n",
    "$$\n",
    "\n",
    "Belirtilen matrislerle denklem sistemimizi tekrar yazarsak:\n",
    "\n",
    "$$\\mathbf{c}_j\\mathbf{K}\\mathbf{u} = \\mathbf{c}_j \\mathbf{f} $$\n",
    "\n",
    "ya da\n",
    "\n",
    "$$\\mathbf{c}_j (\\mathbf{K}\\mathbf{u}-\\mathbf{f}) = 0 \\tag{12} $$\n",
    "\n",
    "şeklini alır. Burada $\\mathbf{c}_j$ vektörü keyfi olduğu için $\\mathbf{K}\\mathbf{u}-\\mathbf{f}$ değeri $0$ olmalıdır. Dolayısıyla:\n",
    "\n",
    "$$\\mathbf{K}\\mathbf{u} =  \\mathbf{f} \\tag{13} $$\n",
    "\n",
    "ana denklem sistemini elde etmiş oluruz. Eğer bu denklem sistemini $\\mathbf{u}$ vektörü için çözersek sıcaklık dağılımını numerik olarak elde edebiliriz. Ders 4'te gördüğümüz üzere lineer şekil fonksiyonlarının kullanıldığı, uzunluğu $h$ olan  bir eleman için yerel sertlik matrisini \n",
    "\n",
    "$$\\mathbf{k}_e = \\frac{kA}{h}\\begin{bmatrix}\n",
    "1 & -1\\\\\n",
    "-1 & 1\n",
    "\\end{bmatrix}\n",
    "$$\n",
    "\n",
    "ve yerel kuvvet vektörünü \n",
    "\n",
    "$$\n",
    "\\mathbf{f}_e = \\frac{hQ}{2}\\begin{bmatrix}\n",
    "1\\\\1\n",
    "\\end{bmatrix} \n",
    "$$\n",
    "\n",
    "şeklinde tanımlayabiliriz."
   ]
  },
  {
   "cell_type": "markdown",
   "metadata": {},
   "source": [
    "### Kanat Geometrisi ve Fiziksel Parametrelerin Tanımlanması\n",
    "\n",
    "Denklemdeki parametreler için yine işleri kolaylaştırması açısından kanadın tüm fiziksel özelliklerini içeren bir mesh(ağ) sınıfı oluşturalım:"
   ]
  },
  {
   "cell_type": "code",
   "execution_count": 1,
   "metadata": {},
   "outputs": [],
   "source": [
    "import numpy as np\n",
    "\n",
    "class BirBoyutluKanat:\n",
    "    def __init__(self, uzunluk, eleman_sayısı, iletkenlik, yarıçap, Q):\n",
    "        self.L = uzunluk\n",
    "        self.ES = eleman_sayısı\n",
    "        self.k = iletkenlik\n",
    "        self.r = yarıçap\n",
    "        self.Q = Q\n",
    "        \n",
    "        self.NS = eleman_sayısı+1 # nokta sayısı\n",
    "        self.h = uzunluk/eleman_sayısı # eleman uzunluğu\n",
    "        self.koordinatlar = np.linspace(0,uzunluk,self.NS) # ağdaki noktaların koordinatları\n",
    "        self.A = np.pi*self.r**2 # kesit alanı\n",
    "        self.k_e = (self.k*self.A/self.h)*np.array([[1, -1], [-1, 1]]) # yerel rijitlik matrisi \n",
    "        self.f_i = self.Q*self.h*0.5*np.array([1,1]) # yerel kuvvet vektörü"
   ]
  },
  {
   "cell_type": "markdown",
   "metadata": {},
   "source": [
    "### K,u ve f'nin oluşturulması\n",
    "\n",
    "Sertlik matrisi $\\mathbf{K}$'yı bir önceki derste gördüğümüz üzere yerel sertlik matrisini kullanarak kolayca oluşturabiliriz. Öncelikle parametreleri belirtelim ve yukarıdaki yazdığımız sınıfı kullanarak bir kanat geometrisi oluşturalım:"
   ]
  },
  {
   "cell_type": "code",
   "execution_count": 2,
   "metadata": {},
   "outputs": [
    {
     "name": "stdout",
     "output_type": "stream",
     "text": [
      "[100. 100.]\n"
     ]
    }
   ],
   "source": [
    "L = 6 #m\n",
    "n_eleman = 3 \n",
    "k = 5 # J/Cms\n",
    "r = 1.78412411615 #m\n",
    "Q = 100 #J/sm\n",
    "kanat = BirBoyutluKanat(L,n_eleman,k,r,Q)\n",
    "print(kanat.f_i)"
   ]
  },
  {
   "cell_type": "markdown",
   "metadata": {},
   "source": [
    "Şimdi sertlik matrisini oluşturacak fonksiyonu yazıp matrisi oluşturalım:"
   ]
  },
  {
   "cell_type": "code",
   "execution_count": 3,
   "metadata": {},
   "outputs": [
    {
     "name": "stdout",
     "output_type": "stream",
     "text": [
      "[[ 25. -25.   0.   0.]\n",
      " [-25.  50. -25.   0.]\n",
      " [  0. -25.  50. -25.]\n",
      " [  0.   0. -25.  25.]]\n"
     ]
    }
   ],
   "source": [
    "def K_oluştur(mesh):\n",
    "    \n",
    "    K = np.zeros((mesh.NS, mesh.NS))\n",
    "    \n",
    "    for element in range(mesh.ES):\n",
    "        K[element:element + 2, element:element + 2] += mesh.k_e\n",
    "        \n",
    "    return K\n",
    "\n",
    "K0 = K_oluştur(kanat)\n",
    "print(K0)"
   ]
  },
  {
   "cell_type": "markdown",
   "metadata": {},
   "source": [
    "Şimdi de kuvvet vektörü $\\mathbf{f}$'i oluşturalım:"
   ]
  },
  {
   "cell_type": "code",
   "execution_count": 4,
   "metadata": {},
   "outputs": [
    {
     "name": "stdout",
     "output_type": "stream",
     "text": [
      "[100. 200. 200. 100.]\n"
     ]
    }
   ],
   "source": [
    "def f_oluştur(mesh):\n",
    "    \n",
    "    f = np.zeros(mesh.NS)\n",
    "\n",
    "    for element in range(mesh.ES):\n",
    "\n",
    "        f[element:element + 2] += mesh.f_i\n",
    "    \n",
    "    return f\n",
    "\n",
    "f0 = f_oluştur(kanat)\n",
    "print(f0)"
   ]
  },
  {
   "cell_type": "markdown",
   "metadata": {},
   "source": [
    "### Sınır Koşullarının Uygulanması\n",
    "\n",
    "Bu örnek problemde kanadın sol ucu $0$ (C) sıcaklık değerine, sağ ucu ise $15$ (J/m2s) ısı transferi değerine sahiptir. Bu sınır koşullarını uygulamak için tıpkı 4. derste uyguladığımız gibi olabilecek tüm sınır koşulu kombinasyonlarını içeren çok genel bir denklem yazalım:\n",
    "\n",
    "$$\n",
    "\\begin{equation}\n",
    "\\alpha \\frac{dT}{dx}(x) + \\beta T(x) = \\gamma \n",
    "\\end{equation} \\tag{14}\n",
    "$$\n",
    "\n",
    "Bu denklem, $\\alpha$, $\\beta$ ve $\\gamma$ değişkenlerini kullanarak bu problemdeki herhangi bir sınır koşulunu ifade edebilir. İlk olarak sol uçtaki sınır koşulunu yazdığımızda ($T(0)=0$):\n",
    "\n",
    "$$\n",
    "\\begin{equation}\n",
    "\\alpha_0 \\frac{dT}{dx}(0) + \\beta_0 T(0) = \\gamma_0 \\rightarrow  T(0) = 0\n",
    "\\end{equation}\n",
    "$$\n",
    "\n",
    "burada $\\alpha_0=0$, $\\beta_0=1$ ve $\\gamma_0=0$ oldu. Şimdi denklem (14)'ü sağ uçtaki sınır koşulu için yazarsak:\n",
    "\n",
    "$$\n",
    "\\begin{equation}\n",
    "\\alpha_1 \\frac{dT}{dx}(L) + \\beta_1 T(L) = \\gamma_1 \\rightarrow  -5 \\frac{dT}{dx}(L) = 15 \\quad (J/{m^2s})\n",
    "\\end{equation}\n",
    "$$\n",
    "\n",
    "burada ise $\\alpha_1=-5$, $\\beta_1=0$ ve $\\gamma_1=15$ oldu. Bu sınır koşullarını uygulamak için türetilen denklemleri içerecek şekilde $\\mathbf{K}$ matrisini ve $\\mathbf{f}$ vektörünü tekrar gözden geçirmek gerekmektedir:\n",
    "\n",
    "#### K Matrisi\n",
    "\n",
    "Sıcaklık değeri $x=0$ noktasında 0 idi. Bu şartı matrisin ilk satırı ve ilk sütununundaki elemanı üzerinde değişiklik yaparak elde edebiliriz.  \n",
    "\n",
    "Diğer uçta ($x=L$) ise ısı transfer sınır koşulunu ($-k\\frac{dT}{dx}=g$),  matrisin son satırı ve son sütunundaki eleman üzerinde değişiklik yaparak uygulayabiliriz. \n",
    "\n",
    "#### f vektörü\n",
    "\n",
    "$\\mathbf{K}$ matrisininde yaptığımız değişiklere benzere şekilde $\\mathbf{f}$ vektörünün de ilk ve son elemanlarını kullanarak sınır koşullarını uygulayabiliriz.\n",
    "\n",
    "$\\mathbf{K}$ matrisi ve $\\mathbf{f}$ vektörünün değiştirilmesi ile ilgili detaylı bilgi için Becker'in kitabında 80. sayfaya göz atabilirsiniz[1]. \n",
    "\n",
    "Şimdi bu operasyonları yapan fonksiyonu yazalım:"
   ]
  },
  {
   "cell_type": "code",
   "execution_count": 5,
   "metadata": {},
   "outputs": [],
   "source": [
    "alpha = [0,-5]\n",
    "beta  = [1, 0]\n",
    "gamma = [0, 15]\n",
    "\n",
    "def sınır_uygula(mesh,K0,f0,alpha,beta,gamma):\n",
    "    \n",
    "    K_ = K0.copy()\n",
    "    f_ = f0.copy()\n",
    "    for i in range(2):\n",
    "        # ilk ve son elemana ulaşmak için kullanılan indis\n",
    "        indis=-1*i \n",
    "        if alpha[i] == 0:\n",
    "            # 0'a bölerken nümerik problemlerle karşılaşmamak\n",
    "            # için çok küçük bir sayı kullanabiliriz.\n",
    "            alpha_=10e-12\n",
    "        else:\n",
    "            alpha_=alpha[i]\n",
    "            \n",
    "        K_[indis,indis]+= (-1)**(i+1)*beta[i]*mesh.k*mesh.A/alpha_  \n",
    "        f_[indis] += (-1)**(i+1)*gamma[i]*mesh.k*mesh.A/alpha_\n",
    "\n",
    "    return K_,f_\n",
    "\n",
    "K,f = sınır_uygula(kanat,K0,f0,alpha,beta,gamma)"
   ]
  },
  {
   "cell_type": "markdown",
   "metadata": {},
   "source": [
    "Artık denklem sistemimizi çözebiliriz."
   ]
  },
  {
   "cell_type": "markdown",
   "metadata": {},
   "source": [
    "### Denklem Sisteminin Çözülmesi"
   ]
  },
  {
   "cell_type": "markdown",
   "metadata": {},
   "source": [
    "Sıcaklık vektörünü elde etmek için gerekli olan $\\mathbf{K}$ matrisini ve $\\mathbf{f}$ vektörünü yukarıda elde ettik. Artık bunları kullanarak sıcaklık değerlerini elde edebiliriz:"
   ]
  },
  {
   "cell_type": "code",
   "execution_count": 6,
   "metadata": {},
   "outputs": [
    {
     "name": "stdout",
     "output_type": "stream",
     "text": [
      "[-9.0e-11  1.4e+01  2.0e+01  1.8e+01]\n"
     ]
    }
   ],
   "source": [
    "from scipy.linalg import solve\n",
    "u = solve(K,f)\n",
    "print(u)"
   ]
  },
  {
   "cell_type": "markdown",
   "metadata": {},
   "source": [
    "Yukarıdaki problemin analitik çözümü, sınır koşullarını ve ana denklem (3)'ü sağlayan  2.dereceden bir polinom ile elde edilebilir. Bu polinom:\n",
    "$$T(x) = -x^2+9x $$\n",
    "olabilir. Bu analitik çözüm denklem (3)'te yerine konulduğunda, sınır koşulları dahil tüm sistemi sağlayacaktır. Öncelikle bu analitik çözüm için bir dizi oluşturalım: "
   ]
  },
  {
   "cell_type": "code",
   "execution_count": 7,
   "metadata": {},
   "outputs": [],
   "source": [
    "x_analitik = np.linspace(0,kanat.L,100)\n",
    "u_analitik = -x_analitik**2+9*x_analitik"
   ]
  },
  {
   "cell_type": "markdown",
   "metadata": {},
   "source": [
    "Şimdi sonlu elemanlar metodu ile elde ettiğimiz çözüm ile analitik çözümü kıyaslayalım:"
   ]
  },
  {
   "cell_type": "code",
   "execution_count": 8,
   "metadata": {},
   "outputs": [
    {
     "data": {
      "text/plain": [
       "<matplotlib.legend.Legend at 0x7fd983cb5b20>"
      ]
     },
     "execution_count": 8,
     "metadata": {},
     "output_type": "execute_result"
    },
    {
     "data": {
      "image/png": "[encoded data removed]",
      "text/plain": [
       "<Figure size 432x288 with 1 Axes>"
      ]
     },
     "metadata": {
      "needs_background": "light"
     },
     "output_type": "display_data"
    }
   ],
   "source": [
    "import matplotlib.pyplot as plt\n",
    "\n",
    "plt.plot(kanat.koordinatlar,u,label='SE')\n",
    "plt.plot(x_analitik,u_analitik,label='Analitik')\n",
    "plt.legend()"
   ]
  },
  {
   "cell_type": "markdown",
   "metadata": {},
   "source": [
    "Görüldüğü üzere sonlu elemanlar yöntemi ile elde ettiğimiz numerik çözüm, analitik çözümle uyum içindedir. Bu sonucu daha fazla eleman kullanarak iyileştirmek mümkündür."
   ]
  },
  {
   "cell_type": "markdown",
   "metadata": {},
   "source": [
    "### Çözücüyü Geliştirme"
   ]
  },
  {
   "cell_type": "markdown",
   "metadata": {},
   "source": [
    "Daha kullanışlı ve kompakt bir kod yapısı için tüm matris-vektör oluşturma fonksiyonlarımızı ve sınır koşulu parametrelerinizi tek bir fonksiyon içine alalım:"
   ]
  },
  {
   "cell_type": "code",
   "execution_count": 9,
   "metadata": {},
   "outputs": [],
   "source": [
    "def çözücü(mesh,alpha,beta,gamma):\n",
    "    \n",
    "    K0 = K_oluştur(mesh)\n",
    "    f0 = f_oluştur(mesh)\n",
    "    K,f = sınır_uygula(mesh,K0,f0,alpha,beta,gamma)\n",
    "    \n",
    "    u = solve(K,f)\n",
    "    \n",
    "    return u"
   ]
  },
  {
   "cell_type": "markdown",
   "metadata": {},
   "source": [
    "Şimdi daha çok elemana sahip bir ağ için problemimizi tekrar çözelim:"
   ]
  },
  {
   "cell_type": "code",
   "execution_count": 10,
   "metadata": {},
   "outputs": [
    {
     "data": {
      "text/plain": [
       "array([-9.00000e-11,  6.18750e+00,  1.12500e+01,  1.51875e+01,\n",
       "        1.80000e+01,  1.96875e+01,  2.02500e+01,  1.96875e+01,\n",
       "        1.80000e+01])"
      ]
     },
     "execution_count": 10,
     "metadata": {},
     "output_type": "execute_result"
    }
   ],
   "source": [
    "n_eleman2 = 8\n",
    "kanat2 = BirBoyutluKanat(L,n_eleman2,k,r,Q)\n",
    "\n",
    "u2 = çözücü(kanat2,alpha,beta,gamma)\n",
    "u2"
   ]
  },
  {
   "cell_type": "markdown",
   "metadata": {},
   "source": [
    "Sonuçları grafikte tekrar gösterelim:"
   ]
  },
  {
   "cell_type": "code",
   "execution_count": 11,
   "metadata": {},
   "outputs": [
    {
     "data": {
      "text/plain": [
       "<matplotlib.legend.Legend at 0x7fd983ca1790>"
      ]
     },
     "execution_count": 11,
     "metadata": {},
     "output_type": "execute_result"
    },
    {
     "data": {
      "image/png": "[encoded data removed]",
      "text/plain": [
       "<Figure size 432x288 with 1 Axes>"
      ]
     },
     "metadata": {
      "needs_background": "light"
     },
     "output_type": "display_data"
    }
   ],
   "source": [
    "plt.plot(kanat.koordinatlar,u,label='SE-{} eleman'.format(n_eleman))\n",
    "plt.plot(kanat2.koordinatlar,u2,label='SE-{} eleman'.format(n_eleman2))\n",
    "plt.plot(x_analitik,u_analitik,label='Analitik')\n",
    "plt.legend()"
   ]
  },
  {
   "cell_type": "markdown",
   "metadata": {},
   "source": [
    "### Referanslar\n",
    "[1] Becker, E. B., Carey, G. F., & Oden, J. T. (1981). Finite Elements, An Introduction: Volume I. ., 258, 1981."
   ]
  }
 ],
 "metadata": {
  "kernelspec": {
   "display_name": "Python 3",
   "language": "python",
   "name": "python3"
  },
  "language_info": {
   "codemirror_mode": {
    "name": "ipython",
    "version": 3
   },
   "file_extension": ".py",
   "mimetype": "text/x-python",
   "name": "python",
   "nbconvert_exporter": "python",
   "pygments_lexer": "ipython3",
   "version": "3.8.10"
  }
 },
 "nbformat": 4,
 "nbformat_minor": 5
}
