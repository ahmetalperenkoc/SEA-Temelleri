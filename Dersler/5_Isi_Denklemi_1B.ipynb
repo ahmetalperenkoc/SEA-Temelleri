{
 "cells": [
  {
   "cell_type": "markdown",
   "id": "3e8db482",
   "metadata": {},
   "source": [
    "# 1 Boyutlu Isı Transferinin Modellenmesi\n",
    "\n",
    "Batarya ve bilgisayar teknolojilerinden, evde kullandığımız ısıtma/soğutma cihazlarına kadar birçok mühendislik ürününün geliştirilmesinde ısıl analizler oldukça önemlidir. Son yıllarda uygulamalardaki geometriler karmaşıklaşmış ve numerik yöntemlere olan ihtiyaç artmıştır. Bu motivasyonla bu derste basit bir kanat kesiti üzerinden 1 boyutlu ısı transferini sonlu elemanlar metodu ile inceleyeceğiz.\n",
    "\n",
    "## Isı Denklemi\n",
    "\n",
    "En genel haliyle ısı denklemi\n",
    "\n",
    "$$ \\nabla \\cdot k \\nabla{T} +\\dot{q} +\\phi = \\rho c_v \\frac{DT}{Dt} \\tag{1} $$\n",
    "\n",
    "şeklindedir. Burada $T$ sıcaklık vektörünü, $k$ ısıl iletkenlik katsayısını, $\\rho$ yoğunluğu ve $c_v$ sabit hacimde ısı kapasitesini belirtmektedir. Denklemi terim terim inceleyecek olursak:\n",
    "\n",
    "- Sol taraftaki 1. terim ısının iletimini\n",
    "- Sol taraftaki 2. terim aktarılan ısıyı\n",
    "- Sol taraftaki 3. terim viskoz etkileriden dolayı oluşan ısıl kaybı/kazancı\n",
    "- Sağ taraftaki terim sıcaklığın zamana bağlı değişimini\n",
    "\n",
    "modeller. "
   ]
  },
  {
   "cell_type": "markdown",
   "id": "4a57e58b",
   "metadata": {},
   "source": [
    "### 1 Boyutlu Kanatta Isı Transferi\n",
    "\n",
    "<img src=\"Resimler/Ders5/Sekil1.png\" align=\"center\" width= \"600\"/>\n",
    "\n",
    "Şekil 1'de bir bilgisayar işlemcisindeki ısı transfer uygulaması gösterilmiştir. İşlemciler ısı üreten birimler olduğundan bu ısının işlemcilerden uzaklaştırılması gerekmektedir. Bunun için çeşitli uygulamalar mevcuttur. Bunlardan birisi de kanatlı geometrilerle ısı transfer yüzey alanını artırarak işlemciden atılan ısı hızını artırmaktır. Bu uygulamada kanatlardaki ısı dağılımını bilmek, kanat geometrisini ve kullanılacak malzemeyi belirlemek açısından oldukça önemlidir.\n",
    "\n",
    "Biz bu derste sadece iletim yoluyla gerçekleşen ısı transferinin sürekli halini ele alacağız. O halde Denklem (1)'i yeniden düzenleyelim:\n",
    "\n",
    "$$\\require{cancel}$$  \n",
    "\n",
    "$$ \\nabla \\cdot k \\nabla{T} +\\dot{q} +\\cancel{\\phi} = \\cancel{\\rho c_v \\frac{DT}{Dt}} \\tag{2} $$\n",
    "\n",
    "Denklem (2)'yi kesit alanını($\\dot{Q}=qA$) içerecek şekilde düzenleyip yazarsak:\n",
    "\n",
    "$$ \\nabla \\cdot kA \\nabla{T} = -\\dot{Q}  \\tag{3} $$\n",
    "\n",
    "şeklini alır. Şimdi Denklem (3)'ün zayıf formunu türetebiliriz.\n",
    "\n",
    "### Zayıf Formun Türetilmesi\n",
    "\n",
    "Denklem (3)'ü test fonksiyonu $v$ ile çarpıp kanat boyunca($\\Omega$) integralini alalım:\n",
    "\n",
    "$$ \\int_0^L (\\nabla \\cdot (kA \\nabla{T}))v d\\Omega = \\int_0^L (-\\dot{Q})v d\\Omega  \\tag{4} $$\n",
    "\n",
    "Denklem (4)'ün sol tarafı için [kısmi integrasyon](https://en.wikipedia.org/wiki/Integration_by_parts) uygulayabiliriz:\n",
    "\n",
    "$$ \\int_0^L ( \\nabla T kA  \\nabla{v})d\\Omega = \\int_0^L (\\dot{Q})v d\\Omega -(kA \\nabla{T}v)|_0^L  \\tag{5} $$\n",
    "\n",
    "Ayrıca [Fourier'ın ısı iletim denklemini](https://en.wikipedia.org/wiki/Thermal_conduction)($q = -k \\nabla{T}$)\n",
    "Denklem (6)'daki sınır integralleri içindeki terim yerine yazmak için kullanabiliriz. Kanadın işlemci ile temas ettiği yerdeki iletimle ısı transfer hızı $s=-k\\nabla{T}|_0$, kanadın ucundaki ısı transfer hızı $g= -k \\nabla{T}|_L$ olarak belirtilirse:\n",
    "\n",
    "$$ \\int_0^L ( \\nabla T kA  \\nabla{v})d\\Omega = \\int_0^L (\\dot{Q})vd\\Omega +(Asv)-(Agv)  \\tag{6} $$\n",
    "\n",
    "\n",
    "Artık Denklem (6)'yı kanattaki sıcaklık dağılımını sonlu elemanlar yöntemiyle bulmak için kullanabiliriz. \n"
   ]
  },
  {
   "cell_type": "markdown",
   "id": "a792a190",
   "metadata": {},
   "source": [
    "## Sonlu Eleman Modeli\n",
    "\n",
    "$N$'nin baz fonksiyonu olarak tanımlanması halinde sıcaklık vektörü $T \\approx \\mathbf{N}\\mathbf{u}$, dolayısıyla sıcaklık gradyeni $\\nabla T \\approx \\nabla \\mathbf{N} \\mathbf{u}$ olacaktır. Aynı işlemi test fonksiyonu $v$ için de yaparsak $v \\approx \\mathbf{N}\\mathbf{c}$ ve $\\nabla v \\approx \\nabla \\mathbf{N} \\mathbf{c}$ denklemlerini elde ederiz. Kesit alanı ve ısıl iletkenlik katsayısını sabit kabul edersek ve tanımladığımız son değişkenleri tekrar denklem (6)'nın içine yazarsak:\n",
    "\n",
    "$$ \\int_0^L kA( \\nabla{\\mathbf{N}} \\nabla{\\mathbf{N}})d\\Omega \\quad u = \\int_0^L \\dot{Q}\\mathbf{N}d\\Omega +(As\\mathbf{N})-(Ag\\mathbf{N})  \\tag{7} $$\n",
    "\n",
    "Denklem (7) sonlu elemanlar sistemimizi oluşturmak için gereken matrislerin ve vektörlerin denklemlerini içermektedir. Bu değişkenleri tanımlayacak olursak:\n",
    "\n",
    "$$\n",
    "\\begin{align}\n",
    "\\mathbf{K} &= \\int_0^L kA( \\nabla{\\mathbf{N}} \\nabla{\\mathbf{N}})d\\Omega\\\\\n",
    "\\mathbf{u} &= u\\\\\n",
    "\\mathbf{f} &= \\int_0^L \\dot{Q}\\mathbf{N}d\\Omega +(As\\mathbf{N})-(Ag\\mathbf{N})\n",
    "\\end{align}\n",
    "$$\n",
    "\n",
    "Belirtilen matrisler denklem sistemimizi istediğimiz formda oluşturmaktadır:\n",
    "\n",
    "$$\\mathbf{K}\\mathbf{u} = \\mathbf{f}$$\n",
    "\n",
    "Eğer bu denklemi $\\mathbf{u}$ vektörü için çözersek sıcaklık dağılımını numerik olarak elde edebiliriz. Ders 4'te gördüğümüz üzere sadece uzunluğu $h$ olan 1 eleman için yerel sertlik matrisini bu problem için tanımlayacak olursak:\n",
    "\n",
    "$$\\mathbf{k}_e = \\frac{kA}{h}\\begin{bmatrix}\n",
    "1 & -1\\\\\n",
    "-1 & 1\n",
    "\\end{bmatrix} $$\n"
   ]
  },
  {
   "cell_type": "markdown",
   "id": "ff91aba5",
   "metadata": {},
   "source": [
    "### Kanat Geometrisi ve Fiziksel Parametrelerin Tanımlanması\n",
    "\n",
    "Denklemdeki parametreler için yine işleri kolaylaştırması açısından kanadın tüm fiziksel özelliklerini içeren bir mesh(ağ) sınıfı oluşturalım:"
   ]
  },
  {
   "cell_type": "code",
   "execution_count": 1,
   "id": "504e7127",
   "metadata": {},
   "outputs": [],
   "source": [
    "import numpy as np\n",
    "\n",
    "class BirBoyutluKanat:\n",
    "    def __init__(self, uzunluk, eleman_sayısı, iletkenlik, yarıçap, Q, g, s):\n",
    "        self.L = uzunluk\n",
    "        self.ES = eleman_sayısı\n",
    "        self.k = iletkenlik\n",
    "        self.r = yarıçap\n",
    "        self.Q = Q\n",
    "        self.g = g\n",
    "        self.s = s\n",
    "        \n",
    "        self.NS = eleman_sayısı+1 # nokta sayısı\n",
    "        self.h = uzunluk/eleman_sayısı # eleman uzunluğu\n",
    "        self.koordinatlar = np.linspace(0,uzunluk,self.NS) # ağdaki noktaların koordinatları\n",
    "        self.A = np.pi*self.r**2 # kesit alanı\n",
    "        self.k_e = (self.k*self.A/self.h)*np.array([[1, -1], [-1, 1]]) # yerel rijitlik matrisi \n",
    "        self.f_i = self.Q/self.ES # bir elemandaki ısı miktarı"
   ]
  },
  {
   "cell_type": "markdown",
   "id": "484703bf",
   "metadata": {},
   "source": [
    "### K,u ve f'nin oluşturulması\n",
    "\n",
    "Sertlik matrisi $\\mathbf{K}$'yı bir önceki derste gördüğümüz üzere yerel sertlik matrisini kullanarak kolayca oluşturabiliriz. Öncelikle parametreleri belirtelim ve yukarıdaki yazdığımız sınıfı kullanarak bir kanat geometrisi oluşturalım:"
   ]
  },
  {
   "cell_type": "code",
   "execution_count": 2,
   "id": "f32be1a3",
   "metadata": {},
   "outputs": [
    {
     "name": "stdout",
     "output_type": "stream",
     "text": [
      "100.0\n"
     ]
    }
   ],
   "source": [
    "L = 6 #m\n",
    "n_eleman = 3 \n",
    "k = 5 # J/Cms\n",
    "r = 1.78412411615 #m\n",
    "Q = 300 #J/sm\n",
    "g = 15 #J/m2s\n",
    "s = -45 #J/m2s\n",
    "kanat = BirBoyutluKanat(L,n_eleman,k,r,Q,g,s)\n",
    "print(kanat.f_i)"
   ]
  },
  {
   "cell_type": "markdown",
   "id": "7f3d7a1d",
   "metadata": {},
   "source": [
    "Şimdi sertlik matrisini oluşturacak fonksiyonu yazıp matrisi oluşturalım:"
   ]
  },
  {
   "cell_type": "code",
   "execution_count": 3,
   "id": "30ab92a3",
   "metadata": {},
   "outputs": [
    {
     "name": "stdout",
     "output_type": "stream",
     "text": [
      "[[ 25. -25.   0.   0.]\n",
      " [-25.  50. -25.   0.]\n",
      " [  0. -25.  50. -25.]\n",
      " [  0.   0. -25.  25.]]\n"
     ]
    }
   ],
   "source": [
    "def K_oluştur(mesh):\n",
    "    \n",
    "    K = np.zeros((mesh.NS, mesh.NS))\n",
    "    \n",
    "    for element in range(mesh.ES):\n",
    "        K[element:element + 2, element:element + 2] += mesh.k_e\n",
    "        \n",
    "    return K\n",
    "\n",
    "K = K_oluştur(kanat)\n",
    "print(K)"
   ]
  },
  {
   "cell_type": "markdown",
   "id": "df418523",
   "metadata": {},
   "source": [
    "Şimdi de kuvvet vektörü $\\mathbf{f}$'i oluşturmaya çalışalım. Bunun için hem aktarılan ısıyı modelleyen $\\mathbf{f}_{iç}$'i hem de uçlardan transfer edilen ısıyı modelleyen $\\mathbf{f}_{sınır}$'ı oluşturmalıyız:"
   ]
  },
  {
   "cell_type": "code",
   "execution_count": 4,
   "id": "620bb7dc",
   "metadata": {},
   "outputs": [
    {
     "name": "stdout",
     "output_type": "stream",
     "text": [
      "[-350.  200.  200.  -50.]\n"
     ]
    }
   ],
   "source": [
    "def f_oluştur(mesh):\n",
    "    \n",
    "    f_iç = np.zeros(mesh.NS)\n",
    "\n",
    "    for element in range(mesh.ES):\n",
    "\n",
    "        f_iç[element:element + 2] += mesh.f_i\n",
    "    \n",
    "    f_sınır = np.zeros(mesh.NS)\n",
    "    f_sınır[0]  = mesh.s*mesh.A\n",
    "    f_sınır[-1] = -mesh.g*mesh.A\n",
    "    \n",
    "    f = f_iç + f_sınır\n",
    "    \n",
    "    return f\n",
    "\n",
    "f = f_oluştur(kanat)\n",
    "print(f)"
   ]
  },
  {
   "cell_type": "markdown",
   "id": "8b29ee22",
   "metadata": {},
   "source": [
    "### Sınır Koşullarının Uygulanması\n",
    "\n",
    "#### K Matrisi\n",
    "Şimdi sınır koşullarını uygulamak için $\\mathbf{K}$ matrisini ve $\\mathbf{f}$ vektörünü tekrar gözden geçirmek gerekiyor. Sıcaklık değeri $x=0$ noktasında 0 idi. Bu şartı matrisin ilk satırını 0 ile doldurarak sağlayabiliriz. Ayrıca $\\mathbf{u}$ vektörü sonuç vektörü olduğu için ilk elemanları üzerinde değişiklik yapamayız. Bu yüzden $T(0) = 0$ şartını $\\mathbf{K}$ matrisinin ilk sütununun tamamını sıfır yaparak elde edebiliriz. Son olarak, $\\mathbf{K}$ matrisinin ilk satırı ve ilk sütunundaki elemanını matrisin çözümsüz olmasını engellemek için 1 ile doldurmak gerekmektedir. \n",
    "\n",
    "#### f vektörü\n",
    "\n",
    "$\\mathbf{u}$ vektörünün ilk elemanı 0 olacağından, f vektörünün de ilk elemanı çarpımdan dolayı 0 olacaktır.\n",
    "\n",
    "Şimdi bu operasyonları yapan fonksiyonu yazabiliriz:"
   ]
  },
  {
   "cell_type": "code",
   "execution_count": 5,
   "id": "8a530390",
   "metadata": {},
   "outputs": [],
   "source": [
    "def sınır_uygula(K,f):\n",
    "    \n",
    "    K[0, :] = 0.0 # İlk satırı sıfırla\n",
    "    K[:, 0] = 0.0 # İlk sütunu sıfırla\n",
    "    K[0, 0] = 1.0 # T(0)=0 olduğu için K'nin ilk elemanı 1 olmalı\n",
    "    \n",
    "    f[0] = 0.0    # T(0)=0 olduğu için f'nin ilk elemanı 0 olmalı\n",
    "    \n",
    "    return K,f\n",
    "\n",
    "K,f = sınır_uygula(K,f)"
   ]
  },
  {
   "cell_type": "markdown",
   "id": "e123a732",
   "metadata": {},
   "source": [
    "Artık denklem sistemimizi çözebiliriz."
   ]
  },
  {
   "cell_type": "markdown",
   "id": "ac05fe70",
   "metadata": {},
   "source": [
    "### Denklem Sisteminin Çözülmesi"
   ]
  },
  {
   "cell_type": "markdown",
   "id": "c3402c78",
   "metadata": {},
   "source": [
    "Sıcaklık vektörünü elde etmek için gerekli olan $\\mathbf{K}$ matrisini ve $\\mathbf{f}$ vektörünü yukarıda elde ettik. Artık bunları kullanarak sıcaklık değerlerini elde edebiliriz:"
   ]
  },
  {
   "cell_type": "code",
   "execution_count": 6,
   "id": "30c49b53",
   "metadata": {},
   "outputs": [
    {
     "name": "stdout",
     "output_type": "stream",
     "text": [
      "[ 0. 14. 20. 18.]\n"
     ]
    }
   ],
   "source": [
    "from scipy.linalg import solve\n",
    "u = solve(K,f)\n",
    "print(u)"
   ]
  },
  {
   "cell_type": "markdown",
   "id": "8679a0d6",
   "metadata": {},
   "source": [
    "Yukarıdaki problemin analitik çözümü, sınır koşullarını ve ana denklem (3)'ü sağlayan  2.dereceden bir polinom ile elde edilebilir. Bu polinom:\n",
    "$$T(x) = -x^2+9x $$\n",
    "olabilir. Bu analitik çözüm denklem (3)'te yerine konulduğunda, sınır koşulları dahil tüm sistemi sağlayacaktır. Öncelikle bu analitik çözüm için bir dizi oluşturalım: "
   ]
  },
  {
   "cell_type": "code",
   "execution_count": 7,
   "id": "4f62c1b9",
   "metadata": {},
   "outputs": [],
   "source": [
    "x_analitik = np.linspace(0,kanat.L,100)\n",
    "u_analitik = -x_analitik**2+9*x_analitik"
   ]
  },
  {
   "cell_type": "markdown",
   "id": "0163665d",
   "metadata": {},
   "source": [
    "Şimdi sonlu elemanlar metodu ile elde ettiğimiz çözüm ile analitik çözümü kıyaslayalım:"
   ]
  },
  {
   "cell_type": "code",
   "execution_count": 8,
   "id": "e570b64f",
   "metadata": {},
   "outputs": [
    {
     "data": {
      "text/plain": [
       "<matplotlib.legend.Legend at 0x7faa53bce1d0>"
      ]
     },
     "execution_count": 8,
     "metadata": {},
     "output_type": "execute_result"
    },
    {
     "data": {
      "image/png": "[encoded data removed]",
      "text/plain": [
       "<Figure size 640x480 with 1 Axes>"
      ]
     },
     "metadata": {},
     "output_type": "display_data"
    }
   ],
   "source": [
    "import matplotlib.pyplot as plt\n",
    "\n",
    "plt.plot(kanat.koordinatlar,u,label='SE')\n",
    "plt.plot(x_analitik,u_analitik,label='Analitik')\n",
    "plt.legend()"
   ]
  },
  {
   "cell_type": "markdown",
   "id": "32192ba6",
   "metadata": {},
   "source": [
    "Görüldüğü üzere sonlu elemanlar yöntemi ile elde ettiğimiz numerik çözüm, analitik çözümle uyum içindedir. Bu sonucu daha fazla eleman kullanarak iyileştirmek mümkündür."
   ]
  },
  {
   "cell_type": "markdown",
   "id": "f18e517d",
   "metadata": {},
   "source": [
    "### Çözücüyü Geliştirme"
   ]
  },
  {
   "cell_type": "markdown",
   "id": "5f9346df",
   "metadata": {},
   "source": [
    "Daha kullanışlı ve kompakt bir kod yapısı için tüm matris ve vektör oluşturma fonksiyonlarımızı tek bir fonksiyon içine alalım:"
   ]
  },
  {
   "cell_type": "code",
   "execution_count": 9,
   "id": "e124f0c2",
   "metadata": {},
   "outputs": [],
   "source": [
    "def çözücü(mesh):\n",
    "    \n",
    "    K = K_oluştur(mesh)\n",
    "    f = f_oluştur(mesh)\n",
    "    K,f = sınır_uygula(K,f)\n",
    "    \n",
    "    u = solve(K,f)\n",
    "    \n",
    "    return u"
   ]
  },
  {
   "cell_type": "markdown",
   "id": "35f6a046",
   "metadata": {},
   "source": [
    "Şimdi daha çok elemana sahip bir ağ için problemimizi tekrar çözelim:"
   ]
  },
  {
   "cell_type": "code",
   "execution_count": 10,
   "id": "191209ed",
   "metadata": {},
   "outputs": [],
   "source": [
    "n_eleman2 = 8\n",
    "kanat2 = BirBoyutluKanat(L,n_eleman2,k,r,Q,g,s)\n",
    "\n",
    "u2 = çözücü(kanat2) "
   ]
  },
  {
   "cell_type": "markdown",
   "id": "90a0c02b",
   "metadata": {},
   "source": [
    "Sonuçları grafikte tekrar gösterelim:"
   ]
  },
  {
   "cell_type": "code",
   "execution_count": 12,
   "id": "16c0e066",
   "metadata": {},
   "outputs": [
    {
     "data": {
      "text/plain": [
       "<matplotlib.legend.Legend at 0x7fab023fead0>"
      ]
     },
     "execution_count": 12,
     "metadata": {},
     "output_type": "execute_result"
    },
    {
     "data": {
      "image/png": "[encoded data removed]",
      "text/plain": [
       "<Figure size 640x480 with 1 Axes>"
      ]
     },
     "metadata": {},
     "output_type": "display_data"
    }
   ],
   "source": [
    "plt.plot(kanat.koordinatlar,u,label='SE-3 eleman')\n",
    "plt.plot(kanat2.koordinatlar,u2,label='SE-{} eleman'.format(n_eleman2))\n",
    "plt.plot(x_analitik,u_analitik,label='Analitik')\n",
    "plt.legend()"
   ]
  }
 ],
 "metadata": {
  "kernelspec": {
   "display_name": "Python 3 (ipykernel)",
   "language": "python",
   "name": "python3"
  },
  "language_info": {
   "codemirror_mode": {
    "name": "ipython",
    "version": 3
   },
   "file_extension": ".py",
   "mimetype": "text/x-python",
   "name": "python",
   "nbconvert_exporter": "python",
   "pygments_lexer": "ipython3",
   "version": "3.10.6"
  }
 },
 "nbformat": 4,
 "nbformat_minor": 5
}
