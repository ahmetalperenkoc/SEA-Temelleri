{
 "cells": [
  {
   "attachments": {},
   "cell_type": "markdown",
   "id": "aadca489",
   "metadata": {},
   "source": [
    "# Eleman Vektörlerinin Oluşturulması\n",
    "\n",
    "Bu bölümde eleman vektörlerini oluşturacağız. Bir önceki ders 7b'de bu vektörleri denklem (7)'de $\\mathbf{f}$ olarak  ifade etmiştik. Bu vektörleri tekrar yazalım:\n",
    "\n",
    "$$ \\mathbf{f} = \\int_{\\partial \\Omega}\\big(\\mathbf{N}k\\nabla T \\big) \\cdot \\mathbf{n} dS  + \\int_{\\Omega} \\mathbf{N} \\big(h_z T_{\\infty})  d\\Omega = \\mathbf{f}_1 + \\mathbf{f}_2   \\tag{1}$$ \n",
    "\n",
    "Denklem (1)'de görüldüğü üzere 1. ifadenin integrali geometri sınırları boyunca, 2. ifadenin integrali ise geometrinin kendisi üzerinde uygulanıyor. \n",
    "\n",
    "Burada yine başlangıç olarak 3. elemandan başlayalım. Ders 7c'de tanımladığımız şekil fonksiyonlarını ve türevlerini tekrar tanımlayalım:"
   ]
  },
  {
   "cell_type": "code",
   "execution_count": 1,
   "id": "7af7a0e9",
   "metadata": {},
   "outputs": [],
   "source": [
    "import sympy as sp\n",
    "import numpy as np\n",
    "from scipy import integrate\n",
    "from sympy.utilities import lambdify\n",
    "\n",
    "xi = sp.Symbol(\"xi\")\n",
    "eta = sp.Symbol(\"eta\")\n",
    "x_ = sp.symbols(\"x1,x2,x3,x4\")\n",
    "y_ = sp.symbols(\"y1,y2,y3,y4\")\n",
    "şekil = sp.Matrix([(1+xi)*(1+eta)/4,\n",
    "                   (1-xi)*(1+eta)/4,\n",
    "                   (1-xi)*(1-eta)/4,\n",
    "                   (1+xi)*(1-eta)/4])"
   ]
  },
  {
   "cell_type": "code",
   "execution_count": 2,
   "id": "12fa7165",
   "metadata": {},
   "outputs": [],
   "source": [
    "nokta_sayısı = 4\n",
    "\n",
    "gradyen_xi = sp.diff(şekil, xi)\n",
    "gradyen_eta = sp.diff(şekil, eta)\n",
    "\n",
    "gradyen = sp.Matrix([gradyen_eta, gradyen_xi])\n",
    "\n",
    "gradyen = gradyen.reshape(2,4)\n",
    "\n",
    "c_şekil = sp.Matrix([0, 0])\n",
    "for i in range(nokta_sayısı):\n",
    "    c_şekil[0] += x_[i] * şekil[i]\n",
    "    c_şekil[1] += y_[i] * şekil[i]\n",
    "J_sym = c_şekil.jacobian([xi, eta]).T"
   ]
  },
  {
   "attachments": {},
   "cell_type": "markdown",
   "id": "2b465f69",
   "metadata": {},
   "source": [
    "3 numaralı elemanı tekrar göz önüne getirelim:\n",
    "\n",
    "<img src=\"Resimler/Ders7/7d_ElemanMesh.png\" align=\"center\" width= \"600\"/>\n",
    "\n",
    "Ardından elemanın koordinatlarını tekrar tanımlayıp jakobyeni hesaplayalım:"
   ]
  },
  {
   "cell_type": "code",
   "execution_count": 3,
   "id": "8f3865ae",
   "metadata": {},
   "outputs": [
    {
     "data": {
      "text/latex": [
       "$\\displaystyle \\left[\\begin{matrix}\\frac{1}{2} & 0\\\\0 & \\frac{1}{2}\\end{matrix}\\right]$"
      ],
      "text/plain": [
       "Matrix([\n",
       "[1/2,   0],\n",
       "[  0, 1/2]])"
      ]
     },
     "execution_count": 3,
     "metadata": {},
     "output_type": "execute_result"
    }
   ],
   "source": [
    "x_koord = [1,0,0,1] \n",
    "y_koord = [2,2,1,1]\n",
    "\n",
    "J = J_sym\n",
    "for nokta in range(nokta_sayısı):\n",
    "    J = J.subs(x_[nokta],x_koord[nokta]) \n",
    "    J = J.subs(y_[nokta],y_koord[nokta])\n",
    "J"
   ]
  },
  {
   "attachments": {},
   "cell_type": "markdown",
   "id": "ade7a742",
   "metadata": {},
   "source": [
    "### Birinci integralin hesaplanması"
   ]
  },
  {
   "attachments": {},
   "cell_type": "markdown",
   "id": "c549d05d",
   "metadata": {},
   "source": [
    "Öncelikle birinci integrale göz atalım:\n",
    "\n",
    "$$ \\int_{\\partial \\Omega}\\big(\\mathbf{N}k\\nabla T \\big) \\cdot \\mathbf{n} \\ dS = \\int_{\\partial \\Omega}\\mathbf{N}k\\ \\frac{\\partial T}{\\partial \\mathbf{n}} \\ dS. \\tag{2} $$\n",
    "\n",
    "Bu denklemde $k \\partial T/\\partial\\mathbf{n}$ değeri, geometrinin sınırından gerçekleşen ısı transferi hızına ($\\bar{q}$) eşittir. Bulduğumuz bu integrali hesaplarken ders 7b'deki 11 ve 12'inci denklemleri kullanacağız. Öncelikle dikey kenarlardaki sınır koşulunu temsil eden vektörü hesaplayacağımız özdeşliği yazarsak:\n",
    "\n",
    "$$\\int_{-1}^{1}\n",
    "\\begin{bmatrix}\n",
    "N_1 \\\\ N_2 \\\\ N_3 \\\\ N_4\n",
    "\\end{bmatrix}\n",
    "k \n",
    "\\frac{\\partial T}{\\partial \\mathbf{n}}(1, \\eta)\n",
    "\\sqrt{\n",
    "\\Big(\\frac{\\partial x}{\\partial \\xi}\\Big)^2+\n",
    "\\Big(\\frac{\\partial y}{\\partial \\xi}\\Big)^2}\n",
    "d \\eta\n",
    "\\tag{3}\n",
    "$$\n",
    "\n",
    "ifadesini elde ederiz. Görüldüğü üzere integrasyon, sadece $\\eta$ ekseninde gerçekleşmektedir, çünkü $\\xi=1$ olarak sabit tutularak hesaplanmaktadır. Aynı şekilde yatay kenarlardaki sınır koşulunu temsil eden vektörün hesaplanacağı denklem\n",
    "\n",
    "$$\\int_{-1}^{1}\n",
    "\\begin{bmatrix}\n",
    "N_1 \\\\ N_2 \\\\ N_3 \\\\ N_4\n",
    "\\end{bmatrix}\n",
    "k \n",
    "\\frac{\\partial T}{\\partial \\mathbf{n}}(\\xi, 1)\n",
    "\\sqrt{\n",
    "\\Big(\\frac{\\partial x}{\\partial \\eta}\\Big)^2+\n",
    "\\Big(\\frac{\\partial y}{\\partial \\eta}\\Big)^2}\n",
    "d \\xi\n",
    "\\tag{4}\n",
    "$$\n",
    "\n",
    "olarak belirtilir. Burada da farkedileceği üzere integrasyon $\\xi$ ekseninde $\\eta=1$ tutularak hesaplanmaktadır.\n",
    "\n",
    "Son olarak $k \\partial T/\\partial\\mathbf{n}$ ifadesi her iki eksen için ayrı ayrı yazılabilir. 3. eleman için bu değerleri nokta sırasına uygun şekilde $\\xi$ ve $\\eta$ eksenleri için ayrı ayrı yazarsak:"
   ]
  },
  {
   "cell_type": "code",
   "execution_count": 4,
   "id": "ce6424ee",
   "metadata": {
    "scrolled": true
   },
   "outputs": [],
   "source": [
    "q_1 = -500 # W/m2\n",
    "q_2 = -1000 # W/m2\n",
    "\n",
    "q_eta = sp.Matrix([q_1,q_1,0,0])\n",
    "q_xi = sp.Matrix([q_2,0,0,q_2])"
   ]
  },
  {
   "attachments": {},
   "cell_type": "markdown",
   "id": "87b77582",
   "metadata": {},
   "source": [
    "matrislerini elde ederiz. Şimdi denklem (3) ve denklem (4)'ü hesaplayacağımız denklemleri tanımlayabiliriz:"
   ]
  },
  {
   "cell_type": "code",
   "execution_count": 5,
   "id": "57c36ad1",
   "metadata": {},
   "outputs": [],
   "source": [
    "f_e_1_sym_dikey = şekil.multiply_elementwise(q_xi)*sp.sqrt(J[0,0]**2+J[0,1]**2)\n",
    "f_e_1_sym_yatay = şekil.multiply_elementwise(q_eta)*sp.sqrt(J[1,0]**2+J[1,1]**2)\n",
    "\n",
    "f_e_1_sym_dikey = f_e_1_sym_dikey.subs(xi,1) \n",
    "f_e_1_sym_yatay = f_e_1_sym_yatay.subs(eta,1) "
   ]
  },
  {
   "attachments": {},
   "cell_type": "markdown",
   "id": "acaad053",
   "metadata": {},
   "source": [
    "Artık dört nokta için de sınır koşulu değerlerini oluşturan vektörü hesaplayabiliriz:"
   ]
  },
  {
   "cell_type": "code",
   "execution_count": 6,
   "id": "07bd33be",
   "metadata": {},
   "outputs": [
    {
     "data": {
      "text/plain": [
       "array([[-750.],\n",
       "       [-250.],\n",
       "       [   0.],\n",
       "       [-500.]])"
      ]
     },
     "execution_count": 6,
     "metadata": {},
     "output_type": "execute_result"
    }
   ],
   "source": [
    "f_e_1 = np.zeros((nokta_sayısı,1))\n",
    "\n",
    "for i in range(nokta_sayısı):\n",
    "    dikey_fonksiyon = lambdify(eta, f_e_1_sym_dikey[i], 'math' )\n",
    "    yatay_fonksiyon = lambdify( xi, f_e_1_sym_yatay[i], 'math' )\n",
    "    f_e_1[i] += integrate.quad(dikey_fonksiyon, -1, 1)[0]\n",
    "    f_e_1[i] += integrate.quad(yatay_fonksiyon, -1, 1)[0]\n",
    "    \n",
    "f_e_1"
   ]
  },
  {
   "attachments": {},
   "cell_type": "markdown",
   "id": "32f07fcb",
   "metadata": {},
   "source": [
    "### İkinci integralin hesaplanması  "
   ]
  },
  {
   "attachments": {},
   "cell_type": "markdown",
   "id": "d48960cb",
   "metadata": {},
   "source": [
    "Denklem (1)'deki 2. terim olan\n",
    "\n",
    "$$ \\mathbf{f}_2 = \\int_{\\Omega} \\mathbf{N} \\big(h_z T_{\\infty})  d\\Omega $$\n",
    "\n",
    "ifadesinin hesaplanması 1. terime kıyasla daha kolaydır. Bu ıfadeyi de yine izoparametrik eşleme ile yazarsak:\n",
    "\n",
    "$$ \\int_{\\Omega} \\mathbf{N} \\big(h_z T_{\\infty})  d\\Omega = \n",
    "\\int_{\\Omega}\n",
    "h_z T_{\\infty}\n",
    "\\begin{bmatrix}\n",
    "N_1 \\\\ N_2 \\\\ N_3 \\\\ N_4\n",
    "\\end{bmatrix}\n",
    "d\\Omega\n",
    "=\n",
    "\\int_{-1}^1\\int_{-1}^1\n",
    "h_z T_{\\infty}\n",
    "\\begin{bmatrix}\n",
    "N_1 \\\\ N_2 \\\\ N_3 \\\\ N_4\n",
    "\\end{bmatrix}\n",
    "det(\\mathbf{J}) d\\eta d\\xi\n",
    "\\tag{5}\n",
    "$$\n",
    "\n",
    "denklemini elde ederiz. Bu denklemi yine *sympy* ile yazalım:"
   ]
  },
  {
   "cell_type": "code",
   "execution_count": 7,
   "id": "617610dc",
   "metadata": {},
   "outputs": [
    {
     "data": {
      "text/latex": [
       "$\\displaystyle \\left[\\begin{matrix}750.0 \\left(\\eta + 1\\right) \\left(\\xi + 1\\right)\\\\750.0 \\cdot \\left(1 - \\xi\\right) \\left(\\eta + 1\\right)\\\\750.0 \\cdot \\left(1 - \\eta\\right) \\left(1 - \\xi\\right)\\\\750.0 \\cdot \\left(1 - \\eta\\right) \\left(\\xi + 1\\right)\\end{matrix}\\right]$"
      ],
      "text/plain": [
       "Matrix([\n",
       "[750.0*(eta + 1)*(xi + 1)],\n",
       "[750.0*(1 - xi)*(eta + 1)],\n",
       "[750.0*(1 - eta)*(1 - xi)],\n",
       "[750.0*(1 - eta)*(xi + 1)]])"
      ]
     },
     "execution_count": 7,
     "metadata": {},
     "output_type": "execute_result"
    }
   ],
   "source": [
    "h = 10 # W/m2K\n",
    "t_z = 0.05 #m\n",
    "h_z = 2*h/t_z\n",
    "T_sonsuz = 30 # C\n",
    "\n",
    "f_e_2_sym = h_z*T_sonsuz*şekil*J.det()\n",
    "f_e_2_sym"
   ]
  },
  {
   "attachments": {},
   "cell_type": "markdown",
   "id": "0514ecca",
   "metadata": {},
   "source": [
    "Şimdi bu element için taşınımla ısı transferini temsil eden vektörü hesaplayabiliriz:"
   ]
  },
  {
   "cell_type": "code",
   "execution_count": 8,
   "id": "6c6e84c8",
   "metadata": {},
   "outputs": [
    {
     "data": {
      "text/plain": [
       "array([[3000.],\n",
       "       [3000.],\n",
       "       [3000.],\n",
       "       [3000.]])"
      ]
     },
     "execution_count": 8,
     "metadata": {},
     "output_type": "execute_result"
    }
   ],
   "source": [
    "f_e_2 = np.zeros((nokta_sayısı,1))\n",
    "\n",
    "for i in range(nokta_sayısı):\n",
    "    taşınım_fonksiyon = lambdify( (xi,eta), f_e_2_sym[i], 'math' )\n",
    "    f_e_2[i] += integrate.nquad(taşınım_fonksiyon, [[-1, 1],[-1, 1]])[0]\n",
    "\n",
    "f_e_2"
   ]
  },
  {
   "attachments": {},
   "cell_type": "markdown",
   "id": "4800f160",
   "metadata": {},
   "source": [
    "## Sonuç"
   ]
  },
  {
   "attachments": {},
   "cell_type": "markdown",
   "id": "bfd7d092",
   "metadata": {},
   "source": [
    "Tüm bu işlemler ile 3. elemanın eleman iletim ve eleman taşınım matrislerinden sonra sınır koşulu vektörünü ve taşınım vektörünü hesaplamış olduk. Artık tüm sistemi çözümlemek için yapmamız gereken şey, bu işlemleri her bir eleman için tekrarlayıp global matris ve vektörleri oluşturmaktır. Ardından oluşturduğumuz matris sistemini çözümleyerek sıcaklık değerlerini elde edebiliriz. Bir sonraki derste bu aşamayı ele alacağız."
   ]
  }
 ],
 "metadata": {
  "kernelspec": {
   "display_name": "Python 3 (ipykernel)",
   "language": "python",
   "name": "python3"
  },
  "language_info": {
   "codemirror_mode": {
    "name": "ipython",
    "version": 3
   },
   "file_extension": ".py",
   "mimetype": "text/x-python",
   "name": "python",
   "nbconvert_exporter": "python",
   "pygments_lexer": "ipython3",
   "version": "3.10.6"
  }
 },
 "nbformat": 4,
 "nbformat_minor": 5
}
