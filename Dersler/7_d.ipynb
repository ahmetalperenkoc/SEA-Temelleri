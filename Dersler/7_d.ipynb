{
 "cells": [
  {
   "cell_type": "markdown",
   "id": "aadca489",
   "metadata": {},
   "source": [
    "# Element Vektörlerinin Oluşturulması\n",
    "\n",
    "Bu bölümde element vektörlerini oluşturacağız. Bir önceki ders 7b'de bu vektörleri $\\mathbf{f}$ denklem (7)'de ifade etmiştik. Bu vektörleri tekrar yazalım:\n",
    "\n",
    "$$ \\mathbf{f} = \\int_{\\partial \\Omega}\\big(\\mathbf{N}k\\nabla (\\mathbf{N}\\cdot\\mathbf{T})\\big) \\cdot \\mathbf{n} dS  + \\int_{\\Omega} \\mathbf{N} \\big(h_z T_{\\infty})  d\\Omega = \\mathbf{f}_1 + \\mathbf{f}_2   \\tag{1}$$ \n",
    "\n",
    "Denklem (1)'de görüldüğü üzere 1. ifadenin integrali geometri sınırları boyunca, 2. ifadenin integrali ise geometrinin kendisi üzerinde uygulanıyor. \n",
    "\n",
    "Burada yine başlangıç olarak 4. elemandan başlayalım. Ders 7c'de tanımladığımız şekil fonksiyonlarını ve türevlerini tekrar tanımlayalım:"
   ]
  },
  {
   "cell_type": "code",
   "execution_count": 1,
   "id": "7af7a0e9",
   "metadata": {},
   "outputs": [],
   "source": [
    "import sympy as sp\n",
    "import numpy as np\n",
    "from scipy import integrate\n",
    "from sympy.utilities import lambdify\n",
    "\n",
    "xi = sp.Symbol(\"xi\")\n",
    "eta = sp.Symbol(\"eta\")\n",
    "x_ = sp.symbols(\"x1,x2,x3,x4\")\n",
    "y_ = sp.symbols(\"y1,y2,y3,y4\")\n",
    "şekil = sp.Matrix([(1+xi)*(1+eta)/4,\n",
    "                   (1-xi)*(1+eta)/4,\n",
    "                   (1-xi)*(1-eta)/4,\n",
    "                   (1+xi)*(1-eta)/4])"
   ]
  },
  {
   "cell_type": "code",
   "execution_count": 2,
   "id": "12fa7165",
   "metadata": {},
   "outputs": [],
   "source": [
    "nokta_sayısı = 4\n",
    "\n",
    "gradyen_xi = sp.diff(şekil, xi)\n",
    "gradyen_eta = sp.diff(şekil, eta)\n",
    "\n",
    "gradyen = sp.Matrix([gradyen_eta, gradyen_xi])\n",
    "\n",
    "gradyen = gradyen.reshape(2,4)\n",
    "\n",
    "c_şekil = sp.Matrix([0, 0])\n",
    "for i in range(nokta_sayısı):\n",
    "    c_şekil[0] += x_[i] * şekil[i]\n",
    "    c_şekil[1] += y_[i] * şekil[i]\n",
    "J = c_şekil.jacobian([xi, eta]).T"
   ]
  },
  {
   "cell_type": "markdown",
   "id": "2b465f69",
   "metadata": {},
   "source": [
    "4 numaralı elemanı tekrar göz önüne getirelim:\n",
    "\n",
    "<img src=\"Resimler/Ders7/7d_ElemanMesh.png\" align=\"center\" width= \"600\"/>\n",
    "\n",
    "Ardından elemanın koordinatlarını tekrar tanımlayalım:"
   ]
  },
  {
   "cell_type": "code",
   "execution_count": 3,
   "id": "8f3865ae",
   "metadata": {},
   "outputs": [],
   "source": [
    "x_koord = [1,0,0,1] \n",
    "y_koord = [2,2,1,1]\n",
    "    \n",
    "for nokta in range(nokta_sayısı):\n",
    "    J = J.subs(x_[nokta],x_koord[nokta]) \n",
    "    J = J.subs(y_[nokta],y_koord[nokta])"
   ]
  },
  {
   "cell_type": "markdown",
   "id": "ade7a742",
   "metadata": {},
   "source": [
    "### 1. integralin hesaplanması"
   ]
  },
  {
   "cell_type": "markdown",
   "id": "c549d05d",
   "metadata": {},
   "source": [
    "Bu integrali hesaplarken ders 4 ve ders 5'te kullanığımız penaltı metodunu kullanacağız. Bu durumda herhangi bir sınır üzerindeki herhangi bir nokta için aşağıdaki denklem, o noktadaki sınır koşulunu ifade edebilir:\n",
    "\n",
    "$$\n",
    "\\begin{equation}\n",
    "\\alpha \\frac{dT}{dx}(x,y) + \\beta T(x,y) = \\gamma.\n",
    "\\end{equation} \\tag{2}\n",
    "$$"
   ]
  },
  {
   "cell_type": "code",
   "execution_count": 11,
   "id": "ce6424ee",
   "metadata": {},
   "outputs": [
    {
     "data": {
      "text/plain": [
       "array([[-75.],\n",
       "       [-25.],\n",
       "       [  0.],\n",
       "       [-50.]])"
      ]
     },
     "execution_count": 11,
     "metadata": {},
     "output_type": "execute_result"
    }
   ],
   "source": [
    "k = 5 # W/m2.K\n",
    "q_1 = 500 # W/m2\n",
    "q_2 = 1000 # W/m2\n",
    "alpha = [-k,-k,0,-k]\n",
    "gamma = [(q_1+q_2),q_1,0,q_2]\n",
    "\n",
    "\n",
    "t_z = 0.05 # m\n",
    "l = 1 # m\n",
    "A = t_z*l # m2\n",
    "\n",
    "f_e_1 = np.zeros((nokta_sayısı,1))\n",
    "\n",
    "for i in range(nokta_sayısı):\n",
    "    \n",
    "    if alpha[i] == 0:\n",
    "        alpha[i] = 1e-12\n",
    "    \n",
    "    f_e_1[i] += gamma[i]*k*A/alpha[i]\n",
    "\n",
    "f_e_1"
   ]
  },
  {
   "cell_type": "markdown",
   "id": "32f07fcb",
   "metadata": {},
   "source": [
    "### 2. integralin hesaplanması  "
   ]
  },
  {
   "cell_type": "markdown",
   "id": "d48960cb",
   "metadata": {},
   "source": [
    "Denklem (1)'deki 2. terim olan\n",
    "\n",
    "$$ \\mathbf{f}_2 = \\int_{\\Omega} \\mathbf{N} \\big(h_z T_{\\infty})  d\\Omega $$\n",
    "\n",
    "ifadesinin hesaplanması 1. terime kıyasla daha kolaydır. Bu ıfadeyi de yine izoparametrik eşleme ile yazarsak:\n",
    "\n",
    "$$ \\int_{\\Omega} \\mathbf{N} \\big(h_z T_{\\infty})  d\\Omega = \n",
    "\\int_{\\Omega}\n",
    "h_z T_{\\infty}\n",
    "\\begin{bmatrix}\n",
    "N_1 \\\\ N_2 \\\\ N_3 \\\\ N_4\n",
    "\\end{bmatrix}\n",
    "d\\Omega\n",
    "=\n",
    "\\int_{-1}^1\\int_{-1}^1\n",
    "h_z T_{\\infty}\n",
    "\\begin{bmatrix}\n",
    "N_1 \\\\ N_2 \\\\ N_3 \\\\ N_4\n",
    "\\end{bmatrix}\n",
    "det(\\mathbf{J}) d\\eta d\\xi\n",
    "$$\n",
    "\n",
    "denklemini elde ederiz. Bu denklemi yine *sympy* ile yazalım:"
   ]
  },
  {
   "cell_type": "code",
   "execution_count": 5,
   "id": "617610dc",
   "metadata": {},
   "outputs": [
    {
     "data": {
      "text/latex": [
       "$\\displaystyle \\left[\\begin{matrix}750.0 \\left(\\eta + 1\\right) \\left(\\xi + 1\\right)\\\\750.0 \\cdot \\left(1 - \\xi\\right) \\left(\\eta + 1\\right)\\\\750.0 \\cdot \\left(1 - \\eta\\right) \\left(1 - \\xi\\right)\\\\750.0 \\cdot \\left(1 - \\eta\\right) \\left(\\xi + 1\\right)\\end{matrix}\\right]$"
      ],
      "text/plain": [
       "Matrix([\n",
       "[750.0*(eta + 1)*(xi + 1)],\n",
       "[750.0*(1 - xi)*(eta + 1)],\n",
       "[750.0*(1 - eta)*(1 - xi)],\n",
       "[750.0*(1 - eta)*(xi + 1)]])"
      ]
     },
     "execution_count": 5,
     "metadata": {},
     "output_type": "execute_result"
    }
   ],
   "source": [
    "h = 10 # W/m2K\n",
    "t_z = 0.05 #m\n",
    "h_z = 2*h/t_z\n",
    "T_sonsuz = 30 # C\n",
    "\n",
    "f_e_2_sym = h_z*T_sonsuz*şekil*J.det()\n",
    "f_e_2_sym"
   ]
  },
  {
   "cell_type": "code",
   "execution_count": 6,
   "id": "6c6e84c8",
   "metadata": {},
   "outputs": [
    {
     "data": {
      "text/plain": [
       "array([[3000.],\n",
       "       [3000.],\n",
       "       [3000.],\n",
       "       [3000.]])"
      ]
     },
     "execution_count": 6,
     "metadata": {},
     "output_type": "execute_result"
    }
   ],
   "source": [
    "f_e_2 = np.zeros((nokta_sayısı,1))\n",
    "\n",
    "for i in range(nokta_sayısı):\n",
    "    geçici_fonksiyon = lambdify( (xi,eta), f_e_2_sym[i], 'math' )\n",
    "    f_e_2[i] += integrate.nquad(geçici_fonksiyon, [[-1, 1],[-1, 1]])[0]\n",
    "\n",
    "f_e_2"
   ]
  }
 ],
 "metadata": {
  "kernelspec": {
   "display_name": "Python 3 (ipykernel)",
   "language": "python",
   "name": "python3"
  },
  "language_info": {
   "codemirror_mode": {
    "name": "ipython",
    "version": 3
   },
   "file_extension": ".py",
   "mimetype": "text/x-python",
   "name": "python",
   "nbconvert_exporter": "python",
   "pygments_lexer": "ipython3",
   "version": "3.10.6"
  }
 },
 "nbformat": 4,
 "nbformat_minor": 5
}
