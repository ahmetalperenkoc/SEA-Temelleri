{
 "cells": [
  {
   "cell_type": "markdown",
   "metadata": {},
   "source": [
    "# 1 Boyutlu Elastik Bir Çubuğun Eksenel Yük Altında Şekil Değitirmesi\n",
    "Sonlu elemanlar yöntemini uygulamalı olarak anlatabilmek için 1 boyutlu fiziksel bir problemin tanımı ile başlayacağız. Burada inceleyeceğimiz fiziksel problem 1 boyutlu elastik bir çubuğun eksenel yük altında şekil değiştirmesi olacak. Daha basit bir tabir ile bir çubuğun çekme ya da basınç altında uzama ya da kısalma miktarını bulmaya çalışacağız. Problemin olabildiğine anlaşılabilir olması adına, problemi en basit hali ile ele alacağız. \n",
    "\n",
    "Bir ucu serbest diğer ucu duvara sabitlenmiş (ankastre mesnet) bir çubuk Şekil 1'de gösterilmektedir.\n",
    "\n",
    "<img src=\"Resimler/Ders4/Sekil1.png\" align=\"center\" width= \"750\"/>"
   ]
  },
  {
   "cell_type": "markdown",
   "metadata": {},
   "source": [
    "Statik dengede olan bir cismin (yani olduğu yerde sabitçe duran) üzerine etki eden tüm kuvvetlerin toplamının sıfır olduğunu Newton’un ikinci kanunundan dolayı biliyoruz. Bu cismin rastgele bir parçası da cismin kalan kısmından ona aktarılan içsel kuvvetler (cismin parçaları arasındaki etki-tepki kuvvetleri) altında dengede olmalıdır. Şimdi fiziksel problemi oluşturmak için çubuktan keyfi bir “x” noktasından $ \\Delta x $ boyunda bir parça kesip çıkartalım ve serbest cisim diyagramını Şekil 2'deki gibi çizelim. \n",
    "\n",
    "<img src=\"Resimler/Ders4/Sekil2.png\" align=\"center\" width= \"365\"/>"
   ]
  },
  {
   "cell_type": "markdown",
   "metadata": {},
   "source": [
    "Burada parçanın sol yüzündeki içsel kuvveti p(x) ile gösterelim. Yani içsel kuvveti x’in bir fonksiyonu olarak yazalım. Parçanın sağ yüzü sol yüzünden $ \\Delta x $ uzaklıkta olduğu için içsel kuvvet p(x+$ \\Delta x $) olacaktır. Bir de parça yayılı olarak etki eden eksenel bir yük olduğunu düşünelim. En genel çözümü elde edebilmek için yayılı yükün de değişken olabileceğini düşünelim ve x’in fonksiyonu olarak yazalım (b(x)). Küçük olduğunu kabul ettiğimiz $ \\Delta x $  parçasında yayılı yükü yaklaşık olarak sabit ve orta noktadaki değere eşit alabiliriz (b = b(x+$\\Delta x /2$ )). Şimdi Şekil 1’deki pozitif x yönüne göre kuvvetler toplamını yazarsak:\n",
    "\n",
    "$$ \\begin{equation} -p(x) + b(x +\\frac{\\Delta x}{2})\\Delta x + p(x+\\Delta x) = 0. \\tag{1} \\end{equation} $$"
   ]
  },
  {
   "cell_type": "markdown",
   "metadata": {},
   "source": [
    "Denklemi $\\Delta x$ ile böler ve düzenlersek\n",
    "\n",
    "$$ \\begin{equation} \\frac{p(x+\\Delta x)-p(x)}{\\Delta x} + b(x +\\frac{\\Delta x}{2}) = 0. \\tag{2} \\end{equation} $$\n",
    "\n",
    "Denklemin limit durumuna baktığımızda ($ x \\to 0$)\n",
    "\n",
    "$$ \\begin{equation} \\frac{dp}{dx} + b(x) =0. \\tag{3} \\end{equation} $$\n",
    "\n",
    "Şimdi kuvvet (p) ile gerilme ($\\sigma$) arasındaki ilişki yazalım.\n",
    "\n",
    "$$ \\begin{equation} \\sigma(x)=\\frac{p(x)}{A(x)} \\quad \\quad \\textrm{ya da}\\quad \\quad  p(x)=\\sigma (x)A(x) \\tag{4} \\end{equation} $$\n",
    "\n",
    "\n",
    "burada A(x) Şekil 1' de gösterildiği gibi barın kesit alanıdır. Şekil değiştirme ($\\varepsilon$) ile gerilme arasındaki ilişkiyi Hooke kanuna göre yazalım\n",
    "$$ \\begin{equation} \\sigma(x)=E(x) \\varepsilon (x). \\tag{5} \\end{equation} $$\n",
    "\n",
    "Burada E(x) cismin \"elastisite modülü\" olarak geçer ve gerilme ile şekil değiştirme arasındaki oranı belirler. Elastisite modülü bir malzeme özelliğidir ve birimi Pascal cinsindendir. Örneğin çeliğin elastisite modülü 200 GPa'dır. Burada genel bir çözüm elde etmek için kesit alanında olduğu gibi elastisite modülü de x'in fonksiyonu olarak yazılmıştır. \n",
    "\n",
    "Mühendislik şekil değiştirmesi $ \\varepsilon (x) $, cismin uzuma/kısalma miktarının başlangıçtaki boyutana oranıdır. Burada parçanın iki ucunun yer değiştirmeleri arasındaki farkın ($ u(x) - u(x +\\Delta x $)) uzama/kısalma miktarı olduğu anlaşılabilir. Başlangıçtaki uzunluk ($ \\Delta x$) limit durum olan sıfıra götürülürse yer değiştirme-şekil değiştirme arasındaki ilişki aşağıdaki gibi yazılabilir\n",
    "\n",
    "$$ \\begin{equation} \\varepsilon(x)= \\frac{du}{dx}. \\tag{6} \\end{equation} $$ \n",
    "\n",
    "olarak yazılır. Şimdi son olarak 6. denklemi 5. denklemin içine onu da 4. denklemin içine yazarsak\n",
    "\n",
    "$$ \\begin{equation}  p(x)= A(x)E(x)\\frac{du}{dx} \\tag{7} \\end{equation} $$\n",
    "elde edilir. Denklemi basitleştirmek için A(x) ve E(x) sabit alınabilir yani bütün çubuk boyunca kesit alanı ve elastisite modülü sabit kabul edilir. 7. denklem 4. denklemde yerine yazılırsa \n",
    "\n",
    "$$ \\begin{equation} \\frac{d}{dx}\\left(AE\\frac{du}{dx}\\right)+b=0 \\tag{8} \\end{equation} $$\n",
    "elde edilir. Sınır değer problemi elde etmek için denkleminin sınırlarının ve sınır koşullarının biliniyor olması gerekir. İncelemiş olduğumuz problemde $ \\textit{x} $  0 ile $ \\textit{l} $ aralığındadır. Sınır koşulları ise gözlemle  $ x=0 $ ve $ x=l $ noktalarında tanımlanabilir. $ x=0 $'da barın ucuna herhangi bir kuvvet uygulanmadığı ve serbestçe hareket edebildiği için gerilmenin $ \\sigma(x) $ sıfır olduğunu varsayabiliriz. $ x=l $'de bar duvara sabitlendiği için yer değiştirmeyi u(x) 0 kabul edebiliriz. Bu sayede sınır değer problemimiz tamamen tanımlanmış olur ve aşağıdaki gibi ifade edilir."
   ]
  },
  {
   "cell_type": "markdown",
   "metadata": {},
   "source": [
    "$$ \\begin{equation} \\frac{d}{dx}\\left(AE\\frac{du}{dx}\\right)+b=0, \\quad \\quad on \\quad 0 < x < l, \\quad \\sigma(0)=0,\\quad  u(l)=0. \\tag{9} \\end{equation} $$"
   ]
  },
  {
   "cell_type": "markdown",
   "metadata": {},
   "source": [
    "Bu elde etmiş olduğumuz denklem denklemin güçlü formu diye adlandırılır."
   ]
  }
 ],
 "metadata": {
  "kernelspec": {
   "display_name": "Python 3 (ipykernel)",
   "language": "python",
   "name": "python3"
  },
  "language_info": {
   "codemirror_mode": {
    "name": "ipython",
    "version": 3
   },
   "file_extension": ".py",
   "mimetype": "text/x-python",
   "name": "python",
   "nbconvert_exporter": "python",
   "pygments_lexer": "ipython3",
   "version": "3.10.6"
  },
  "vscode": {
   "interpreter": {
    "hash": "a19667b0e222744940110a19ba49966806adbd960294bbbfbb65d00f24fc19e3"
   }
  }
 },
 "nbformat": 4,
 "nbformat_minor": 2
}
